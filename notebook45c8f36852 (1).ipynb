{
 "cells": [
  {
   "cell_type": "markdown",
   "metadata": {
    "_cell_guid": "cae4d0db-fd25-468c-a9d5-bde54f848c5c",
    "_uuid": "6a18e306-abbe-4b31-8432-ba33850bdfb4",
    "papermill": {
     "duration": 0.091781,
     "end_time": "2020-10-09T16:24:12.908827",
     "exception": false,
     "start_time": "2020-10-09T16:24:12.817046",
     "status": "completed"
    },
    "tags": []
   },
   "source": [
    "Introduction\n",
    "\n",
    "For my Capstone project I am trying to look at credit card fraud. The question I am wanting to explore in this project is if machine learning algorithms can learn and predict fraud accuratly with low risk for False Positives and False Negatives. More specifically, can fraud be detected accuratly without mistaking non-fraud cases as fraud. Frequent False Positive results would cause customer satisfaction and retention to be negativly affected while False Negatives would be bad for company profits, reputation, and customer satisfaction.\n",
    "\n",
    "Sub-Population\n",
    "\n",
    "European credit card transactions from 2013.\n",
    "\n",
    "Data Source\n",
    "\n",
    "The data source I will use will be from kaggle.com titled ‘Credit Card Fraud Detection’. The link to the data is below: https://www.kaggle.com/mlg-ulb/creditcardfraud. This dataset contains a list of transactions over two days, where 492 frauds were found out of 284,807 transactions. Although the dataset is unbalanced it presents a unique challenge I have not dealt with yet. The dataset also contains numerical input variables which are the result of PCA transformation. The transformation was done due to confidentiallity issues with personal information so I will not have access to the original data. Only features that have not been transformed are are 'Time' and 'Amount'. The feature \"Class\" is the response variable to fraud with values of [0] for normal and [1] for fraud.\n",
    "\n",
    "Methodology\n",
    "\n",
    "I will first need to address undersampling by identifying the train set with either undersampling, oversampling, or SMOTE techniques. Then I will train the data as a whole with logistic regression, random forest, decision tree, and support vector machine classifiers. I will tune each model and test each with cross validation, accuracy, and recall scores so that I can ensure the models are not overfitting and creating lots of False Positive and False negative results. Based on results of the best two models I will then apply them to the original dataset and test it for accuracy and recall. I will also try to perform ROC and AUC analysis to evaluate data and test thresholds for tuning.\n",
    "\n",
    "If results are poor I will decide either to do feature engineering or perform a different sampling technique from the three mentioned previsouly (Undersampling, Oversampling, and SMOTE) to see if results will be different.\n",
    "\n",
    "Purpose\n",
    "\n",
    "The results of my analysis will be useful to stakeholders for different credit card companies as well as different credit card reporting companies. It will give them insight into what machine learning models are successful in identifying fraud as well as their limitations."
   ]
  },
  {
   "cell_type": "code",
   "execution_count": 1,
   "metadata": {
    "_cell_guid": "76337471-07ad-4f90-a0b6-5ebe53150f69",
    "_uuid": "ae999855-6dc0-4a09-bf5f-ec5741321a3e",
    "execution": {
     "iopub.execute_input": "2020-10-09T16:24:13.100490Z",
     "iopub.status.busy": "2020-10-09T16:24:13.099585Z",
     "iopub.status.idle": "2020-10-09T16:24:13.105332Z",
     "shell.execute_reply": "2020-10-09T16:24:13.106374Z"
    },
    "papermill": {
     "duration": 0.106785,
     "end_time": "2020-10-09T16:24:13.106612",
     "exception": false,
     "start_time": "2020-10-09T16:24:12.999827",
     "status": "completed"
    },
    "scrolled": false,
    "tags": []
   },
   "outputs": [
    {
     "name": "stdout",
     "output_type": "stream",
     "text": [
      "/kaggle/input/creditcardfraud/creditcard.csv\n"
     ]
    }
   ],
   "source": [
    "# This Python 3 environment comes with many helpful analytics libraries installed\n",
    "# It is defined by the kaggle/python Docker image: https://github.com/kaggle/docker-python\n",
    "# For example, here's several helpful packages to load\n",
    "\n",
    "import numpy as np # linear algebra\n",
    "import pandas as pd # data processing, CSV file I/O (e.g. pd.read_csv)\n",
    "\n",
    "# Input data files are available in the read-only \"../input/\" directory\n",
    "# For example, running this (by clicking run or pressing Shift+Enter) will list all files under the input directory\n",
    "\n",
    "import os\n",
    "for dirname, _, filenames in os.walk('/kaggle/input'):\n",
    "    for filename in filenames:\n",
    "        print(os.path.join(dirname, filename))\n",
    "\n",
    "# You can write up to 5GB to the current directory (/kaggle/working/) that gets preserved as output when you create a version using \"Save & Run All\" \n",
    "# You can also write temporary files to /kaggle/temp/, but they won't be saved outside of the current session"
   ]
  },
  {
   "cell_type": "code",
   "execution_count": 2,
   "metadata": {
    "_cell_guid": "ede8988f-00eb-40af-aab4-dc388ac66ad4",
    "_uuid": "f11c4762-14f2-4299-ae45-45e8be1cc73c",
    "execution": {
     "iopub.execute_input": "2020-10-09T16:24:13.302669Z",
     "iopub.status.busy": "2020-10-09T16:24:13.301892Z",
     "iopub.status.idle": "2020-10-09T16:24:13.305068Z",
     "shell.execute_reply": "2020-10-09T16:24:13.304337Z"
    },
    "papermill": {
     "duration": 0.10498,
     "end_time": "2020-10-09T16:24:13.305200",
     "exception": false,
     "start_time": "2020-10-09T16:24:13.200220",
     "status": "completed"
    },
    "scrolled": false,
    "tags": []
   },
   "outputs": [],
   "source": [
    "import pandas as pd\n",
    "import matplotlib.pyplot as plt\n",
    "import numpy as np\n",
    "\n",
    "%matplotlib inline"
   ]
  },
  {
   "cell_type": "code",
   "execution_count": 3,
   "metadata": {
    "_cell_guid": "188bb587-20c8-4fb5-9042-d9e6079ecbe0",
    "_uuid": "3586788e-fa69-404f-92d7-769a4b49251b",
    "execution": {
     "iopub.execute_input": "2020-10-09T16:24:13.505636Z",
     "iopub.status.busy": "2020-10-09T16:24:13.504843Z",
     "iopub.status.idle": "2020-10-09T16:24:25.761275Z",
     "shell.execute_reply": "2020-10-09T16:24:25.760584Z"
    },
    "papermill": {
     "duration": 12.362741,
     "end_time": "2020-10-09T16:24:25.761414",
     "exception": false,
     "start_time": "2020-10-09T16:24:13.398673",
     "status": "completed"
    },
    "scrolled": false,
    "tags": []
   },
   "outputs": [
    {
     "name": "stdout",
     "output_type": "stream",
     "text": [
      "Requirement already satisfied: sklearn in /opt/conda/lib/python3.7/site-packages (0.0)\r\n",
      "Requirement already satisfied: scikit-learn in /opt/conda/lib/python3.7/site-packages (from sklearn) (0.23.2)\r\n",
      "Requirement already satisfied: threadpoolctl>=2.0.0 in /opt/conda/lib/python3.7/site-packages (from scikit-learn->sklearn) (2.1.0)\r\n",
      "Requirement already satisfied: scipy>=0.19.1 in /opt/conda/lib/python3.7/site-packages (from scikit-learn->sklearn) (1.4.1)\r\n",
      "Requirement already satisfied: joblib>=0.11 in /opt/conda/lib/python3.7/site-packages (from scikit-learn->sklearn) (0.14.1)\r\n",
      "Requirement already satisfied: numpy>=1.13.3 in /opt/conda/lib/python3.7/site-packages (from scikit-learn->sklearn) (1.18.5)\r\n"
     ]
    }
   ],
   "source": [
    "#bring in libraries for potential tests to run\n",
    "from sklearn.linear_model import LinearRegression, LogisticRegression, LassoCV, RidgeCV, ElasticNetCV\n",
    "from sklearn.model_selection import train_test_split, cross_val_score, KFold\n",
    "from mpl_toolkits.mplot3d import Axes3D\n",
    "from sklearn.svm import SVC\n",
    "from sklearn.metrics import mean_absolute_error, confusion_matrix, precision_score, recall_score, accuracy_score, precision_recall_curve, auc,roc_auc_score,roc_curve, classification_report\n",
    "from scipy.stats import jarque_bera\n",
    "from scipy.stats import normaltest\n",
    "from scipy.stats import boxcox\n",
    "from sklearn.neighbors import KNeighborsClassifier\n",
    "!pip install sklearn\n",
    "from sklearn import preprocessing, neighbors, ensemble\n",
    "\n",
    "import statsmodels.api as sm\n",
    "from statsmodels.tools.eval_measures import mse, rmse"
   ]
  },
  {
   "cell_type": "markdown",
   "metadata": {
    "_cell_guid": "93fef5ef-9586-4180-9256-627a17931ebe",
    "_uuid": "48e72beb-164f-43ff-8a28-4381a4f4b671",
    "papermill": {
     "duration": 0.093502,
     "end_time": "2020-10-09T16:24:25.947909",
     "exception": false,
     "start_time": "2020-10-09T16:24:25.854407",
     "status": "completed"
    },
    "tags": []
   },
   "source": [
    "# **Download Data**"
   ]
  },
  {
   "cell_type": "code",
   "execution_count": 4,
   "metadata": {
    "_cell_guid": "a9ef1e13-4178-441b-a8a6-25b3b2c5a7f3",
    "_uuid": "c9ef80ec-f324-4eb1-959f-a95c3b9edabf",
    "execution": {
     "iopub.execute_input": "2020-10-09T16:24:26.146196Z",
     "iopub.status.busy": "2020-10-09T16:24:26.145370Z",
     "iopub.status.idle": "2020-10-09T16:24:28.954096Z",
     "shell.execute_reply": "2020-10-09T16:24:28.953369Z"
    },
    "papermill": {
     "duration": 2.912315,
     "end_time": "2020-10-09T16:24:28.954220",
     "exception": false,
     "start_time": "2020-10-09T16:24:26.041905",
     "status": "completed"
    },
    "scrolled": false,
    "tags": []
   },
   "outputs": [
    {
     "data": {
      "text/html": [
       "<div>\n",
       "<style scoped>\n",
       "    .dataframe tbody tr th:only-of-type {\n",
       "        vertical-align: middle;\n",
       "    }\n",
       "\n",
       "    .dataframe tbody tr th {\n",
       "        vertical-align: top;\n",
       "    }\n",
       "\n",
       "    .dataframe thead th {\n",
       "        text-align: right;\n",
       "    }\n",
       "</style>\n",
       "<table border=\"1\" class=\"dataframe\">\n",
       "  <thead>\n",
       "    <tr style=\"text-align: right;\">\n",
       "      <th></th>\n",
       "      <th>Time</th>\n",
       "      <th>V1</th>\n",
       "      <th>V2</th>\n",
       "      <th>V3</th>\n",
       "      <th>V4</th>\n",
       "      <th>V5</th>\n",
       "      <th>V6</th>\n",
       "      <th>V7</th>\n",
       "      <th>V8</th>\n",
       "      <th>V9</th>\n",
       "      <th>...</th>\n",
       "      <th>V21</th>\n",
       "      <th>V22</th>\n",
       "      <th>V23</th>\n",
       "      <th>V24</th>\n",
       "      <th>V25</th>\n",
       "      <th>V26</th>\n",
       "      <th>V27</th>\n",
       "      <th>V28</th>\n",
       "      <th>Amount</th>\n",
       "      <th>Class</th>\n",
       "    </tr>\n",
       "  </thead>\n",
       "  <tbody>\n",
       "    <tr>\n",
       "      <th>0</th>\n",
       "      <td>0.0</td>\n",
       "      <td>-1.359807</td>\n",
       "      <td>-0.072781</td>\n",
       "      <td>2.536347</td>\n",
       "      <td>1.378155</td>\n",
       "      <td>-0.338321</td>\n",
       "      <td>0.462388</td>\n",
       "      <td>0.239599</td>\n",
       "      <td>0.098698</td>\n",
       "      <td>0.363787</td>\n",
       "      <td>...</td>\n",
       "      <td>-0.018307</td>\n",
       "      <td>0.277838</td>\n",
       "      <td>-0.110474</td>\n",
       "      <td>0.066928</td>\n",
       "      <td>0.128539</td>\n",
       "      <td>-0.189115</td>\n",
       "      <td>0.133558</td>\n",
       "      <td>-0.021053</td>\n",
       "      <td>149.62</td>\n",
       "      <td>0</td>\n",
       "    </tr>\n",
       "    <tr>\n",
       "      <th>1</th>\n",
       "      <td>0.0</td>\n",
       "      <td>1.191857</td>\n",
       "      <td>0.266151</td>\n",
       "      <td>0.166480</td>\n",
       "      <td>0.448154</td>\n",
       "      <td>0.060018</td>\n",
       "      <td>-0.082361</td>\n",
       "      <td>-0.078803</td>\n",
       "      <td>0.085102</td>\n",
       "      <td>-0.255425</td>\n",
       "      <td>...</td>\n",
       "      <td>-0.225775</td>\n",
       "      <td>-0.638672</td>\n",
       "      <td>0.101288</td>\n",
       "      <td>-0.339846</td>\n",
       "      <td>0.167170</td>\n",
       "      <td>0.125895</td>\n",
       "      <td>-0.008983</td>\n",
       "      <td>0.014724</td>\n",
       "      <td>2.69</td>\n",
       "      <td>0</td>\n",
       "    </tr>\n",
       "    <tr>\n",
       "      <th>2</th>\n",
       "      <td>1.0</td>\n",
       "      <td>-1.358354</td>\n",
       "      <td>-1.340163</td>\n",
       "      <td>1.773209</td>\n",
       "      <td>0.379780</td>\n",
       "      <td>-0.503198</td>\n",
       "      <td>1.800499</td>\n",
       "      <td>0.791461</td>\n",
       "      <td>0.247676</td>\n",
       "      <td>-1.514654</td>\n",
       "      <td>...</td>\n",
       "      <td>0.247998</td>\n",
       "      <td>0.771679</td>\n",
       "      <td>0.909412</td>\n",
       "      <td>-0.689281</td>\n",
       "      <td>-0.327642</td>\n",
       "      <td>-0.139097</td>\n",
       "      <td>-0.055353</td>\n",
       "      <td>-0.059752</td>\n",
       "      <td>378.66</td>\n",
       "      <td>0</td>\n",
       "    </tr>\n",
       "    <tr>\n",
       "      <th>3</th>\n",
       "      <td>1.0</td>\n",
       "      <td>-0.966272</td>\n",
       "      <td>-0.185226</td>\n",
       "      <td>1.792993</td>\n",
       "      <td>-0.863291</td>\n",
       "      <td>-0.010309</td>\n",
       "      <td>1.247203</td>\n",
       "      <td>0.237609</td>\n",
       "      <td>0.377436</td>\n",
       "      <td>-1.387024</td>\n",
       "      <td>...</td>\n",
       "      <td>-0.108300</td>\n",
       "      <td>0.005274</td>\n",
       "      <td>-0.190321</td>\n",
       "      <td>-1.175575</td>\n",
       "      <td>0.647376</td>\n",
       "      <td>-0.221929</td>\n",
       "      <td>0.062723</td>\n",
       "      <td>0.061458</td>\n",
       "      <td>123.50</td>\n",
       "      <td>0</td>\n",
       "    </tr>\n",
       "    <tr>\n",
       "      <th>4</th>\n",
       "      <td>2.0</td>\n",
       "      <td>-1.158233</td>\n",
       "      <td>0.877737</td>\n",
       "      <td>1.548718</td>\n",
       "      <td>0.403034</td>\n",
       "      <td>-0.407193</td>\n",
       "      <td>0.095921</td>\n",
       "      <td>0.592941</td>\n",
       "      <td>-0.270533</td>\n",
       "      <td>0.817739</td>\n",
       "      <td>...</td>\n",
       "      <td>-0.009431</td>\n",
       "      <td>0.798278</td>\n",
       "      <td>-0.137458</td>\n",
       "      <td>0.141267</td>\n",
       "      <td>-0.206010</td>\n",
       "      <td>0.502292</td>\n",
       "      <td>0.219422</td>\n",
       "      <td>0.215153</td>\n",
       "      <td>69.99</td>\n",
       "      <td>0</td>\n",
       "    </tr>\n",
       "  </tbody>\n",
       "</table>\n",
       "<p>5 rows × 31 columns</p>\n",
       "</div>"
      ],
      "text/plain": [
       "   Time        V1        V2        V3        V4        V5        V6        V7  \\\n",
       "0   0.0 -1.359807 -0.072781  2.536347  1.378155 -0.338321  0.462388  0.239599   \n",
       "1   0.0  1.191857  0.266151  0.166480  0.448154  0.060018 -0.082361 -0.078803   \n",
       "2   1.0 -1.358354 -1.340163  1.773209  0.379780 -0.503198  1.800499  0.791461   \n",
       "3   1.0 -0.966272 -0.185226  1.792993 -0.863291 -0.010309  1.247203  0.237609   \n",
       "4   2.0 -1.158233  0.877737  1.548718  0.403034 -0.407193  0.095921  0.592941   \n",
       "\n",
       "         V8        V9  ...       V21       V22       V23       V24       V25  \\\n",
       "0  0.098698  0.363787  ... -0.018307  0.277838 -0.110474  0.066928  0.128539   \n",
       "1  0.085102 -0.255425  ... -0.225775 -0.638672  0.101288 -0.339846  0.167170   \n",
       "2  0.247676 -1.514654  ...  0.247998  0.771679  0.909412 -0.689281 -0.327642   \n",
       "3  0.377436 -1.387024  ... -0.108300  0.005274 -0.190321 -1.175575  0.647376   \n",
       "4 -0.270533  0.817739  ... -0.009431  0.798278 -0.137458  0.141267 -0.206010   \n",
       "\n",
       "        V26       V27       V28  Amount  Class  \n",
       "0 -0.189115  0.133558 -0.021053  149.62      0  \n",
       "1  0.125895 -0.008983  0.014724    2.69      0  \n",
       "2 -0.139097 -0.055353 -0.059752  378.66      0  \n",
       "3 -0.221929  0.062723  0.061458  123.50      0  \n",
       "4  0.502292  0.219422  0.215153   69.99      0  \n",
       "\n",
       "[5 rows x 31 columns]"
      ]
     },
     "execution_count": 4,
     "metadata": {},
     "output_type": "execute_result"
    }
   ],
   "source": [
    "data = pd.read_csv(\"/kaggle/input/creditcardfraud/creditcard.csv\")\n",
    "data.head()"
   ]
  },
  {
   "cell_type": "code",
   "execution_count": 5,
   "metadata": {
    "_cell_guid": "5c90bbc4-d7ec-4917-8706-3396237a092d",
    "_uuid": "7313d958-de1f-4754-8e94-9f46060e60ce",
    "execution": {
     "iopub.execute_input": "2020-10-09T16:24:29.149228Z",
     "iopub.status.busy": "2020-10-09T16:24:29.148245Z",
     "iopub.status.idle": "2020-10-09T16:24:29.151758Z",
     "shell.execute_reply": "2020-10-09T16:24:29.152370Z"
    },
    "papermill": {
     "duration": 0.103631,
     "end_time": "2020-10-09T16:24:29.152534",
     "exception": false,
     "start_time": "2020-10-09T16:24:29.048903",
     "status": "completed"
    },
    "scrolled": false,
    "tags": []
   },
   "outputs": [
    {
     "name": "stdout",
     "output_type": "stream",
     "text": [
      "(284807, 31)\n"
     ]
    }
   ],
   "source": [
    "# Checking the size of our data (rows, columns)\n",
    "print(data.shape)"
   ]
  },
  {
   "cell_type": "markdown",
   "metadata": {
    "_cell_guid": "bdff05a9-6f75-41d8-8ecc-723fbb0c3553",
    "_uuid": "61568932-a006-463f-b310-d75c7df7a8a0",
    "papermill": {
     "duration": 0.095246,
     "end_time": "2020-10-09T16:24:29.344910",
     "exception": false,
     "start_time": "2020-10-09T16:24:29.249664",
     "status": "completed"
    },
    "tags": []
   },
   "source": [
    "Since there are only 31 columns we can do df.info() to find out more information about df."
   ]
  },
  {
   "cell_type": "code",
   "execution_count": 6,
   "metadata": {
    "_cell_guid": "81f816a0-430a-4821-b680-776214cfe7f0",
    "_uuid": "12d92d6e-d5d2-4baf-87a5-e06ffdcc5d5f",
    "execution": {
     "iopub.execute_input": "2020-10-09T16:24:29.538786Z",
     "iopub.status.busy": "2020-10-09T16:24:29.538029Z",
     "iopub.status.idle": "2020-10-09T16:24:29.580725Z",
     "shell.execute_reply": "2020-10-09T16:24:29.579592Z"
    },
    "papermill": {
     "duration": 0.14195,
     "end_time": "2020-10-09T16:24:29.580907",
     "exception": false,
     "start_time": "2020-10-09T16:24:29.438957",
     "status": "completed"
    },
    "scrolled": false,
    "tags": []
   },
   "outputs": [
    {
     "name": "stdout",
     "output_type": "stream",
     "text": [
      "<class 'pandas.core.frame.DataFrame'>\n",
      "RangeIndex: 284807 entries, 0 to 284806\n",
      "Data columns (total 31 columns):\n",
      " #   Column  Non-Null Count   Dtype  \n",
      "---  ------  --------------   -----  \n",
      " 0   Time    284807 non-null  float64\n",
      " 1   V1      284807 non-null  float64\n",
      " 2   V2      284807 non-null  float64\n",
      " 3   V3      284807 non-null  float64\n",
      " 4   V4      284807 non-null  float64\n",
      " 5   V5      284807 non-null  float64\n",
      " 6   V6      284807 non-null  float64\n",
      " 7   V7      284807 non-null  float64\n",
      " 8   V8      284807 non-null  float64\n",
      " 9   V9      284807 non-null  float64\n",
      " 10  V10     284807 non-null  float64\n",
      " 11  V11     284807 non-null  float64\n",
      " 12  V12     284807 non-null  float64\n",
      " 13  V13     284807 non-null  float64\n",
      " 14  V14     284807 non-null  float64\n",
      " 15  V15     284807 non-null  float64\n",
      " 16  V16     284807 non-null  float64\n",
      " 17  V17     284807 non-null  float64\n",
      " 18  V18     284807 non-null  float64\n",
      " 19  V19     284807 non-null  float64\n",
      " 20  V20     284807 non-null  float64\n",
      " 21  V21     284807 non-null  float64\n",
      " 22  V22     284807 non-null  float64\n",
      " 23  V23     284807 non-null  float64\n",
      " 24  V24     284807 non-null  float64\n",
      " 25  V25     284807 non-null  float64\n",
      " 26  V26     284807 non-null  float64\n",
      " 27  V27     284807 non-null  float64\n",
      " 28  V28     284807 non-null  float64\n",
      " 29  Amount  284807 non-null  float64\n",
      " 30  Class   284807 non-null  int64  \n",
      "dtypes: float64(30), int64(1)\n",
      "memory usage: 67.4 MB\n"
     ]
    }
   ],
   "source": [
    "data.info()"
   ]
  },
  {
   "cell_type": "markdown",
   "metadata": {
    "_cell_guid": "633b4fd2-2937-4d43-b784-97eb57c2ca04",
    "_uuid": "7d4c70d9-500c-492d-aa33-9d6e8360599e",
    "papermill": {
     "duration": 0.096433,
     "end_time": "2020-10-09T16:24:29.775208",
     "exception": false,
     "start_time": "2020-10-09T16:24:29.678775",
     "status": "completed"
    },
    "tags": []
   },
   "source": [
    "Every column appears to have the same amount of data so there are probably are no null or scoreless values. Lets check to confirm."
   ]
  },
  {
   "cell_type": "code",
   "execution_count": 7,
   "metadata": {
    "_cell_guid": "571c8f6e-db42-4bea-a915-95a84b6cc4d8",
    "_uuid": "844a9388-9b31-4306-b4da-f860d41f396a",
    "execution": {
     "iopub.execute_input": "2020-10-09T16:24:29.969603Z",
     "iopub.status.busy": "2020-10-09T16:24:29.968766Z",
     "iopub.status.idle": "2020-10-09T16:24:29.994736Z",
     "shell.execute_reply": "2020-10-09T16:24:29.994009Z"
    },
    "papermill": {
     "duration": 0.124603,
     "end_time": "2020-10-09T16:24:29.994867",
     "exception": false,
     "start_time": "2020-10-09T16:24:29.870264",
     "status": "completed"
    },
    "scrolled": false,
    "tags": []
   },
   "outputs": [
    {
     "data": {
      "text/plain": [
       "Time      0.0\n",
       "V1        0.0\n",
       "V2        0.0\n",
       "V3        0.0\n",
       "V4        0.0\n",
       "V5        0.0\n",
       "V6        0.0\n",
       "V7        0.0\n",
       "V8        0.0\n",
       "V9        0.0\n",
       "V10       0.0\n",
       "V11       0.0\n",
       "V12       0.0\n",
       "V13       0.0\n",
       "V14       0.0\n",
       "V15       0.0\n",
       "V16       0.0\n",
       "V17       0.0\n",
       "V18       0.0\n",
       "V19       0.0\n",
       "V20       0.0\n",
       "V21       0.0\n",
       "V22       0.0\n",
       "V23       0.0\n",
       "V24       0.0\n",
       "V25       0.0\n",
       "V26       0.0\n",
       "V27       0.0\n",
       "V28       0.0\n",
       "Amount    0.0\n",
       "Class     0.0\n",
       "dtype: float64"
      ]
     },
     "execution_count": 7,
     "metadata": {},
     "output_type": "execute_result"
    }
   ],
   "source": [
    "# find percent missing values\n",
    "data.isna().mean()"
   ]
  },
  {
   "cell_type": "code",
   "execution_count": 8,
   "metadata": {
    "execution": {
     "iopub.execute_input": "2020-10-09T16:24:30.194597Z",
     "iopub.status.busy": "2020-10-09T16:24:30.193813Z",
     "iopub.status.idle": "2020-10-09T16:24:31.578097Z",
     "shell.execute_reply": "2020-10-09T16:24:31.577355Z"
    },
    "papermill": {
     "duration": 1.487214,
     "end_time": "2020-10-09T16:24:31.578227",
     "exception": false,
     "start_time": "2020-10-09T16:24:30.091013",
     "status": "completed"
    },
    "tags": []
   },
   "outputs": [
    {
     "data": {
      "text/plain": [
       "<matplotlib.axes._subplots.AxesSubplot at 0x7f904cc10d10>"
      ]
     },
     "execution_count": 8,
     "metadata": {},
     "output_type": "execute_result"
    },
    {
     "data": {
      "image/png": "[encoded data removed]",
      "text/plain": [
       "<Figure size 1080x864 with 2 Axes>"
      ]
     },
     "metadata": {
      "needs_background": "light"
     },
     "output_type": "display_data"
    }
   ],
   "source": [
    "import seaborn as sns\n",
    "# Calculate correlations\n",
    "corr = data.corr()\n",
    "# Heatmap\n",
    "fig, ax = plt.subplots(figsize=(15,12))\n",
    "plt.rcParams['font.size'] = 14\n",
    "ax.set_title('Correlations of Credit Card Fraud')\n",
    " \n",
    "sns.heatmap(corr, ax = ax, cmap = 'coolwarm')"
   ]
  },
  {
   "cell_type": "code",
   "execution_count": 9,
   "metadata": {
    "_cell_guid": "45354d70-f596-42d5-9f74-1c734bbb8bd5",
    "_uuid": "4e142fc1-8128-4dc5-b54b-b4c76986effc",
    "execution": {
     "iopub.execute_input": "2020-10-09T16:24:31.781496Z",
     "iopub.status.busy": "2020-10-09T16:24:31.780472Z",
     "iopub.status.idle": "2020-10-09T16:24:31.930709Z",
     "shell.execute_reply": "2020-10-09T16:24:31.930007Z"
    },
    "papermill": {
     "duration": 0.255119,
     "end_time": "2020-10-09T16:24:31.930852",
     "exception": false,
     "start_time": "2020-10-09T16:24:31.675733",
     "status": "completed"
    },
    "scrolled": false,
    "tags": []
   },
   "outputs": [
    {
     "name": "stdout",
     "output_type": "stream",
     "text": [
      "Class 0: 284315\n",
      "Class 1: 492\n",
      "Proportion: 577.88 : 1\n"
     ]
    },
    {
     "data": {
      "image/png": "[encoded data removed]",
      "text/plain": [
       "<Figure size 432x288 with 1 Axes>"
      ]
     },
     "metadata": {
      "needs_background": "light"
     },
     "output_type": "display_data"
    }
   ],
   "source": [
    "target_count = data.Class.value_counts()\n",
    "print('Class 0:', target_count[0])\n",
    "print('Class 1:', target_count[1])\n",
    "print('Proportion:', round(target_count[0] / target_count[1], 2), ': 1')\n",
    "\n",
    "target_count.plot(kind='bar', title='Count (Class)');"
   ]
  },
  {
   "cell_type": "code",
   "execution_count": 10,
   "metadata": {
    "_cell_guid": "e50148e6-ddfc-4d60-87b4-1b887c4029c6",
    "_uuid": "b6c7c6f1-034f-4ced-a7d7-1f8104f62b54",
    "execution": {
     "iopub.execute_input": "2020-10-09T16:24:32.137401Z",
     "iopub.status.busy": "2020-10-09T16:24:32.136302Z",
     "iopub.status.idle": "2020-10-09T16:24:32.164053Z",
     "shell.execute_reply": "2020-10-09T16:24:32.164778Z"
    },
    "papermill": {
     "duration": 0.134295,
     "end_time": "2020-10-09T16:24:32.164961",
     "exception": false,
     "start_time": "2020-10-09T16:24:32.030666",
     "status": "completed"
    },
    "scrolled": false,
    "tags": []
   },
   "outputs": [
    {
     "data": {
      "text/plain": [
       "0    99.827251\n",
       "1     0.172749\n",
       "Name: Class, dtype: float64"
      ]
     },
     "execution_count": 10,
     "metadata": {},
     "output_type": "execute_result"
    }
   ],
   "source": [
    "data['Class'].value_counts(normalize=True) * 100"
   ]
  },
  {
   "cell_type": "markdown",
   "metadata": {
    "_cell_guid": "958de325-1093-4ea9-a47a-54c4b49554d8",
    "_uuid": "84197b12-a73b-4d2f-a987-827876832c84",
    "papermill": {
     "duration": 0.099655,
     "end_time": "2020-10-09T16:24:32.364366",
     "exception": false,
     "start_time": "2020-10-09T16:24:32.264711",
     "status": "completed"
    },
    "tags": []
   },
   "source": [
    "First glance this dataset does not have significant collinearity issues but it does have a large data imbalance with 99.82% of the dataset not resulting in credit card fraud. Running any models in the current state would result in overfitting. Therefore we need to think of ways to deal with the data imbalance.\n",
    "\n",
    "* Collect more data? Nice strategy but not applicable in this case\n",
    "* Changing the performance metric:\n",
    "    * Use the confusion matrix to calculate Precision, Recall\n",
    "    * F1score (weighted average of precision recall)\n",
    "    * ROC curves - calculates sensitivity/specificity ratio.\n",
    "* Resampling the dataset\n",
    "    * One way to achieve this is by OVER-sampling or UNDER-sampling.  OVER-sampling is adding copies of the under-represented class(Class [1]) (Ideally when you have little data).\n",
    "    * UNDER-sampling is where you delete instances from the over-represented class(class [0]) (better when he have lot's of data)."
   ]
  },
  {
   "cell_type": "markdown",
   "metadata": {
    "_cell_guid": "e8ac5d2d-e522-4b8f-926d-c1539014069b",
    "_uuid": "2d387271-9c51-4684-a27b-86298fc6b4d3",
    "papermill": {
     "duration": 0.09834,
     "end_time": "2020-10-09T16:24:32.561701",
     "exception": false,
     "start_time": "2020-10-09T16:24:32.463361",
     "status": "completed"
    },
    "tags": []
   },
   "source": [
    "# **Approach**"
   ]
  },
  {
   "cell_type": "markdown",
   "metadata": {
    "_cell_guid": "5ed17a45-2e2e-4af1-82c0-f3bd581e16ae",
    "_uuid": "4555841c-a07a-4261-9b1a-7f22808ab7a3",
    "papermill": {
     "duration": 0.132002,
     "end_time": "2020-10-09T16:24:32.793558",
     "exception": false,
     "start_time": "2020-10-09T16:24:32.661556",
     "status": "completed"
    },
    "tags": []
   },
   "source": [
    "1. Feature engineering is not necessary to start with as the dataset has been downgraded to contain 30 features and PCA transformation has been performed for all columns accept \"Time\" and \"Amount\".\n",
    "\n",
    "2. Because of data imbalance it would be worth testing and comparing models before and after resampling to see the difference. Simple logistic regression, decision tree, random forest, gradiant boosting, and support vector machine classifiers will be used. \n",
    "\n",
    "3. Evaluate above models in previous step with performance metrics. Best two on the training set (determined by cross validation, accuracy, and recall) will be applied to test set (entire dataset).\n",
    "\n",
    "4. Repeat best resampling/not resampling method, by tuning the parameters in the logistic regression classifier\n",
    "\n",
    "5. Repeat steps 1-3 after removing some less impactful features to see if results are different"
   ]
  },
  {
   "cell_type": "markdown",
   "metadata": {
    "_cell_guid": "3b50ae9f-9108-48ac-82d5-fbf5a9a1f6ce",
    "_uuid": "90d4176c-677c-44fa-b0d6-dd8a190f5cbb",
    "papermill": {
     "duration": 0.09992,
     "end_time": "2020-10-09T16:24:33.009011",
     "exception": false,
     "start_time": "2020-10-09T16:24:32.909091",
     "status": "completed"
    },
    "tags": []
   },
   "source": [
    "# **Setting our input and target variables + resampling.**"
   ]
  },
  {
   "cell_type": "markdown",
   "metadata": {
    "_cell_guid": "e3464a6a-6492-4d9d-83c4-04027592da22",
    "_uuid": "068e2bfc-5f67-403b-a4e2-933de9d1a61c",
    "papermill": {
     "duration": 0.156242,
     "end_time": "2020-10-09T16:24:33.271074",
     "exception": false,
     "start_time": "2020-10-09T16:24:33.114832",
     "status": "completed"
    },
    "tags": []
   },
   "source": [
    "**Testing and training models on entire dataset to emphasize overfitting problem**"
   ]
  },
  {
   "cell_type": "code",
   "execution_count": 11,
   "metadata": {
    "_cell_guid": "2dfecb9d-7bd4-4c2e-baca-168a0ca2c871",
    "_uuid": "0adda221-a9a4-4de9-a3b7-ac405c17efe9",
    "execution": {
     "iopub.execute_input": "2020-10-09T16:24:33.480031Z",
     "iopub.status.busy": "2020-10-09T16:24:33.479195Z",
     "iopub.status.idle": "2020-10-09T16:25:21.430163Z",
     "shell.execute_reply": "2020-10-09T16:25:21.431302Z"
    },
    "papermill": {
     "duration": 48.060906,
     "end_time": "2020-10-09T16:25:21.431545",
     "exception": false,
     "start_time": "2020-10-09T16:24:33.370639",
     "status": "completed"
    },
    "scrolled": false,
    "tags": []
   },
   "outputs": [
    {
     "name": "stdout",
     "output_type": "stream",
     "text": [
      "Accuracy: 99.96%\n"
     ]
    }
   ],
   "source": [
    "from xgboost import XGBClassifier\n",
    "from sklearn.model_selection import train_test_split\n",
    "from sklearn.metrics import accuracy_score\n",
    "\n",
    "# Remove 'id' and 'target' columns\n",
    "labels = data.drop(['Class'], axis=1)\n",
    "\n",
    "X = labels\n",
    "y = data['Class']\n",
    "\n",
    "X_train, X_test, y_train, y_test = train_test_split(X, y, test_size=0.2, random_state=1)\n",
    "\n",
    "model = XGBClassifier()\n",
    "model.fit(X_train, y_train)\n",
    "y_pred = model.predict(X_test)\n",
    "\n",
    "accuracy = accuracy_score(y_test, y_pred)\n",
    "print(\"Accuracy: %.2f%%\" % (accuracy * 100.0))"
   ]
  },
  {
   "cell_type": "code",
   "execution_count": 12,
   "metadata": {
    "_cell_guid": "d72ab510-8680-4f4e-b893-de9057061a1c",
    "_uuid": "3ae91167-688d-4cd2-be20-e8bcaaa4f7f6",
    "execution": {
     "iopub.execute_input": "2020-10-09T16:25:21.649807Z",
     "iopub.status.busy": "2020-10-09T16:25:21.648659Z",
     "iopub.status.idle": "2020-10-09T16:25:29.842985Z",
     "shell.execute_reply": "2020-10-09T16:25:29.843748Z"
    },
    "papermill": {
     "duration": 8.303162,
     "end_time": "2020-10-09T16:25:29.843994",
     "exception": false,
     "start_time": "2020-10-09T16:25:21.540832",
     "status": "completed"
    },
    "scrolled": false,
    "tags": []
   },
   "outputs": [
    {
     "name": "stdout",
     "output_type": "stream",
     "text": [
      "Accuracy: 99.85%\n"
     ]
    }
   ],
   "source": [
    "model = XGBClassifier()\n",
    "model.fit(X_train[['V28']], y_train)\n",
    "y_pred = model.predict(X_test[['V28']])\n",
    "\n",
    "accuracy = accuracy_score(y_test, y_pred)\n",
    "print(\"Accuracy: %.2f%%\" % (accuracy * 100.0))"
   ]
  },
  {
   "cell_type": "code",
   "execution_count": 13,
   "metadata": {
    "_cell_guid": "cd379511-67e8-4c03-acb2-07a883dce84f",
    "_uuid": "873cdea0-449b-4cab-a5ca-d53ba3e3ff66",
    "execution": {
     "iopub.execute_input": "2020-10-09T16:25:30.090268Z",
     "iopub.status.busy": "2020-10-09T16:25:30.086771Z",
     "iopub.status.idle": "2020-10-09T16:26:15.951042Z",
     "shell.execute_reply": "2020-10-09T16:26:15.948854Z"
    },
    "papermill": {
     "duration": 45.983429,
     "end_time": "2020-10-09T16:26:15.951233",
     "exception": false,
     "start_time": "2020-10-09T16:25:29.967804",
     "status": "completed"
    },
    "scrolled": false,
    "tags": []
   },
   "outputs": [
    {
     "name": "stdout",
     "output_type": "stream",
     "text": [
      "Confusion matrix:\n",
      " [[56872     3]\n",
      " [   19    68]]\n"
     ]
    },
    {
     "data": {
      "image/png": "[encoded data removed]",
      "text/plain": [
       "<Figure size 432x288 with 2 Axes>"
      ]
     },
     "metadata": {
      "needs_background": "light"
     },
     "output_type": "display_data"
    },
    {
     "name": "stdout",
     "output_type": "stream",
     "text": [
      "Recall metric in the testing dataset:  0.7816091954022989\n"
     ]
    }
   ],
   "source": [
    "from sklearn.metrics import confusion_matrix\n",
    "\n",
    "X = labels\n",
    "y = data['Class']\n",
    "\n",
    "X_train, X_test, y_train, y_test = train_test_split(X, y, test_size=0.2, random_state=1)\n",
    "\n",
    "model.fit(X_train, y_train)\n",
    "y_pred = model.predict(X_test)\n",
    "conf_mat = confusion_matrix(y_true=y_test, y_pred=y_pred)\n",
    "print('Confusion matrix:\\n', conf_mat)\n",
    "\n",
    "labels = ['Class 0', 'Class 1']\n",
    "fig = plt.figure()\n",
    "ax = fig.add_subplot(111)\n",
    "cax = ax.matshow(conf_mat, cmap=plt.cm.Blues)\n",
    "fig.colorbar(cax)\n",
    "ax.set_xticklabels([''] + labels)\n",
    "ax.set_yticklabels([''] + labels)\n",
    "plt.xlabel('Predicted')\n",
    "plt.ylabel('Expected')\n",
    "plt.show()\n",
    "print (\"Recall metric in the testing dataset: \", recall_score(y_test, y_pred))"
   ]
  },
  {
   "cell_type": "markdown",
   "metadata": {
    "_cell_guid": "039dee09-2d20-41c7-b39c-77fdb7d879ae",
    "_uuid": "9deda86d-a1d9-4f2d-a6ec-af626bd8c753",
    "papermill": {
     "duration": 0.109086,
     "end_time": "2020-10-09T16:26:16.169240",
     "exception": false,
     "start_time": "2020-10-09T16:26:16.060154",
     "status": "completed"
    },
    "tags": []
   },
   "source": [
    "Because the accuracy is almost identical with one metric (V28) as it is with all metrics we know the high accuracy rate is an illusion. The recall score verifys this."
   ]
  },
  {
   "cell_type": "markdown",
   "metadata": {
    "_cell_guid": "e48266e8-4f0f-4fd4-b6eb-24dd5fe0c380",
    "_uuid": "f0c5b542-9d65-4edd-9f04-6d0a148b2d43",
    "papermill": {
     "duration": 0.103112,
     "end_time": "2020-10-09T16:26:16.380587",
     "exception": false,
     "start_time": "2020-10-09T16:26:16.277475",
     "status": "completed"
    },
    "tags": []
   },
   "source": [
    "# **Random under-Sampling**"
   ]
  },
  {
   "cell_type": "markdown",
   "metadata": {
    "_cell_guid": "1c005b9f-dd19-49ac-ae6e-b7153c3d3971",
    "_uuid": "47f223ac-f940-4db1-aa11-f94d0eb6103c",
    "papermill": {
     "duration": 0.102958,
     "end_time": "2020-10-09T16:26:16.588555",
     "exception": false,
     "start_time": "2020-10-09T16:26:16.485597",
     "status": "completed"
    },
    "tags": []
   },
   "source": [
    "Due to the overfitting issues with the imbalanced dataset it needs to be reframed for the training set to accuratly model and compare to the entire dataset. Because we have greater then 280,000 samples to work with undersampling appears to be better than oversampling. SMOTE can then be applied for comparison if models perform poorly."
   ]
  },
  {
   "cell_type": "code",
   "execution_count": 14,
   "metadata": {
    "_cell_guid": "fddb5f65-537e-4eda-b777-3f3ace36e346",
    "_uuid": "1d596261-0b61-4809-a3ec-5d6cdd969ba7",
    "execution": {
     "iopub.execute_input": "2020-10-09T16:26:16.803946Z",
     "iopub.status.busy": "2020-10-09T16:26:16.803172Z",
     "iopub.status.idle": "2020-10-09T16:26:16.851271Z",
     "shell.execute_reply": "2020-10-09T16:26:16.850477Z"
    },
    "papermill": {
     "duration": 0.158227,
     "end_time": "2020-10-09T16:26:16.851420",
     "exception": false,
     "start_time": "2020-10-09T16:26:16.693193",
     "status": "completed"
    },
    "scrolled": false,
    "tags": []
   },
   "outputs": [],
   "source": [
    "# Class count\n",
    "count_class_0, count_class_1 = data.Class.value_counts()\n",
    "\n",
    "# Divide by class\n",
    "df_class_0 = data[data['Class'] == 0]\n",
    "df_class_1 = data[data['Class'] == 1]"
   ]
  },
  {
   "cell_type": "code",
   "execution_count": 15,
   "metadata": {
    "_cell_guid": "91ab4af0-83a0-4510-a481-e6f1898f5e33",
    "_uuid": "67d6bbb2-a7c9-4a50-83b3-e5d29723a90a",
    "execution": {
     "iopub.execute_input": "2020-10-09T16:26:17.073676Z",
     "iopub.status.busy": "2020-10-09T16:26:17.072639Z",
     "iopub.status.idle": "2020-10-09T16:26:17.223992Z",
     "shell.execute_reply": "2020-10-09T16:26:17.222854Z"
    },
    "papermill": {
     "duration": 0.266537,
     "end_time": "2020-10-09T16:26:17.224186",
     "exception": false,
     "start_time": "2020-10-09T16:26:16.957649",
     "status": "completed"
    },
    "scrolled": false,
    "tags": []
   },
   "outputs": [
    {
     "name": "stdout",
     "output_type": "stream",
     "text": [
      "Random under-sampling:\n",
      "1    492\n",
      "0    492\n",
      "Name: Class, dtype: int64\n"
     ]
    },
    {
     "data": {
      "image/png": "[encoded data removed]",
      "text/plain": [
       "<Figure size 432x288 with 1 Axes>"
      ]
     },
     "metadata": {
      "needs_background": "light"
     },
     "output_type": "display_data"
    }
   ],
   "source": [
    "df_class_0_under = df_class_0.sample(count_class_1)\n",
    "df_test_under = pd.concat([df_class_0_under, df_class_1], axis=0)\n",
    "\n",
    "print('Random under-sampling:')\n",
    "print(df_test_under.Class.value_counts())\n",
    "\n",
    "df_test_under.Class.value_counts().plot(kind='bar', title='Count (Class)');"
   ]
  },
  {
   "cell_type": "markdown",
   "metadata": {
    "_cell_guid": "0a61f10d-a6d7-4314-a593-bba7f305b3b7",
    "_uuid": "4bd4da81-2445-444d-bf3d-a29d762aa93d",
    "papermill": {
     "duration": 0.106458,
     "end_time": "2020-10-09T16:26:17.437323",
     "exception": false,
     "start_time": "2020-10-09T16:26:17.330865",
     "status": "completed"
    },
    "tags": []
   },
   "source": [
    "After splitting the dataset randomly with undersampling we need to also split the entire dataset for testing the model"
   ]
  },
  {
   "cell_type": "code",
   "execution_count": 16,
   "metadata": {
    "_cell_guid": "298447e8-452b-41fb-95d2-96696f3d038f",
    "_uuid": "268f9ce2-227a-41a8-a019-42d47be8e740",
    "execution": {
     "iopub.execute_input": "2020-10-09T16:26:17.697395Z",
     "iopub.status.busy": "2020-10-09T16:26:17.696571Z",
     "iopub.status.idle": "2020-10-09T16:26:18.000236Z",
     "shell.execute_reply": "2020-10-09T16:26:17.999588Z"
    },
    "papermill": {
     "duration": 0.457399,
     "end_time": "2020-10-09T16:26:18.000385",
     "exception": false,
     "start_time": "2020-10-09T16:26:17.542986",
     "status": "completed"
    },
    "scrolled": false,
    "tags": []
   },
   "outputs": [],
   "source": [
    "#organize original dataset for testing models at the end\n",
    "X_train, X_test, y_train, y_test = train_test_split(data.drop(columns = ['Class']),data['Class'],test_size = 0.2, random_state = 42, stratify = data['Class'])"
   ]
  },
  {
   "cell_type": "code",
   "execution_count": 17,
   "metadata": {
    "_cell_guid": "78bd2271-56ea-4ba4-b1b9-c5e9a7d978fc",
    "_uuid": "79d30aa8-cfe8-40df-b509-6be2b2b807a7",
    "execution": {
     "iopub.execute_input": "2020-10-09T16:26:18.227328Z",
     "iopub.status.busy": "2020-10-09T16:26:18.226112Z",
     "iopub.status.idle": "2020-10-09T16:26:18.551942Z",
     "shell.execute_reply": "2020-10-09T16:26:18.551121Z"
    },
    "papermill": {
     "duration": 0.44353,
     "end_time": "2020-10-09T16:26:18.552075",
     "exception": false,
     "start_time": "2020-10-09T16:26:18.108545",
     "status": "completed"
    },
    "scrolled": false,
    "tags": []
   },
   "outputs": [
    {
     "name": "stdout",
     "output_type": "stream",
     "text": [
      "1    492\n",
      "0    492\n",
      "Name: Class, dtype: int64\n"
     ]
    },
    {
     "data": {
      "image/png": "[encoded data removed]",
      "text/plain": [
       "<Figure size 432x288 with 1 Axes>"
      ]
     },
     "metadata": {
      "needs_background": "light"
     },
     "output_type": "display_data"
    }
   ],
   "source": [
    "#organizing and sorting undersampled dataset for training\n",
    "\n",
    "# number of fraud cases\n",
    "fraud = len(data[data['Class'] == 1])\n",
    "\n",
    "#get indices of non fraud samples\n",
    "non_fraud_indices = data[data.Class == 0].index\n",
    "\n",
    "#Random sample non fraud indices\n",
    "random_indices = np.random.choice(non_fraud_indices,fraud, replace=False)\n",
    "\n",
    "#find fraud samples\n",
    "fraud_indices = data[data.Class == 1].index\n",
    "\n",
    "#concat fraud indices with sample non-fraud ones\n",
    "under_sample_indices = np.concatenate([fraud_indices,random_indices])\n",
    "\n",
    "#balance the DF\n",
    "under_sample = data.loc[under_sample_indices]\n",
    "\n",
    "\n",
    "# histograms of new data\n",
    "print(under_sample.Class.value_counts())\n",
    "under_sample.Class.value_counts().plot(kind='bar', title='Count (Class)');"
   ]
  },
  {
   "cell_type": "markdown",
   "metadata": {
    "_cell_guid": "49f431d4-1395-4c1e-a1c0-ebba27102cbb",
    "_uuid": "674f5454-1a2c-4c9f-bc6e-6b052479d374",
    "papermill": {
     "duration": 0.10671,
     "end_time": "2020-10-09T16:26:18.768317",
     "exception": false,
     "start_time": "2020-10-09T16:26:18.661607",
     "status": "completed"
    },
    "tags": []
   },
   "source": [
    "# **Using Models on Undersampled Data**"
   ]
  },
  {
   "cell_type": "markdown",
   "metadata": {
    "papermill": {
     "duration": 0.106812,
     "end_time": "2020-10-09T16:26:18.983657",
     "exception": false,
     "start_time": "2020-10-09T16:26:18.876845",
     "status": "completed"
    },
    "tags": []
   },
   "source": [
    "I propose trying 4 different models (logistic regression, random forest, decision tree, and support vector machine) for training and then using the top two for the test set. \n",
    "1. Logistic regression will be used because it can be regularized to avoid overfitting, however if data is not linear it may perform poorly. \n",
    "2. Decision tree classifiers will be used because they perform well with outliers, non-linear relationships, and issues with overfitting will be analyzed and adjusted with tests.\n",
    "3. Random forest will be used for similar reasons to decisions trees for comparison between the two.\n",
    "4. Support Vector Machine classifier will be used for comparison. It does have issues with larger datasets but it is more robust against overfitting."
   ]
  },
  {
   "cell_type": "markdown",
   "metadata": {
    "_cell_guid": "8a8ebe10-ceed-489d-b68a-42be608728cd",
    "_uuid": "3d6f5866-c003-490c-850b-47cf328a3fb3",
    "papermill": {
     "duration": 0.111829,
     "end_time": "2020-10-09T16:26:19.212239",
     "exception": false,
     "start_time": "2020-10-09T16:26:19.100410",
     "status": "completed"
    },
    "tags": []
   },
   "source": [
    "# Model 1: Logistic Regression"
   ]
  },
  {
   "cell_type": "code",
   "execution_count": 18,
   "metadata": {
    "_cell_guid": "e08ed2a7-5ebb-496c-add5-fe98ece46edb",
    "_uuid": "5b5abc28-1b14-4b1a-994d-00f2aac49eb6",
    "execution": {
     "iopub.execute_input": "2020-10-09T16:26:19.443250Z",
     "iopub.status.busy": "2020-10-09T16:26:19.442098Z",
     "iopub.status.idle": "2020-10-09T16:26:19.445828Z",
     "shell.execute_reply": "2020-10-09T16:26:19.445133Z"
    },
    "papermill": {
     "duration": 0.125143,
     "end_time": "2020-10-09T16:26:19.445966",
     "exception": false,
     "start_time": "2020-10-09T16:26:19.320823",
     "status": "completed"
    },
    "scrolled": false,
    "tags": []
   },
   "outputs": [],
   "source": [
    "#setup train and test sets\n",
    "X_under = under_sample.loc[:,under_sample.columns != 'Class']\n",
    "y_under = under_sample.loc[:,under_sample.columns == 'Class']\n",
    "X_under_train, X_under_test, y_under_train, y_under_test = train_test_split(X_under,y_under,test_size = 0.2, random_state = 2)"
   ]
  },
  {
   "cell_type": "markdown",
   "metadata": {
    "papermill": {
     "duration": 0.106699,
     "end_time": "2020-10-09T16:26:19.659039",
     "exception": false,
     "start_time": "2020-10-09T16:26:19.552340",
     "status": "completed"
    },
    "tags": []
   },
   "source": [
    "Tune the parameters firs for best fit."
   ]
  },
  {
   "cell_type": "code",
   "execution_count": 19,
   "metadata": {
    "execution": {
     "iopub.execute_input": "2020-10-09T16:26:19.885716Z",
     "iopub.status.busy": "2020-10-09T16:26:19.881200Z",
     "iopub.status.idle": "2020-10-09T16:26:55.290512Z",
     "shell.execute_reply": "2020-10-09T16:26:55.289741Z"
    },
    "papermill": {
     "duration": 35.525562,
     "end_time": "2020-10-09T16:26:55.290665",
     "exception": false,
     "start_time": "2020-10-09T16:26:19.765103",
     "status": "completed"
    },
    "tags": []
   },
   "outputs": [
    {
     "name": "stdout",
     "output_type": "stream",
     "text": [
      "Best: 0.937715 using {'C': 10, 'penalty': 'l2', 'solver': 'lbfgs'}\n",
      "0.927578 (0.025884) with: {'C': 100, 'penalty': 'l2', 'solver': 'newton-cg'}\n",
      "0.933918 (0.024628) with: {'C': 100, 'penalty': 'l2', 'solver': 'lbfgs'}\n",
      "0.933057 (0.023030) with: {'C': 100, 'penalty': 'l2', 'solver': 'liblinear'}\n",
      "0.504890 (0.012253) with: {'C': 100, 'penalty': 'l2', 'solver': 'sag'}\n",
      "0.498107 (0.007182) with: {'C': 100, 'penalty': 'l2', 'solver': 'saga'}\n",
      "0.000000 (0.000000) with: {'C': 100, 'penalty': 'l1', 'solver': 'newton-cg'}\n",
      "0.000000 (0.000000) with: {'C': 100, 'penalty': 'l1', 'solver': 'lbfgs'}\n",
      "0.930109 (0.025620) with: {'C': 100, 'penalty': 'l1', 'solver': 'liblinear'}\n",
      "0.000000 (0.000000) with: {'C': 100, 'penalty': 'l1', 'solver': 'sag'}\n",
      "0.498107 (0.007182) with: {'C': 100, 'penalty': 'l1', 'solver': 'saga'}\n",
      "0.929693 (0.025182) with: {'C': 10, 'penalty': 'l2', 'solver': 'newton-cg'}\n",
      "0.937715 (0.021904) with: {'C': 10, 'penalty': 'l2', 'solver': 'lbfgs'}\n",
      "0.933057 (0.023030) with: {'C': 10, 'penalty': 'l2', 'solver': 'liblinear'}\n",
      "0.505312 (0.012930) with: {'C': 10, 'penalty': 'l2', 'solver': 'sag'}\n",
      "0.498107 (0.007182) with: {'C': 10, 'penalty': 'l2', 'solver': 'saga'}\n",
      "0.000000 (0.000000) with: {'C': 10, 'penalty': 'l1', 'solver': 'newton-cg'}\n",
      "0.000000 (0.000000) with: {'C': 10, 'penalty': 'l1', 'solver': 'lbfgs'}\n",
      "0.928838 (0.026010) with: {'C': 10, 'penalty': 'l1', 'solver': 'liblinear'}\n",
      "0.000000 (0.000000) with: {'C': 10, 'penalty': 'l1', 'solver': 'sag'}\n",
      "0.498107 (0.007182) with: {'C': 10, 'penalty': 'l1', 'solver': 'saga'}\n",
      "0.930531 (0.026654) with: {'C': 1.0, 'penalty': 'l2', 'solver': 'newton-cg'}\n",
      "0.933896 (0.022921) with: {'C': 1.0, 'penalty': 'l2', 'solver': 'lbfgs'}\n",
      "0.933057 (0.023030) with: {'C': 1.0, 'penalty': 'l2', 'solver': 'liblinear'}\n",
      "0.504890 (0.012253) with: {'C': 1.0, 'penalty': 'l2', 'solver': 'sag'}\n",
      "0.498107 (0.007182) with: {'C': 1.0, 'penalty': 'l2', 'solver': 'saga'}\n",
      "0.000000 (0.000000) with: {'C': 1.0, 'penalty': 'l1', 'solver': 'newton-cg'}\n",
      "0.000000 (0.000000) with: {'C': 1.0, 'penalty': 'l1', 'solver': 'lbfgs'}\n",
      "0.930526 (0.023865) with: {'C': 1.0, 'penalty': 'l1', 'solver': 'liblinear'}\n",
      "0.000000 (0.000000) with: {'C': 1.0, 'penalty': 'l1', 'solver': 'sag'}\n",
      "0.498107 (0.007182) with: {'C': 1.0, 'penalty': 'l1', 'solver': 'saga'}\n",
      "0.930520 (0.020493) with: {'C': 0.1, 'penalty': 'l2', 'solver': 'newton-cg'}\n",
      "0.935600 (0.018632) with: {'C': 0.1, 'penalty': 'l2', 'solver': 'lbfgs'}\n",
      "0.933057 (0.023489) with: {'C': 0.1, 'penalty': 'l2', 'solver': 'liblinear'}\n",
      "0.504890 (0.012253) with: {'C': 0.1, 'penalty': 'l2', 'solver': 'sag'}\n",
      "0.498107 (0.007182) with: {'C': 0.1, 'penalty': 'l2', 'solver': 'saga'}\n",
      "0.000000 (0.000000) with: {'C': 0.1, 'penalty': 'l1', 'solver': 'newton-cg'}\n",
      "0.000000 (0.000000) with: {'C': 0.1, 'penalty': 'l1', 'solver': 'lbfgs'}\n",
      "0.933907 (0.020143) with: {'C': 0.1, 'penalty': 'l1', 'solver': 'liblinear'}\n",
      "0.000000 (0.000000) with: {'C': 0.1, 'penalty': 'l1', 'solver': 'sag'}\n",
      "0.498107 (0.007182) with: {'C': 0.1, 'penalty': 'l1', 'solver': 'saga'}\n",
      "0.931391 (0.023798) with: {'C': 0.01, 'penalty': 'l2', 'solver': 'newton-cg'}\n",
      "0.926707 (0.021518) with: {'C': 0.01, 'penalty': 'l2', 'solver': 'lbfgs'}\n",
      "0.931359 (0.023432) with: {'C': 0.01, 'penalty': 'l2', 'solver': 'liblinear'}\n",
      "0.504890 (0.012253) with: {'C': 0.01, 'penalty': 'l2', 'solver': 'sag'}\n",
      "0.498107 (0.007182) with: {'C': 0.01, 'penalty': 'l2', 'solver': 'saga'}\n",
      "0.000000 (0.000000) with: {'C': 0.01, 'penalty': 'l1', 'solver': 'newton-cg'}\n",
      "0.000000 (0.000000) with: {'C': 0.01, 'penalty': 'l1', 'solver': 'lbfgs'}\n",
      "0.924180 (0.025130) with: {'C': 0.01, 'penalty': 'l1', 'solver': 'liblinear'}\n",
      "0.000000 (0.000000) with: {'C': 0.01, 'penalty': 'l1', 'solver': 'sag'}\n",
      "0.498107 (0.007182) with: {'C': 0.01, 'penalty': 'l1', 'solver': 'saga'}\n"
     ]
    },
    {
     "name": "stderr",
     "output_type": "stream",
     "text": [
      "/opt/conda/lib/python3.7/site-packages/sklearn/utils/validation.py:72: DataConversionWarning: A column-vector y was passed when a 1d array was expected. Please change the shape of y to (n_samples, ), for example using ravel().\n",
      "  return f(**kwargs)\n",
      "/opt/conda/lib/python3.7/site-packages/sklearn/linear_model/_logistic.py:764: ConvergenceWarning: lbfgs failed to converge (status=1):\n",
      "STOP: TOTAL NO. of ITERATIONS REACHED LIMIT.\n",
      "\n",
      "Increase the number of iterations (max_iter) or scale the data as shown in:\n",
      "    https://scikit-learn.org/stable/modules/preprocessing.html\n",
      "Please also refer to the documentation for alternative solver options:\n",
      "    https://scikit-learn.org/stable/modules/linear_model.html#logistic-regression\n",
      "  extra_warning_msg=_LOGISTIC_SOLVER_CONVERGENCE_MSG)\n"
     ]
    }
   ],
   "source": [
    "# example of grid searching key hyperparametres for logistic regression\n",
    "from sklearn.datasets import make_blobs\n",
    "from sklearn.model_selection import RepeatedStratifiedKFold\n",
    "from sklearn.model_selection import GridSearchCV\n",
    "# define dataset\n",
    "X = X_under_train\n",
    "y = y_under_train\n",
    "# define models and parameters\n",
    "model = LogisticRegression()\n",
    "solvers = ['newton-cg', 'lbfgs', 'liblinear', 'sag', 'saga']\n",
    "penalty = ['l2', 'l1']\n",
    "c_values = [100, 10, 1.0, 0.1, 0.01]\n",
    "# define grid search\n",
    "grid = dict(solver=solvers,penalty=penalty,C=c_values)\n",
    "cv = RepeatedStratifiedKFold(n_splits=10, n_repeats=3, random_state=1)\n",
    "grid_search = GridSearchCV(estimator=model, param_grid=grid, n_jobs=-1, cv=cv, scoring='accuracy',error_score=0)\n",
    "grid_result = grid_search.fit(X, y)\n",
    "# summarize results\n",
    "print(\"Best: %f using %s\" % (grid_result.best_score_, grid_result.best_params_))\n",
    "means = grid_result.cv_results_['mean_test_score']\n",
    "stds = grid_result.cv_results_['std_test_score']\n",
    "params = grid_result.cv_results_['params']\n",
    "for mean, stdev, param in zip(means, stds, params):\n",
    "    print(\"%f (%f) with: %r\" % (mean, stdev, param))"
   ]
  },
  {
   "cell_type": "code",
   "execution_count": 20,
   "metadata": {
    "_cell_guid": "c073d7aa-74b8-4e97-a975-21c7c1246225",
    "_uuid": "31ab60f3-90c0-48ec-837c-728753f61f5d",
    "execution": {
     "iopub.execute_input": "2020-10-09T16:26:55.528443Z",
     "iopub.status.busy": "2020-10-09T16:26:55.527401Z",
     "iopub.status.idle": "2020-10-09T16:26:55.627489Z",
     "shell.execute_reply": "2020-10-09T16:26:55.626631Z"
    },
    "papermill": {
     "duration": 0.218953,
     "end_time": "2020-10-09T16:26:55.627665",
     "exception": false,
     "start_time": "2020-10-09T16:26:55.408712",
     "status": "completed"
    },
    "scrolled": false,
    "tags": []
   },
   "outputs": [
    {
     "name": "stdout",
     "output_type": "stream",
     "text": [
      "0.8947368421052632\n",
      "0.934010152284264\n",
      "Logistic Regression Score:  0.939 +/-  0.0497\n"
     ]
    },
    {
     "name": "stderr",
     "output_type": "stream",
     "text": [
      "/opt/conda/lib/python3.7/site-packages/sklearn/utils/validation.py:72: DataConversionWarning: A column-vector y was passed when a 1d array was expected. Please change the shape of y to (n_samples, ), for example using ravel().\n",
      "  return f(**kwargs)\n",
      "/opt/conda/lib/python3.7/site-packages/sklearn/utils/validation.py:72: DataConversionWarning: A column-vector y was passed when a 1d array was expected. Please change the shape of y to (n_samples, ), for example using ravel().\n",
      "  return f(**kwargs)\n",
      "/opt/conda/lib/python3.7/site-packages/sklearn/utils/validation.py:72: DataConversionWarning: A column-vector y was passed when a 1d array was expected. Please change the shape of y to (n_samples, ), for example using ravel().\n",
      "  return f(**kwargs)\n",
      "/opt/conda/lib/python3.7/site-packages/sklearn/utils/validation.py:72: DataConversionWarning: A column-vector y was passed when a 1d array was expected. Please change the shape of y to (n_samples, ), for example using ravel().\n",
      "  return f(**kwargs)\n",
      "/opt/conda/lib/python3.7/site-packages/sklearn/utils/validation.py:72: DataConversionWarning: A column-vector y was passed when a 1d array was expected. Please change the shape of y to (n_samples, ), for example using ravel().\n",
      "  return f(**kwargs)\n",
      "/opt/conda/lib/python3.7/site-packages/sklearn/utils/validation.py:72: DataConversionWarning: A column-vector y was passed when a 1d array was expected. Please change the shape of y to (n_samples, ), for example using ravel().\n",
      "  return f(**kwargs)\n",
      "/opt/conda/lib/python3.7/site-packages/sklearn/utils/validation.py:72: DataConversionWarning: A column-vector y was passed when a 1d array was expected. Please change the shape of y to (n_samples, ), for example using ravel().\n",
      "  return f(**kwargs)\n",
      "/opt/conda/lib/python3.7/site-packages/sklearn/utils/validation.py:72: DataConversionWarning: A column-vector y was passed when a 1d array was expected. Please change the shape of y to (n_samples, ), for example using ravel().\n",
      "  return f(**kwargs)\n"
     ]
    }
   ],
   "source": [
    "lr_under = LogisticRegression(C = .1, penalty = 'l2', solver = 'liblinear')\n",
    "lr_under.fit(X_under_train,y_under_train)\n",
    "y_under_pred = lr_under.predict(X_under_test)\n",
    "\n",
    "print(recall_score(y_under_test,y_under_pred))\n",
    "print(accuracy_score(y_under_test,y_under_pred))\n",
    "\n",
    "# Score the model on it's accuracy using cross validation\n",
    "lr_score = cross_val_score(lr_under, X_under_test, y_under_test, cv=7)\n",
    "print(f'Logistic Regression Score: {lr_score.mean(): .3f} +/- {2*lr_score.std(): .4f}')"
   ]
  },
  {
   "cell_type": "code",
   "execution_count": 21,
   "metadata": {
    "_cell_guid": "c29c0732-e6ab-4f4a-8b36-f654f1736f67",
    "_uuid": "c36024d6-b1a2-416d-9457-fa709385728a",
    "execution": {
     "iopub.execute_input": "2020-10-09T16:26:55.871879Z",
     "iopub.status.busy": "2020-10-09T16:26:55.868293Z",
     "iopub.status.idle": "2020-10-09T16:26:56.061453Z",
     "shell.execute_reply": "2020-10-09T16:26:56.062164Z"
    },
    "papermill": {
     "duration": 0.316982,
     "end_time": "2020-10-09T16:26:56.062350",
     "exception": false,
     "start_time": "2020-10-09T16:26:55.745368",
     "status": "completed"
    },
    "scrolled": false,
    "tags": []
   },
   "outputs": [
    {
     "name": "stdout",
     "output_type": "stream",
     "text": [
      "Recall metric in the testing dataset:  0.8947368421052632\n"
     ]
    },
    {
     "data": {
      "image/png": "[encoded data removed]",
      "text/plain": [
       "<Figure size 432x288 with 2 Axes>"
      ]
     },
     "metadata": {
      "needs_background": "light"
     },
     "output_type": "display_data"
    }
   ],
   "source": [
    "import seaborn as sns\n",
    "# Predicting the classes from the test set\n",
    "y_pred_lr = lr_under.predict(X_under_test)\n",
    "\n",
    "# Creating a confusion matrix\n",
    "cm_dt = confusion_matrix(y_under_test, y_pred_lr)\n",
    "# Visualizing the confusion matrix as a heatmap\n",
    "sns.heatmap(cm_dt/np.sum(cm_dt), annot=True, cmap='Blues', \n",
    "            fmt='.2%', xticklabels=labels, yticklabels=labels)\n",
    "plt.ylabel('True label')\n",
    "plt.xlabel('Predicted label');\n",
    "print (\"Recall metric in the testing dataset: \", recall_score(y_under_test, y_pred_lr))"
   ]
  },
  {
   "cell_type": "markdown",
   "metadata": {
    "_cell_guid": "27bb8512-9a39-465f-86bc-cec015a157da",
    "_uuid": "dfaa7e67-e751-42da-a548-656f5b5284f4",
    "papermill": {
     "duration": 0.111025,
     "end_time": "2020-10-09T16:26:56.284729",
     "exception": false,
     "start_time": "2020-10-09T16:26:56.173704",
     "status": "completed"
    },
    "tags": []
   },
   "source": [
    "My model did a pretty good job of predicting fraud with the undersampled data but lets try with other models"
   ]
  },
  {
   "cell_type": "markdown",
   "metadata": {
    "_cell_guid": "e7a99287-f5da-439c-b322-ce40e057f497",
    "_uuid": "f276fd40-845e-4bcb-bae7-7844f6e8fcfa",
    "papermill": {
     "duration": 0.109215,
     "end_time": "2020-10-09T16:26:56.505398",
     "exception": false,
     "start_time": "2020-10-09T16:26:56.396183",
     "status": "completed"
    },
    "tags": []
   },
   "source": [
    "# Model 2: Decission Tree Classifier"
   ]
  },
  {
   "cell_type": "markdown",
   "metadata": {
    "papermill": {
     "duration": 0.109504,
     "end_time": "2020-10-09T16:26:56.724294",
     "exception": false,
     "start_time": "2020-10-09T16:26:56.614790",
     "status": "completed"
    },
    "tags": []
   },
   "source": [
    "Tune hyperparameters for best fit"
   ]
  },
  {
   "cell_type": "code",
   "execution_count": 22,
   "metadata": {
    "execution": {
     "iopub.execute_input": "2020-10-09T16:26:56.961632Z",
     "iopub.status.busy": "2020-10-09T16:26:56.958726Z",
     "iopub.status.idle": "2020-10-09T16:27:38.984624Z",
     "shell.execute_reply": "2020-10-09T16:27:38.985511Z"
    },
    "papermill": {
     "duration": 42.152227,
     "end_time": "2020-10-09T16:27:38.985732",
     "exception": false,
     "start_time": "2020-10-09T16:26:56.833505",
     "status": "completed"
    },
    "tags": []
   },
   "outputs": [
    {
     "name": "stdout",
     "output_type": "stream",
     "text": [
      "**Optimizing hyper-parameters of a Decision Tree model using Grid Search in Python**\n",
      "\n",
      "Best Criterion: gini\n",
      "Best max_depth: 6\n",
      "Best Number Of Components: 14\n",
      "\n",
      "DecisionTreeClassifier(max_depth=6)\n"
     ]
    }
   ],
   "source": [
    "# How to optimize hyper-parameters of a DecisionTree model using Grid Search in Python ?\n",
    "def Snippet_146_Ex_2():\n",
    "    print('**Optimizing hyper-parameters of a Decision Tree model using Grid Search in Python**\\n')\n",
    "\n",
    "\n",
    "    # importing libraries\n",
    "    from sklearn import decomposition, datasets\n",
    "    from sklearn import tree\n",
    "    from sklearn.pipeline import Pipeline\n",
    "    from sklearn.model_selection import GridSearchCV\n",
    "    from sklearn.preprocessing import StandardScaler\n",
    "\n",
    "    # Loading wine dataset\n",
    "    data = pd.read_csv(\"/kaggle/input/creditcardfraud/creditcard.csv\")\n",
    "    X = X_under_train\n",
    "    y = y_under_train\n",
    "\n",
    "    # Creating an standardscaler object\n",
    "    std_slc = StandardScaler()\n",
    "\n",
    "    # Creating a pca object\n",
    "    pca = decomposition.PCA()\n",
    "\n",
    "    # Creating a DecisionTreeClassifier\n",
    "    dec_tree = tree.DecisionTreeClassifier()\n",
    "\n",
    "    # Creating a pipeline of three steps. First, standardizing the data.\n",
    "    # Second, tranforming the data with PCA.\n",
    "    # Third, training a Decision Tree Classifier on the data.\n",
    "    pipe = Pipeline(steps=[('std_slc', std_slc),\n",
    "                           ('pca', pca),\n",
    "                           ('dec_tree', dec_tree)])\n",
    "\n",
    "    # Creating Parameter Space\n",
    "    # Creating a list of a sequence of integers from 1 to 30 (the number of features in X + 1)\n",
    "    n_components = list(range(1,X.shape[1]+1,1))\n",
    "\n",
    "    # Creating lists of parameter for Decision Tree Classifier\n",
    "    criterion = ['gini', 'entropy']\n",
    "    max_depth = [2,4,6,8,10,12]\n",
    "\n",
    "    # Creating a dictionary of all the parameter options \n",
    "    # Note that we can access the parameters of steps of a pipeline by using '__’\n",
    "    parameters = dict(pca__n_components=n_components,\n",
    "                      dec_tree__criterion=criterion,\n",
    "                      dec_tree__max_depth=max_depth)\n",
    "\n",
    "    # Conducting Parameter Optmization With Pipeline\n",
    "    # Creating a grid search object\n",
    "    clf_GS = GridSearchCV(pipe, parameters)\n",
    "\n",
    "    # Fitting the grid search\n",
    "    clf_GS.fit(X, y)\n",
    "\n",
    "    # Viewing The Best Parameters\n",
    "    print('Best Criterion:', clf_GS.best_estimator_.get_params()['dec_tree__criterion'])\n",
    "    print('Best max_depth:', clf_GS.best_estimator_.get_params()['dec_tree__max_depth'])\n",
    "    print('Best Number Of Components:', clf_GS.best_estimator_.get_params()['pca__n_components'])\n",
    "    print(); print(clf_GS.best_estimator_.get_params()['dec_tree'])\n",
    "\n",
    "   \n",
    "Snippet_146_Ex_2()"
   ]
  },
  {
   "cell_type": "code",
   "execution_count": 23,
   "metadata": {
    "_cell_guid": "452ce108-55f9-4c33-92c5-05b0b148a452",
    "_uuid": "2df7e88d-4903-4278-9768-bcee59335f93",
    "execution": {
     "iopub.execute_input": "2020-10-09T16:27:39.223572Z",
     "iopub.status.busy": "2020-10-09T16:27:39.222759Z",
     "iopub.status.idle": "2020-10-09T16:27:39.573806Z",
     "shell.execute_reply": "2020-10-09T16:27:39.574646Z"
    },
    "papermill": {
     "duration": 0.477086,
     "end_time": "2020-10-09T16:27:39.574850",
     "exception": false,
     "start_time": "2020-10-09T16:27:39.097764",
     "status": "completed"
    },
    "scrolled": false,
    "tags": []
   },
   "outputs": [
    {
     "name": "stdout",
     "output_type": "stream",
     "text": [
      "Decision Tree Score:  0.897 +/-  0.2511\n"
     ]
    }
   ],
   "source": [
    "# Import model\n",
    "from sklearn.tree import DecisionTreeClassifier\n",
    "\n",
    "# Instantiate (start up) model\n",
    "dt = DecisionTreeClassifier(criterion = 'entropy', max_depth = 6, random_state=42)\n",
    "# Fit model on the training data\n",
    "dt.fit(X_under_train, y_under_train)\n",
    "\n",
    "# Score the model on it's accuracy using cross validation\n",
    "dt_score = cross_val_score(dt, X_under_test, y_under_test, cv=29)\n",
    "print(f'Decision Tree Score: {dt_score.mean(): .3f} +/- {2*dt_score.std(): .4f}')"
   ]
  },
  {
   "cell_type": "code",
   "execution_count": 24,
   "metadata": {
    "_cell_guid": "588f179a-475a-4038-9d67-98e41924d620",
    "_uuid": "dd787dcf-1e8c-4022-9106-812e5af5080f",
    "execution": {
     "iopub.execute_input": "2020-10-09T16:27:39.811426Z",
     "iopub.status.busy": "2020-10-09T16:27:39.808797Z",
     "iopub.status.idle": "2020-10-09T16:27:39.988839Z",
     "shell.execute_reply": "2020-10-09T16:27:39.989471Z"
    },
    "papermill": {
     "duration": 0.302835,
     "end_time": "2020-10-09T16:27:39.989642",
     "exception": false,
     "start_time": "2020-10-09T16:27:39.686807",
     "status": "completed"
    },
    "scrolled": false,
    "tags": []
   },
   "outputs": [
    {
     "name": "stdout",
     "output_type": "stream",
     "text": [
      "Recall metric in the testing dataset:  0.9157894736842105\n"
     ]
    },
    {
     "data": {
      "image/png": "[encoded data removed]",
      "text/plain": [
       "<Figure size 432x288 with 2 Axes>"
      ]
     },
     "metadata": {
      "needs_background": "light"
     },
     "output_type": "display_data"
    }
   ],
   "source": [
    "\n",
    "# Predicting the classes from the test set\n",
    "y_pred_dt = dt.predict(X_under_test)\n",
    "\n",
    "# Creating a confusion matrix\n",
    "cm_dt = confusion_matrix(y_under_test, y_pred_dt)\n",
    "# Visualizing the confusion matrix as a heatmap\n",
    "sns.heatmap(cm_dt/np.sum(cm_dt), annot=True, cmap='Blues', \n",
    "            fmt='.2%', xticklabels=labels, yticklabels=labels)\n",
    "plt.ylabel('True label')\n",
    "plt.xlabel('Predicted label');\n",
    "print (\"Recall metric in the testing dataset: \", recall_score(y_under_test, y_pred_dt))"
   ]
  },
  {
   "cell_type": "markdown",
   "metadata": {
    "_cell_guid": "7c5eeb39-ec79-419f-af8e-4fab7dae9510",
    "_uuid": "dc237d1a-8460-4bfc-be3d-1414b2bc9a80",
    "papermill": {
     "duration": 0.11404,
     "end_time": "2020-10-09T16:27:40.219494",
     "exception": false,
     "start_time": "2020-10-09T16:27:40.105454",
     "status": "completed"
    },
    "tags": []
   },
   "source": [
    "This model is not as good as logistic regression but still has a pretty good cross val score and recall."
   ]
  },
  {
   "cell_type": "markdown",
   "metadata": {
    "_cell_guid": "6b8aa96a-2512-45a5-abc1-2f1b6e5a6444",
    "_uuid": "9fbb6b63-0f86-4e15-ac22-69173c71697d",
    "papermill": {
     "duration": 0.124297,
     "end_time": "2020-10-09T16:27:40.457570",
     "exception": false,
     "start_time": "2020-10-09T16:27:40.333273",
     "status": "completed"
    },
    "tags": []
   },
   "source": [
    "# Model 3: Random Forest Classifier"
   ]
  },
  {
   "cell_type": "markdown",
   "metadata": {
    "papermill": {
     "duration": 0.112185,
     "end_time": "2020-10-09T16:27:40.684696",
     "exception": false,
     "start_time": "2020-10-09T16:27:40.572511",
     "status": "completed"
    },
    "tags": []
   },
   "source": [
    "Tune hyperparameters for best fit"
   ]
  },
  {
   "cell_type": "code",
   "execution_count": 25,
   "metadata": {
    "execution": {
     "iopub.execute_input": "2020-10-09T16:27:40.926071Z",
     "iopub.status.busy": "2020-10-09T16:27:40.925233Z",
     "iopub.status.idle": "2020-10-09T16:30:02.931452Z",
     "shell.execute_reply": "2020-10-09T16:30:02.932083Z"
    },
    "papermill": {
     "duration": 142.13422,
     "end_time": "2020-10-09T16:30:02.932293",
     "exception": false,
     "start_time": "2020-10-09T16:27:40.798073",
     "status": "completed"
    },
    "tags": []
   },
   "outputs": [
    {
     "name": "stderr",
     "output_type": "stream",
     "text": [
      "/opt/conda/lib/python3.7/site-packages/sklearn/model_selection/_search.py:765: DataConversionWarning: A column-vector y was passed when a 1d array was expected. Please change the shape of y to (n_samples,), for example using ravel().\n",
      "  self.best_estimator_.fit(X, y, **fit_params)\n"
     ]
    },
    {
     "name": "stdout",
     "output_type": "stream",
     "text": [
      "Best: 0.930932 using {'max_features': 'auto', 'n_estimators': 1000}\n",
      "0.922915 (0.026467) with: {'max_features': 'sqrt', 'n_estimators': 10}\n",
      "0.925024 (0.026532) with: {'max_features': 'sqrt', 'n_estimators': 100}\n",
      "0.930082 (0.025437) with: {'max_features': 'sqrt', 'n_estimators': 1000}\n",
      "0.924175 (0.031254) with: {'max_features': 'log2', 'n_estimators': 10}\n",
      "0.925024 (0.025704) with: {'max_features': 'log2', 'n_estimators': 100}\n",
      "0.928822 (0.026204) with: {'max_features': 'log2', 'n_estimators': 1000}\n",
      "0.927978 (0.025793) with: {'max_features': 'auto', 'n_estimators': 10}\n",
      "0.930109 (0.026399) with: {'max_features': 'auto', 'n_estimators': 100}\n",
      "0.930932 (0.026051) with: {'max_features': 'auto', 'n_estimators': 1000}\n"
     ]
    }
   ],
   "source": [
    "# Import model\n",
    "from sklearn.ensemble import RandomForestClassifier\n",
    "# define dataset\n",
    "X = X_under_train\n",
    "y = y_under_train\n",
    "# define models and parameters\n",
    "model = RandomForestClassifier()\n",
    "n_estimators = [10, 100, 1000]\n",
    "max_features = ['sqrt', 'log2', 'auto']\n",
    "# define grid search\n",
    "grid = dict(n_estimators=n_estimators,max_features=max_features)\n",
    "cv = RepeatedStratifiedKFold(n_splits=10, n_repeats=3, random_state=1)\n",
    "grid_search = GridSearchCV(estimator=model, param_grid=grid, n_jobs=-1, cv=cv, scoring='accuracy',error_score=0)\n",
    "grid_result = grid_search.fit(X, y)\n",
    "# summarize results\n",
    "print(\"Best: %f using %s\" % (grid_result.best_score_, grid_result.best_params_))\n",
    "means = grid_result.cv_results_['mean_test_score']\n",
    "stds = grid_result.cv_results_['std_test_score']\n",
    "params = grid_result.cv_results_['params']\n",
    "for mean, stdev, param in zip(means, stds, params):\n",
    "    print(\"%f (%f) with: %r\" % (mean, stdev, param))"
   ]
  },
  {
   "cell_type": "code",
   "execution_count": 26,
   "metadata": {
    "_cell_guid": "dcef4e97-df3c-4246-8837-97da7cff2fc8",
    "_uuid": "27a347d4-2d4e-4acb-a51e-3a8a2f2e31ef",
    "execution": {
     "iopub.execute_input": "2020-10-09T16:30:03.188240Z",
     "iopub.status.busy": "2020-10-09T16:30:03.185463Z",
     "iopub.status.idle": "2020-10-09T16:30:04.342478Z",
     "shell.execute_reply": "2020-10-09T16:30:04.343153Z"
    },
    "papermill": {
     "duration": 1.290718,
     "end_time": "2020-10-09T16:30:04.343329",
     "exception": false,
     "start_time": "2020-10-09T16:30:03.052611",
     "status": "completed"
    },
    "scrolled": false,
    "tags": []
   },
   "outputs": [
    {
     "name": "stderr",
     "output_type": "stream",
     "text": [
      "/opt/conda/lib/python3.7/site-packages/ipykernel_launcher.py:4: DataConversionWarning: A column-vector y was passed when a 1d array was expected. Please change the shape of y to (n_samples,), for example using ravel().\n",
      "  after removing the cwd from sys.path.\n",
      "/opt/conda/lib/python3.7/site-packages/sklearn/model_selection/_validation.py:531: DataConversionWarning: A column-vector y was passed when a 1d array was expected. Please change the shape of y to (n_samples,), for example using ravel().\n",
      "  estimator.fit(X_train, y_train, **fit_params)\n",
      "/opt/conda/lib/python3.7/site-packages/sklearn/model_selection/_validation.py:531: DataConversionWarning: A column-vector y was passed when a 1d array was expected. Please change the shape of y to (n_samples,), for example using ravel().\n",
      "  estimator.fit(X_train, y_train, **fit_params)\n",
      "/opt/conda/lib/python3.7/site-packages/sklearn/model_selection/_validation.py:531: DataConversionWarning: A column-vector y was passed when a 1d array was expected. Please change the shape of y to (n_samples,), for example using ravel().\n",
      "  estimator.fit(X_train, y_train, **fit_params)\n"
     ]
    },
    {
     "name": "stdout",
     "output_type": "stream",
     "text": [
      "Random Forest Score:  0.93901 +/-  0.025700\n"
     ]
    }
   ],
   "source": [
    "# Instantiate (start up) model\n",
    "rf = RandomForestClassifier(max_features = 'log2', n_estimators = 100, random_state=42)\n",
    "# Fit model on the training data\n",
    "rf.fit(X_under_train, y_under_train)\n",
    "\n",
    "# Score the model on it's accuracy using cross validation\n",
    "rf_score = cross_val_score(rf, X_under_test, y_under_test, cv=3)\n",
    "print(f'Random Forest Score: {rf_score.mean(): .5f} +/- {2*rf_score.std(): .6f}')"
   ]
  },
  {
   "cell_type": "code",
   "execution_count": 27,
   "metadata": {
    "_cell_guid": "062cd416-1e49-4498-9346-e414be027480",
    "_uuid": "c854b785-a053-4d85-86ab-705caccacfed",
    "execution": {
     "iopub.execute_input": "2020-10-09T16:30:04.605383Z",
     "iopub.status.busy": "2020-10-09T16:30:04.604212Z",
     "iopub.status.idle": "2020-10-09T16:30:04.825841Z",
     "shell.execute_reply": "2020-10-09T16:30:04.825071Z"
    },
    "papermill": {
     "duration": 0.358383,
     "end_time": "2020-10-09T16:30:04.826190",
     "exception": false,
     "start_time": "2020-10-09T16:30:04.467807",
     "status": "completed"
    },
    "scrolled": false,
    "tags": []
   },
   "outputs": [
    {
     "name": "stdout",
     "output_type": "stream",
     "text": [
      "Recall metric in the testing dataset:  0.9263157894736842\n"
     ]
    },
    {
     "data": {
      "image/png": "[encoded data removed]",
      "text/plain": [
       "<Figure size 432x288 with 2 Axes>"
      ]
     },
     "metadata": {
      "needs_background": "light"
     },
     "output_type": "display_data"
    }
   ],
   "source": [
    "# Predicting the classes from the test set\n",
    "y_under_pred_rf = rf.predict(X_under_test)\n",
    "\n",
    "# Creating a confusion matrix\n",
    "cm_rf = confusion_matrix(y_under_test, y_under_pred_rf)\n",
    "# Visualizing the confusion matrix as a heatmap\n",
    "sns.heatmap(cm_rf/np.sum(cm_rf), annot=True, cmap='Blues',\n",
    "            fmt='.2%', xticklabels=labels, yticklabels=labels)\n",
    "plt.ylabel('True label')\n",
    "plt.xlabel('Predicted label');\n",
    "print (\"Recall metric in the testing dataset: \", recall_score(y_under_test, y_under_pred_rf))"
   ]
  },
  {
   "cell_type": "markdown",
   "metadata": {
    "papermill": {
     "duration": 0.125725,
     "end_time": "2020-10-09T16:30:05.074824",
     "exception": false,
     "start_time": "2020-10-09T16:30:04.949099",
     "status": "completed"
    },
    "tags": []
   },
   "source": [
    "Tune parameters to get best fit"
   ]
  },
  {
   "cell_type": "markdown",
   "metadata": {
    "_cell_guid": "3825dc34-0abb-4d3e-ad3f-4afded6ab032",
    "_uuid": "5ff9ccb3-8bee-40ec-b570-83260249bdbd",
    "papermill": {
     "duration": 0.121526,
     "end_time": "2020-10-09T16:30:05.320764",
     "exception": false,
     "start_time": "2020-10-09T16:30:05.199238",
     "status": "completed"
    },
    "tags": []
   },
   "source": [
    "# Model 4: Support Vector Machine Classifier"
   ]
  },
  {
   "cell_type": "markdown",
   "metadata": {
    "papermill": {
     "duration": 0.127959,
     "end_time": "2020-10-09T16:30:05.569791",
     "exception": false,
     "start_time": "2020-10-09T16:30:05.441832",
     "status": "completed"
    },
    "tags": []
   },
   "source": [
    "Tune parameters first to find best fit"
   ]
  },
  {
   "cell_type": "code",
   "execution_count": 28,
   "metadata": {
    "execution": {
     "iopub.execute_input": "2020-10-09T16:30:05.835153Z",
     "iopub.status.busy": "2020-10-09T16:30:05.828469Z",
     "iopub.status.idle": "2020-10-09T16:30:14.250742Z",
     "shell.execute_reply": "2020-10-09T16:30:14.248350Z"
    },
    "papermill": {
     "duration": 8.561166,
     "end_time": "2020-10-09T16:30:14.250997",
     "exception": false,
     "start_time": "2020-10-09T16:30:05.689831",
     "status": "completed"
    },
    "tags": []
   },
   "outputs": [
    {
     "name": "stdout",
     "output_type": "stream",
     "text": [
      "Best: 0.557811 using {'C': 0.1, 'gamma': 'scale', 'kernel': 'sigmoid'}\n",
      "0.543433 (0.052047) with: {'C': 50, 'gamma': 'scale', 'kernel': 'poly'}\n",
      "0.545153 (0.056640) with: {'C': 50, 'gamma': 'scale', 'kernel': 'rbf'}\n",
      "0.485811 (0.059202) with: {'C': 50, 'gamma': 'scale', 'kernel': 'sigmoid'}\n",
      "0.543427 (0.051977) with: {'C': 10, 'gamma': 'scale', 'kernel': 'poly'}\n",
      "0.539608 (0.057324) with: {'C': 10, 'gamma': 'scale', 'kernel': 'rbf'}\n",
      "0.485384 (0.060687) with: {'C': 10, 'gamma': 'scale', 'kernel': 'sigmoid'}\n",
      "0.543433 (0.052654) with: {'C': 1.0, 'gamma': 'scale', 'kernel': 'poly'}\n",
      "0.524370 (0.061591) with: {'C': 1.0, 'gamma': 'scale', 'kernel': 'rbf'}\n",
      "0.486644 (0.058130) with: {'C': 1.0, 'gamma': 'scale', 'kernel': 'sigmoid'}\n",
      "0.544704 (0.053181) with: {'C': 0.1, 'gamma': 'scale', 'kernel': 'poly'}\n",
      "0.521411 (0.060547) with: {'C': 0.1, 'gamma': 'scale', 'kernel': 'rbf'}\n",
      "0.557811 (0.039727) with: {'C': 0.1, 'gamma': 'scale', 'kernel': 'sigmoid'}\n",
      "0.546825 (0.048819) with: {'C': 0.01, 'gamma': 'scale', 'kernel': 'poly'}\n",
      "0.504430 (0.002900) with: {'C': 0.01, 'gamma': 'scale', 'kernel': 'rbf'}\n",
      "0.504430 (0.002900) with: {'C': 0.01, 'gamma': 'scale', 'kernel': 'sigmoid'}\n"
     ]
    },
    {
     "name": "stderr",
     "output_type": "stream",
     "text": [
      "/opt/conda/lib/python3.7/site-packages/sklearn/utils/validation.py:72: DataConversionWarning: A column-vector y was passed when a 1d array was expected. Please change the shape of y to (n_samples, ), for example using ravel().\n",
      "  return f(**kwargs)\n"
     ]
    }
   ],
   "source": [
    "# define dataset\n",
    "X = X_under_train\n",
    "y = y_under_train\n",
    "# define model and parameters\n",
    "model = SVC()\n",
    "kernel = ['poly', 'rbf', 'sigmoid']\n",
    "C = [50, 10, 1.0, 0.1, 0.01]\n",
    "gamma = ['scale']\n",
    "# define grid search\n",
    "grid = dict(kernel=kernel,C=C,gamma=gamma)\n",
    "cv = RepeatedStratifiedKFold(n_splits=10, n_repeats=3, random_state=1)\n",
    "grid_search = GridSearchCV(estimator=model, param_grid=grid, n_jobs=-1, cv=cv, scoring='accuracy',error_score=0)\n",
    "grid_result = grid_search.fit(X, y)\n",
    "# summarize results\n",
    "print(\"Best: %f using %s\" % (grid_result.best_score_, grid_result.best_params_))\n",
    "means = grid_result.cv_results_['mean_test_score']\n",
    "stds = grid_result.cv_results_['std_test_score']\n",
    "params = grid_result.cv_results_['params']\n",
    "for mean, stdev, param in zip(means, stds, params):\n",
    "    print(\"%f (%f) with: %r\" % (mean, stdev, param))"
   ]
  },
  {
   "cell_type": "code",
   "execution_count": 29,
   "metadata": {
    "_cell_guid": "cdc69f67-e278-4f57-ba57-6a20e03c766a",
    "_uuid": "27aa4ed0-9847-4c93-88a4-fac04f7acb2d",
    "execution": {
     "iopub.execute_input": "2020-10-09T16:30:14.504494Z",
     "iopub.status.busy": "2020-10-09T16:30:14.503648Z",
     "iopub.status.idle": "2020-10-09T16:30:17.151349Z",
     "shell.execute_reply": "2020-10-09T16:30:17.150304Z"
    },
    "papermill": {
     "duration": 2.778031,
     "end_time": "2020-10-09T16:30:17.151549",
     "exception": false,
     "start_time": "2020-10-09T16:30:14.373518",
     "status": "completed"
    },
    "scrolled": false,
    "tags": []
   },
   "outputs": [
    {
     "name": "stderr",
     "output_type": "stream",
     "text": [
      "/opt/conda/lib/python3.7/site-packages/sklearn/utils/validation.py:72: DataConversionWarning: A column-vector y was passed when a 1d array was expected. Please change the shape of y to (n_samples, ), for example using ravel().\n",
      "  return f(**kwargs)\n"
     ]
    },
    {
     "name": "stdout",
     "output_type": "stream",
     "text": [
      "Support Vector Machine Classifier Score:  0.998 +/-  0.0000\n"
     ]
    }
   ],
   "source": [
    "# Import model\n",
    "from sklearn.svm import SVC\n",
    "\n",
    "# Instantiate (start up) model\n",
    "svc = SVC(C = .1, gamma ='scale', kernel = 'sigmoid', random_state = 42)\n",
    "# Fit model on the training data\n",
    "svc.fit(X_under_train, y_under_train)\n",
    "\n",
    "# Score the model on it's accuracy using cross validation\n",
    "svc_score = cross_val_score(svc, X_test, y_test, cv=3)\n",
    "print(f'Support Vector Machine Classifier Score: {svc_score.mean(): .3f} +/- {2*svc_score.std(): .4f}')"
   ]
  },
  {
   "cell_type": "code",
   "execution_count": 30,
   "metadata": {
    "_cell_guid": "db26c101-98a1-4f3a-881f-345712dddbea",
    "_uuid": "6763135d-5773-49d8-8b68-a4f9246cf510",
    "execution": {
     "iopub.execute_input": "2020-10-09T16:30:17.403554Z",
     "iopub.status.busy": "2020-10-09T16:30:17.402735Z",
     "iopub.status.idle": "2020-10-09T16:30:17.595799Z",
     "shell.execute_reply": "2020-10-09T16:30:17.596436Z"
    },
    "papermill": {
     "duration": 0.324717,
     "end_time": "2020-10-09T16:30:17.596597",
     "exception": false,
     "start_time": "2020-10-09T16:30:17.271880",
     "status": "completed"
    },
    "scrolled": false,
    "tags": []
   },
   "outputs": [
    {
     "name": "stdout",
     "output_type": "stream",
     "text": [
      "Recall metric in the testing dataset:  0.1368421052631579\n"
     ]
    },
    {
     "data": {
      "image/png": "[encoded data removed]",
      "text/plain": [
       "<Figure size 432x288 with 2 Axes>"
      ]
     },
     "metadata": {
      "needs_background": "light"
     },
     "output_type": "display_data"
    }
   ],
   "source": [
    "# Predicting the classes from the test set\n",
    "y_pred_svc = svc.predict(X_under_test)\n",
    "\n",
    "# Creating a confusion matrix\n",
    "cm_svc = confusion_matrix(y_under_test, y_pred_svc)\n",
    "# Visualizing the confusion matrix as a heatmap\n",
    "sns.heatmap(cm_svc/np.sum(cm_svc), annot=True, cmap='Blues',\n",
    "            fmt='.2%', xticklabels=labels, yticklabels=labels)\n",
    "plt.ylabel('True label')\n",
    "plt.xlabel('Predicted label');\n",
    "print (\"Recall metric in the testing dataset: \", recall_score(y_under_test, y_pred_svc))"
   ]
  },
  {
   "cell_type": "markdown",
   "metadata": {
    "_cell_guid": "b36a5fe3-cfe9-4719-ab08-d24fb13f524f",
    "_uuid": "9a990fb8-6ba4-4e66-856e-b3ba6203a8df",
    "papermill": {
     "duration": 0.120635,
     "end_time": "2020-10-09T16:30:17.839230",
     "exception": false,
     "start_time": "2020-10-09T16:30:17.718595",
     "status": "completed"
    },
    "tags": []
   },
   "source": [
    "# **Summary of Model Results**"
   ]
  },
  {
   "cell_type": "markdown",
   "metadata": {
    "_cell_guid": "d033f3a7-1793-4ffe-9e3d-e7163a19baa4",
    "_uuid": "962061a3-f9fe-4b00-83bc-56b5056ef402",
    "papermill": {
     "duration": 0.121213,
     "end_time": "2020-10-09T16:30:18.083747",
     "exception": false,
     "start_time": "2020-10-09T16:30:17.962534",
     "status": "completed"
    },
    "tags": []
   },
   "source": [
    "    1. Logistic Regression             cvs = 93.4 recall = 93.7\n",
    "    2. Decision Trees                  cvs = 89.7 recall = 93.7\n",
    "    3. Random Forest                   cvs = 94.4 recall = 91.6\n",
    "    4. Support Vector Classifier       cvs = 99.8 recall = 13.7"
   ]
  },
  {
   "cell_type": "markdown",
   "metadata": {
    "_cell_guid": "a4edb753-8d86-4794-aff1-e6226f021bc9",
    "_uuid": "ca1aed54-728b-4fb3-88d4-69333d661804",
    "papermill": {
     "duration": 0.122887,
     "end_time": "2020-10-09T16:30:18.328042",
     "exception": false,
     "start_time": "2020-10-09T16:30:18.205155",
     "status": "completed"
    },
    "tags": []
   },
   "source": [
    "Based on the results with the models random forest and logistic regression performed best.Decision tree was not too far behind but support vector classifier had a significantly lower recall. Therefore, only the best two will be performed on the whole dataset as the computational time could be significant if I did all four. "
   ]
  },
  {
   "cell_type": "markdown",
   "metadata": {
    "_cell_guid": "d5a5cd48-7fd6-4a49-8e12-76b0277fe09a",
    "_uuid": "0366af0d-f6c4-437c-925c-76501d386292",
    "papermill": {
     "duration": 0.120441,
     "end_time": "2020-10-09T16:30:18.570245",
     "exception": false,
     "start_time": "2020-10-09T16:30:18.449804",
     "status": "completed"
    },
    "tags": []
   },
   "source": [
    "# Logistic Regression Classifier - Whole Dataset"
   ]
  },
  {
   "cell_type": "markdown",
   "metadata": {
    "_cell_guid": "c1907724-0b11-45c9-9771-7e2db868e275",
    "_uuid": "646bfc6c-9bb0-4fa0-8e59-0b4cfc10480f",
    "papermill": {
     "duration": 0.120528,
     "end_time": "2020-10-09T16:30:18.813442",
     "exception": false,
     "start_time": "2020-10-09T16:30:18.692914",
     "status": "completed"
    },
    "tags": []
   },
   "source": [
    "Due to the imbalacing of the data, many observations could be predicted as False Negatives or False Positives. Therefore recall score is what we are most interested in because it will help us try to capture the most fraudulent transactions. Technically, we could even apply weights since False Positives are not as drastic as False Negatives"
   ]
  },
  {
   "cell_type": "markdown",
   "metadata": {
    "_cell_guid": "bb217213-d238-4d76-b400-ac82c3297272",
    "_uuid": "7a849a19-2916-4c36-824d-d38282bc9bc5",
    "papermill": {
     "duration": 0.122659,
     "end_time": "2020-10-09T16:30:19.056809",
     "exception": false,
     "start_time": "2020-10-09T16:30:18.934150",
     "status": "completed"
    },
    "tags": []
   },
   "source": [
    "plot confusion matrix"
   ]
  },
  {
   "cell_type": "code",
   "execution_count": 31,
   "metadata": {
    "_cell_guid": "cdfc0164-401a-4f14-9782-6b253b46cc3f",
    "_uuid": "5cad0c4f-cdca-4c77-bc7c-0ff31a0389fc",
    "execution": {
     "iopub.execute_input": "2020-10-09T16:30:19.320517Z",
     "iopub.status.busy": "2020-10-09T16:30:19.319511Z",
     "iopub.status.idle": "2020-10-09T16:30:19.323401Z",
     "shell.execute_reply": "2020-10-09T16:30:19.322583Z"
    },
    "papermill": {
     "duration": 0.144634,
     "end_time": "2020-10-09T16:30:19.323548",
     "exception": false,
     "start_time": "2020-10-09T16:30:19.178914",
     "status": "completed"
    },
    "scrolled": false,
    "tags": []
   },
   "outputs": [],
   "source": [
    "import itertools\n",
    "\n",
    "def plot_confusion_matrix(cm, classes,\n",
    "                          normalize=False,\n",
    "                          title='Confusion matrix',\n",
    "                          cmap=plt.cm.Blues):\n",
    "    \"\"\"\n",
    "    This function prints and plots the confusion matrix.\n",
    "    Normalization can be applied by setting `normalize=True`.\n",
    "    \"\"\"\n",
    "    plt.imshow(cm, interpolation='nearest', cmap=cmap)\n",
    "    plt.title(title)\n",
    "    plt.colorbar()\n",
    "    tick_marks = np.arange(len(classes))\n",
    "    plt.xticks(tick_marks, classes, rotation=0)\n",
    "    plt.yticks(tick_marks, classes)\n",
    "\n",
    "    if normalize:\n",
    "        cm = cm.astype('float') / cm.sum(axis=1)[:, np.newaxis]\n",
    "        #print(\"Normalized confusion matrix\")\n",
    "    else:\n",
    "        1#print('Confusion matrix, without normalization')\n",
    "\n",
    "    #print(cm)\n",
    "\n",
    "    thresh = cm.max() / 2.\n",
    "    for i, j in itertools.product(range(cm.shape[0]), range(cm.shape[1])):\n",
    "        plt.text(j, i, cm[i, j],\n",
    "                 horizontalalignment=\"center\",\n",
    "                 color=\"white\" if cm[i, j] > thresh else \"black\")\n",
    "\n",
    "    plt.tight_layout()\n",
    "    plt.ylabel('True label')\n",
    "    plt.xlabel('Predicted label')"
   ]
  },
  {
   "cell_type": "markdown",
   "metadata": {
    "_cell_guid": "2c1752bc-651a-405b-bdd7-bfe5ae554b2f",
    "_uuid": "6305ab19-6cfc-4984-912f-48365f6f16d5",
    "papermill": {
     "duration": 0.122082,
     "end_time": "2020-10-09T16:30:19.566915",
     "exception": false,
     "start_time": "2020-10-09T16:30:19.444833",
     "status": "completed"
    },
    "tags": []
   },
   "source": [
    "**Predictions on test set and plotting confusion matrix**"
   ]
  },
  {
   "cell_type": "markdown",
   "metadata": {
    "_cell_guid": "68c5e19e-3c9a-4286-bfbd-0c162a91216c",
    "_uuid": "c3d963ba-eb01-4488-a2f8-7bb449927723",
    "papermill": {
     "duration": 0.122067,
     "end_time": "2020-10-09T16:30:19.811810",
     "exception": false,
     "start_time": "2020-10-09T16:30:19.689743",
     "status": "completed"
    },
    "tags": []
   },
   "source": [
    "We have been talking about using the recall metric as our proxy of how effective our predictive model is. Even though recall is still the recall we want to calculate, just bear in mind that the undersampled data hasn't have a skewness towards a certain class, which doesn't make recall metric as critical."
   ]
  },
  {
   "cell_type": "code",
   "execution_count": 32,
   "metadata": {
    "_cell_guid": "48b9a5bc-10d9-48ac-93a0-23a08c76576c",
    "_uuid": "1123b92a-3509-435c-852f-ed216676e77c",
    "execution": {
     "iopub.execute_input": "2020-10-09T16:30:20.069294Z",
     "iopub.status.busy": "2020-10-09T16:30:20.068020Z",
     "iopub.status.idle": "2020-10-09T16:30:20.271214Z",
     "shell.execute_reply": "2020-10-09T16:30:20.270520Z"
    },
    "papermill": {
     "duration": 0.338263,
     "end_time": "2020-10-09T16:30:20.271346",
     "exception": false,
     "start_time": "2020-10-09T16:30:19.933083",
     "status": "completed"
    },
    "scrolled": false,
    "tags": []
   },
   "outputs": [
    {
     "name": "stdout",
     "output_type": "stream",
     "text": [
      "Recall metric in the testing dataset:  0.8947368421052632\n"
     ]
    },
    {
     "data": {
      "image/png": "[encoded data removed]",
      "text/plain": [
       "<Figure size 432x288 with 2 Axes>"
      ]
     },
     "metadata": {
      "needs_background": "light"
     },
     "output_type": "display_data"
    }
   ],
   "source": [
    "# Use this C_parameter to build the final model with the whole training dataset and predict the classes in the test\n",
    "# dataset\n",
    "lr = LogisticRegression(C = .1, penalty = 'l2', solver = 'liblinear')\n",
    "lr.fit(X_under_train, y_under_train.values.ravel(),)\n",
    "y_pred_undersample = lr.predict(X_under_test.values)\n",
    "\n",
    "# Compute confusion matrix\n",
    "cnf_matrix = confusion_matrix(y_under_test,y_pred_undersample)\n",
    "np.set_printoptions(precision=2)\n",
    "\n",
    "print(\"Recall metric in the testing dataset: \", cnf_matrix[1,1]/(cnf_matrix[1,0]+cnf_matrix[1,1]))\n",
    "\n",
    "# Plot non-normalized confusion matrix\n",
    "class_names = [0,1]\n",
    "plt.figure()\n",
    "plot_confusion_matrix(cnf_matrix\n",
    "                      , classes=class_names\n",
    "                      , title='Confusion matrix')\n",
    "plt.show()"
   ]
  },
  {
   "cell_type": "markdown",
   "metadata": {
    "_cell_guid": "c86adefa-e089-447d-86d0-aff8a215359e",
    "_uuid": "88a72028-e3b2-4930-969a-0ac6fd23efe0",
    "papermill": {
     "duration": 0.122611,
     "end_time": "2020-10-09T16:30:20.517108",
     "exception": false,
     "start_time": "2020-10-09T16:30:20.394497",
     "status": "completed"
    },
    "tags": []
   },
   "source": [
    "This model has a recall of about 93.6% for the test set. However, this is with the undersampled data not the whole df."
   ]
  },
  {
   "cell_type": "markdown",
   "metadata": {
    "_cell_guid": "9b80b7e6-f025-41d0-b049-da58982b6534",
    "_uuid": "e16a0ffa-3c43-4f45-9a14-23ec09c07cce",
    "papermill": {
     "duration": 0.152215,
     "end_time": "2020-10-09T16:30:20.798432",
     "exception": false,
     "start_time": "2020-10-09T16:30:20.646217",
     "status": "completed"
    },
    "tags": []
   },
   "source": [
    "**Apply model to entire DF**"
   ]
  },
  {
   "cell_type": "markdown",
   "metadata": {
    "papermill": {
     "duration": 0.12454,
     "end_time": "2020-10-09T16:30:21.046223",
     "exception": false,
     "start_time": "2020-10-09T16:30:20.921683",
     "status": "completed"
    },
    "tags": []
   },
   "source": [
    "**Logistic Regression**"
   ]
  },
  {
   "cell_type": "code",
   "execution_count": 33,
   "metadata": {
    "_cell_guid": "61771c33-7d93-4287-ba9c-b81c4831085c",
    "_uuid": "8a00a455-39f0-4cc2-8055-e3edfc7a284c",
    "execution": {
     "iopub.execute_input": "2020-10-09T16:30:21.313770Z",
     "iopub.status.busy": "2020-10-09T16:30:21.312659Z",
     "iopub.status.idle": "2020-10-09T16:30:30.147363Z",
     "shell.execute_reply": "2020-10-09T16:30:30.146614Z"
    },
    "papermill": {
     "duration": 8.976937,
     "end_time": "2020-10-09T16:30:30.147491",
     "exception": false,
     "start_time": "2020-10-09T16:30:21.170554",
     "status": "completed"
    },
    "scrolled": false,
    "tags": []
   },
   "outputs": [
    {
     "name": "stdout",
     "output_type": "stream",
     "text": [
      "Logistic Regression Score:  0.999 +/-  0.0007\n",
      "Recall metric in the testing dataset:  0.8979591836734694\n"
     ]
    },
    {
     "data": {
      "image/png": "[encoded data removed]",
      "text/plain": [
       "<Figure size 432x288 with 2 Axes>"
      ]
     },
     "metadata": {
      "needs_background": "light"
     },
     "output_type": "display_data"
    }
   ],
   "source": [
    "from sklearn.metrics import confusion_matrix\n",
    "from matplotlib import pyplot as plt\n",
    "# Use this C_parameter to build the final model with the whole training dataset and predict the classes in the test\n",
    "# dataset\n",
    "lr = LogisticRegression(C = .1, penalty = 'l2', solver = 'liblinear')\n",
    "lr.fit(X_under_train,y_under_train.values.ravel())\n",
    "y_pred = lr.predict(X_test.values)\n",
    "\n",
    "# Compute confusion matrix\n",
    "cnf_matrix = confusion_matrix(y_test,y_pred)\n",
    "np.set_printoptions(precision=2)\n",
    "\n",
    "# Score the model on it's accuracy using cross validation\n",
    "lr_score = cross_val_score(lr, X_test, y_test, cv=7)\n",
    "print(f'Logistic Regression Score: {lr_score.mean(): .3f} +/- {2*lr_score.std(): .4f}')\n",
    "print(\"Recall metric in the testing dataset: \", cnf_matrix[1,1]/(cnf_matrix[1,0]+cnf_matrix[1,1]))\n",
    "\n",
    "# Plot non-normalized confusion matrix\n",
    "class_names = [0,1]\n",
    "plt.figure()\n",
    "plot_confusion_matrix(cnf_matrix\n",
    "                      , classes=class_names\n",
    "                      , title='Confusion matrix')\n",
    "plt.show()"
   ]
  },
  {
   "cell_type": "markdown",
   "metadata": {
    "_cell_guid": "22033feb-c09b-4fb6-b1f0-9bcc426b6eaf",
    "_uuid": "a1436037-d529-497e-83c7-0586ba63dc15",
    "papermill": {
     "duration": 0.124159,
     "end_time": "2020-10-09T16:30:30.397189",
     "exception": false,
     "start_time": "2020-10-09T16:30:30.273030",
     "status": "completed"
    },
    "tags": []
   },
   "source": [
    "Still the recall is 91.8% even when applied to a larger dataset. However, there are more False Positives than False Negatives. Although, I would prefer this over more False Negatives more False Positives does risk negativly impacting customer satisfaction. Therefore, more testing should be done to reduce False Positives."
   ]
  },
  {
   "cell_type": "markdown",
   "metadata": {
    "papermill": {
     "duration": 0.124935,
     "end_time": "2020-10-09T16:30:30.648757",
     "exception": false,
     "start_time": "2020-10-09T16:30:30.523822",
     "status": "completed"
    },
    "tags": []
   },
   "source": [
    "**Random Forest**"
   ]
  },
  {
   "cell_type": "code",
   "execution_count": 34,
   "metadata": {
    "_cell_guid": "ebc17681-2bd0-438a-8078-5f8b9372d694",
    "_uuid": "fcf82fd0-5a3b-4e4e-b316-531ae9cb7c65",
    "execution": {
     "iopub.execute_input": "2020-10-09T16:30:30.913954Z",
     "iopub.status.busy": "2020-10-09T16:30:30.913155Z",
     "iopub.status.idle": "2020-10-09T16:31:12.798960Z",
     "shell.execute_reply": "2020-10-09T16:31:12.798189Z"
    },
    "papermill": {
     "duration": 42.024407,
     "end_time": "2020-10-09T16:31:12.799091",
     "exception": false,
     "start_time": "2020-10-09T16:30:30.774684",
     "status": "completed"
    },
    "scrolled": false,
    "tags": []
   },
   "outputs": [
    {
     "name": "stderr",
     "output_type": "stream",
     "text": [
      "/opt/conda/lib/python3.7/site-packages/ipykernel_launcher.py:4: DataConversionWarning: A column-vector y was passed when a 1d array was expected. Please change the shape of y to (n_samples,), for example using ravel().\n",
      "  after removing the cwd from sys.path.\n"
     ]
    },
    {
     "name": "stdout",
     "output_type": "stream",
     "text": [
      "Random Forest score:  0.99940 +/-  0.000216\n",
      "Recall metric in the testing dataset:  0.9795918367346939\n"
     ]
    },
    {
     "data": {
      "image/png": "[encoded data removed]",
      "text/plain": [
       "<Figure size 432x288 with 2 Axes>"
      ]
     },
     "metadata": {
      "needs_background": "light"
     },
     "output_type": "display_data"
    }
   ],
   "source": [
    "# Instantiate (start up) model\n",
    "rf = RandomForestClassifier(max_features = 'log2', n_estimators = 100, random_state=42)\n",
    "# Fit model on the training data\n",
    "rf.fit(X_under_train, y_under_train)\n",
    "\n",
    "# Score the model on it's accuracy using cross validation\n",
    "rf_score = cross_val_score(rf, X_test, y_test, cv=3)\n",
    "print(f'Random Forest score: {rf_score.mean(): .5f} +/- {2*rf_score.std(): .6f}')\n",
    "\n",
    "# Predicting the classes from the test set\n",
    "y_pred_rf = rf.predict(X_test.values)\n",
    "\n",
    "# Creating a confusion matrix\n",
    "cm_rf = confusion_matrix(y_test, y_pred_rf)\n",
    "# Visualizing the confusion matrix as a heatmap\n",
    "sns.heatmap(cm_rf/np.sum(cm_rf), annot=True, cmap='Blues',\n",
    "            fmt='.2%', xticklabels=labels, yticklabels=labels)\n",
    "plt.ylabel('True label')\n",
    "plt.xlabel('Predicted label');\n",
    "print (\"Recall metric in the testing dataset: \", recall_score(y_test, y_pred_rf))"
   ]
  },
  {
   "cell_type": "markdown",
   "metadata": {
    "_cell_guid": "1a54c1fa-ad93-46c2-9f5d-443ca69182dc",
    "_uuid": "0630c62a-c134-44e1-923b-a14f339e5057",
    "papermill": {
     "duration": 0.145766,
     "end_time": "2020-10-09T16:31:13.073078",
     "exception": false,
     "start_time": "2020-10-09T16:31:12.927312",
     "status": "completed"
    },
    "tags": []
   },
   "source": [
    "As you can see random forest out preforms logistic regression with better recall accuracy. However, when looking closer we few False Negatives but around 3% false positives. This would still impact customer satisfaction negativly similar to logistic regression. It would be a wise idea look at precision vs recall to tune the model."
   ]
  },
  {
   "cell_type": "markdown",
   "metadata": {
    "_cell_guid": "998a0dc3-feed-4f44-9e12-cff590403981",
    "_uuid": "bd187200-50d5-44dd-af68-43a60c47efdd",
    "papermill": {
     "duration": 0.128414,
     "end_time": "2020-10-09T16:31:13.347980",
     "exception": false,
     "start_time": "2020-10-09T16:31:13.219566",
     "status": "completed"
    },
    "tags": []
   },
   "source": [
    "# **Plotting ROC Curve and Precision-Recall Curve.**"
   ]
  },
  {
   "cell_type": "markdown",
   "metadata": {
    "_cell_guid": "b5909c46-634c-42db-86bc-90d7ee0fdda4",
    "_uuid": "1e29bafb-7137-4efb-aa80-e4d527067c97",
    "papermill": {
     "duration": 0.128196,
     "end_time": "2020-10-09T16:31:13.607031",
     "exception": false,
     "start_time": "2020-10-09T16:31:13.478835",
     "status": "completed"
    },
    "tags": []
   },
   "source": [
    "* Because our problems relies on the \"positive\" class being more interesting than the negative class, but as we have calculated the recall precision, I am not going to plot the precision recall curves yet.\n",
    "\n",
    "* AUC and ROC curve are also interesting to check if the model is also predicting as a whole correctly and not making many errors"
   ]
  },
  {
   "cell_type": "code",
   "execution_count": 35,
   "metadata": {
    "_cell_guid": "abe46737-b69a-4078-ae04-e9e8800a6865",
    "_uuid": "c3b04fad-1ec6-4f5c-8c67-9e016d460667",
    "execution": {
     "iopub.execute_input": "2020-10-09T16:31:13.881115Z",
     "iopub.status.busy": "2020-10-09T16:31:13.880284Z",
     "iopub.status.idle": "2020-10-09T16:31:14.072156Z",
     "shell.execute_reply": "2020-10-09T16:31:14.071513Z"
    },
    "papermill": {
     "duration": 0.331949,
     "end_time": "2020-10-09T16:31:14.072289",
     "exception": false,
     "start_time": "2020-10-09T16:31:13.740340",
     "status": "completed"
    },
    "scrolled": false,
    "tags": []
   },
   "outputs": [
    {
     "data": {
      "image/png": "[encoded data removed]",
      "text/plain": [
       "<Figure size 432x288 with 1 Axes>"
      ]
     },
     "metadata": {
      "needs_background": "light"
     },
     "output_type": "display_data"
    }
   ],
   "source": [
    "# ROC CURVE\n",
    "lr = LogisticRegression(C = .1, penalty = 'l2', solver = 'liblinear' )\n",
    "y_pred_undersample_score = lr.fit(X_under_train,y_under_train.values.ravel()).decision_function(X_under_test.values)\n",
    "\n",
    "fpr, tpr, thresholds = roc_curve(y_under_test.values.ravel(),y_pred_undersample_score)\n",
    "roc_auc = auc(fpr,tpr)\n",
    "\n",
    "# Plot ROC\n",
    "plt.title('Receiver Operating Characteristic')\n",
    "plt.plot(fpr, tpr, 'b',label='AUC = %0.2f'% roc_auc)\n",
    "plt.legend(loc='lower right')\n",
    "plt.plot([0,1],[0,1],'r--')\n",
    "plt.xlim([-0.1,1.0])\n",
    "plt.ylim([-0.1,1.01])\n",
    "plt.ylabel('True Positive Rate')\n",
    "plt.xlabel('False Positive Rate')\n",
    "plt.show()"
   ]
  },
  {
   "cell_type": "markdown",
   "metadata": {
    "_cell_guid": "9e05591b-3f29-4bf1-9731-77f8cee6edda",
    "_uuid": "776b9063-3d68-4bcb-8df2-3284eaa304b8",
    "papermill": {
     "duration": 0.130095,
     "end_time": "2020-10-09T16:31:14.334269",
     "exception": false,
     "start_time": "2020-10-09T16:31:14.204174",
     "status": "completed"
    },
    "tags": []
   },
   "source": [
    "the AOC is near 1.0 which means the model is an excellant classifier. However, this set is not representative of the real population but the undersample set. We should also test this set on other undersample configurations to check that our parameters are optimal"
   ]
  },
  {
   "cell_type": "markdown",
   "metadata": {
    "_cell_guid": "cb511b40-d449-43b1-825e-3c658a93614e",
    "_uuid": "eb7c936c-249f-49d4-9cba-1f95b9e8ee55",
    "papermill": {
     "duration": 0.128699,
     "end_time": "2020-10-09T16:31:14.590501",
     "exception": false,
     "start_time": "2020-10-09T16:31:14.461802",
     "status": "completed"
    },
    "tags": []
   },
   "source": [
    "# Logistic Regression Classifier - Skewed Data"
   ]
  },
  {
   "cell_type": "markdown",
   "metadata": {
    "_cell_guid": "3f969d21-043b-4ef8-849f-aee4962f7710",
    "_uuid": "0cb057bd-fc02-4f46-85a3-557bb960df10",
    "papermill": {
     "duration": 0.133708,
     "end_time": "2020-10-09T16:31:14.853486",
     "exception": false,
     "start_time": "2020-10-09T16:31:14.719778",
     "status": "completed"
    },
    "tags": []
   },
   "source": [
    "Now we need to test the algorithim on the skewed data. My suspicion is the skewness will introduce issues difficult to capture and produce a lower recall score."
   ]
  },
  {
   "cell_type": "code",
   "execution_count": 36,
   "metadata": {
    "_cell_guid": "c1ce175d-56ef-4320-a14f-b4ca04503bc3",
    "_uuid": "d85e3ed4-0cda-4c60-b8d8-41c380a4ce54",
    "execution": {
     "iopub.execute_input": "2020-10-09T16:31:15.135801Z",
     "iopub.status.busy": "2020-10-09T16:31:15.134943Z",
     "iopub.status.idle": "2020-10-09T16:31:29.231683Z",
     "shell.execute_reply": "2020-10-09T16:31:29.230885Z"
    },
    "papermill": {
     "duration": 14.24593,
     "end_time": "2020-10-09T16:31:29.231827",
     "exception": false,
     "start_time": "2020-10-09T16:31:14.985897",
     "status": "completed"
    },
    "scrolled": false,
    "tags": []
   },
   "outputs": [
    {
     "name": "stdout",
     "output_type": "stream",
     "text": [
      "Logistic Regression Score:  0.999 +/-  0.0007\n",
      "Recall metric in the testing dataset:  0.673469387755102\n"
     ]
    },
    {
     "data": {
      "image/png": "[encoded data removed]",
      "text/plain": [
       "<Figure size 432x288 with 2 Axes>"
      ]
     },
     "metadata": {
      "needs_background": "light"
     },
     "output_type": "display_data"
    }
   ],
   "source": [
    "# Use this C_parameter to build the final model with the whole training dataset and predict the classes in the test\n",
    "# dataset\n",
    "lr = LogisticRegression(C = .1, penalty = 'l2', solver = 'liblinear')\n",
    "lr.fit(X_train,y_train.values.ravel())\n",
    "y_pred_undersample = lr.predict(X_test.values)\n",
    "\n",
    "# Compute confusion matrix\n",
    "cnf_matrix = confusion_matrix(y_test,y_pred_undersample)\n",
    "np.set_printoptions(precision=2)\n",
    "\n",
    "# Score the model on it's accuracy using cross validation\n",
    "lr_score = cross_val_score(lr, X_test, y_test, cv=7)\n",
    "print(f'Logistic Regression Score: {lr_score.mean(): .3f} +/- {2*lr_score.std(): .4f}')\n",
    "print(\"Recall metric in the testing dataset: \", cnf_matrix[1,1]/(cnf_matrix[1,0]+cnf_matrix[1,1]))\n",
    "\n",
    "# Plot non-normalized confusion matrix\n",
    "class_names = [0,1]\n",
    "plt.figure()\n",
    "plot_confusion_matrix(cnf_matrix\n",
    "                      , classes=class_names\n",
    "                      , title='Confusion matrix')\n",
    "plt.show()"
   ]
  },
  {
   "cell_type": "markdown",
   "metadata": {
    "_cell_guid": "5acdc23d-09f1-4f64-ba28-cf69d005274c",
    "_uuid": "d1b55d03-7797-43fc-8eff-ec02cf17867f",
    "papermill": {
     "duration": 0.13287,
     "end_time": "2020-10-09T16:31:29.499596",
     "exception": false,
     "start_time": "2020-10-09T16:31:29.366726",
     "status": "completed"
    },
    "tags": []
   },
   "source": [
    "It is clear that by undersampling our algorithms are much better at detecting fraud."
   ]
  },
  {
   "cell_type": "markdown",
   "metadata": {
    "_cell_guid": "c9e54dc2-81e5-4482-b9fb-cf53d06353c7",
    "_uuid": "5d86fec4-1e1d-4f3d-8977-946291cdac0d",
    "papermill": {
     "duration": 0.132592,
     "end_time": "2020-10-09T16:31:29.761855",
     "exception": false,
     "start_time": "2020-10-09T16:31:29.629263",
     "status": "completed"
    },
    "tags": []
   },
   "source": [
    "We can also tweak model by changing threshold. Lets test is with undersampled data."
   ]
  },
  {
   "cell_type": "code",
   "execution_count": 37,
   "metadata": {
    "_cell_guid": "cd13c4f1-6227-4282-bfd6-cacd00f74036",
    "_uuid": "b7011f37-f63e-4e65-a481-c4f9c1ecd0ee",
    "execution": {
     "iopub.execute_input": "2020-10-09T16:31:30.044810Z",
     "iopub.status.busy": "2020-10-09T16:31:30.043962Z",
     "iopub.status.idle": "2020-10-09T16:31:32.613985Z",
     "shell.execute_reply": "2020-10-09T16:31:32.613321Z"
    },
    "papermill": {
     "duration": 2.721222,
     "end_time": "2020-10-09T16:31:32.614122",
     "exception": false,
     "start_time": "2020-10-09T16:31:29.892900",
     "status": "completed"
    },
    "scrolled": false,
    "tags": []
   },
   "outputs": [
    {
     "name": "stdout",
     "output_type": "stream",
     "text": [
      "Recall metric in the testing dataset:  1.0\n",
      "Recall metric in the testing dataset:  1.0\n",
      "Recall metric in the testing dataset:  0.968421052631579\n",
      "Recall metric in the testing dataset:  0.9263157894736842\n",
      "Recall metric in the testing dataset:  0.8947368421052632\n",
      "Recall metric in the testing dataset:  0.8842105263157894\n",
      "Recall metric in the testing dataset:  0.8631578947368421\n",
      "Recall metric in the testing dataset:  0.8105263157894737\n",
      "Recall metric in the testing dataset:  0.7684210526315789\n"
     ]
    },
    {
     "data": {
      "image/png": "[encoded data removed]",
      "text/plain": [
       "<Figure size 720x720 with 18 Axes>"
      ]
     },
     "metadata": {
      "needs_background": "light"
     },
     "output_type": "display_data"
    }
   ],
   "source": [
    "lr = LogisticRegression(C = 0.1, penalty = 'l2', solver = 'liblinear')\n",
    "lr.fit(X_under_train,y_under_train.values.ravel())\n",
    "y_pred_undersample_proba = lr.predict_proba(X_under_test.values)\n",
    "\n",
    "thresholds = [0.1,0.2,0.3,0.4,0.5,0.6,0.7,0.8,0.9]\n",
    "\n",
    "plt.figure(figsize=(10,10))\n",
    "\n",
    "j = 1\n",
    "for i in thresholds:\n",
    "    y_test_predictions_high_recall = y_pred_undersample_proba[:,1] > i\n",
    "    \n",
    "    plt.subplot(3,3,j)\n",
    "    j += 1\n",
    "    \n",
    "    # Compute confusion matrix\n",
    "    cnf_matrix = confusion_matrix(y_under_test,y_test_predictions_high_recall)\n",
    "    np.set_printoptions(precision=2)\n",
    "\n",
    "    print(\"Recall metric in the testing dataset: \", cnf_matrix[1,1]/(cnf_matrix[1,0]+cnf_matrix[1,1]))\n",
    "\n",
    "    # Plot non-normalized confusion matrix\n",
    "    class_names = [0,1]\n",
    "    plot_confusion_matrix(cnf_matrix\n",
    "                          , classes=class_names\n",
    "                          , title='Threshold >= %s'%i)"
   ]
  },
  {
   "cell_type": "markdown",
   "metadata": {
    "_cell_guid": "87815ab0-6981-453d-9a8a-de2d6630fb99",
    "_uuid": "ab17c6df-a50e-4599-b8dc-f00d0b813991",
    "papermill": {
     "duration": 0.164177,
     "end_time": "2020-10-09T16:31:32.933360",
     "exception": false,
     "start_time": "2020-10-09T16:31:32.769183",
     "status": "completed"
    },
    "tags": []
   },
   "source": [
    "Setting the threshold to .3-.6 performs the best. As recal increases precision decreases. Therefore, even though recall is our most important metric to reduce false negatives we also do not want to misclassify other classes as well. Testing the thresholds precision vs recall could therefore be a useful tool to decide the optimal metric for our model."
   ]
  },
  {
   "cell_type": "code",
   "execution_count": 38,
   "metadata": {
    "_cell_guid": "ff88eb9b-bddb-4bca-86a1-a76861660e92",
    "_uuid": "74be98bc-1087-476d-80e2-9ebfc19a3e02",
    "execution": {
     "iopub.execute_input": "2020-10-09T16:31:33.240080Z",
     "iopub.status.busy": "2020-10-09T16:31:33.238829Z",
     "iopub.status.idle": "2020-10-09T16:31:33.570586Z",
     "shell.execute_reply": "2020-10-09T16:31:33.571219Z"
    },
    "papermill": {
     "duration": 0.489608,
     "end_time": "2020-10-09T16:31:33.571389",
     "exception": false,
     "start_time": "2020-10-09T16:31:33.081781",
     "status": "completed"
    },
    "scrolled": false,
    "tags": []
   },
   "outputs": [
    {
     "data": {
      "image/png": "[encoded data removed]",
      "text/plain": [
       "<Figure size 720x720 with 1 Axes>"
      ]
     },
     "metadata": {
      "needs_background": "light"
     },
     "output_type": "display_data"
    }
   ],
   "source": [
    "from itertools import cycle\n",
    "\n",
    "lr = LogisticRegression(C = .1, penalty = 'l2', solver = 'liblinear')\n",
    "lr.fit(X_under_train, y_under_train.values.ravel())\n",
    "y_pred_undersample_proba = lr.predict_proba(X_under_test.values)\n",
    "\n",
    "thresholds = [0.1,0.2,0.3,0.4,0.5,0.6,0.7,0.8,0.9]\n",
    "colors = cycle(['navy', 'turquoise', 'darkorange', 'cornflowerblue', 'teal', 'red', 'yellow', 'green', 'blue','black'])\n",
    "\n",
    "plt.figure(figsize=(10,10))\n",
    "\n",
    "j = 1\n",
    "for i,color in zip(thresholds,colors):\n",
    "    y_test_predictions_prob = y_pred_undersample_proba[:,1] > i\n",
    "    \n",
    "    precision, recall, thresholds = precision_recall_curve(y_under_test,y_test_predictions_prob)\n",
    "    \n",
    "    # Plot Precision-Recall curve\n",
    "    plt.plot(recall, precision, color=color,\n",
    "                 label='Threshold: %s'%i)\n",
    "    plt.xlabel('Recall')\n",
    "    plt.ylabel('Precision')\n",
    "    plt.ylim([0.7, 1.1])\n",
    "    plt.xlim([0.7, 1.0])\n",
    "    plt.title('Precision-Recall example')\n",
    "    plt.legend(loc=\"lower left\", prop={'size': 16})"
   ]
  },
  {
   "cell_type": "markdown",
   "metadata": {
    "_cell_guid": "cf83102d-bbcb-47a4-b672-a92d0b2683bb",
    "_uuid": "95c9b7a7-87fe-4f56-ac47-364aec11db50",
    "papermill": {
     "duration": 0.138501,
     "end_time": "2020-10-09T16:31:33.854976",
     "exception": false,
     "start_time": "2020-10-09T16:31:33.716475",
     "status": "completed"
    },
    "tags": []
   },
   "source": [
    "Here the threshold of .3-.6 performs the best overall. Only thing that could imporve the model beyond what I have done already is feature engineering. This requires evaluating which features are the most important."
   ]
  },
  {
   "cell_type": "markdown",
   "metadata": {
    "_cell_guid": "16c5d5e0-00fb-49ad-a39a-5bb948cc3011",
    "_uuid": "82198427-08f4-44ea-9cca-c777edb3a66b",
    "papermill": {
     "duration": 0.140474,
     "end_time": "2020-10-09T16:31:34.132416",
     "exception": false,
     "start_time": "2020-10-09T16:31:33.991942",
     "status": "completed"
    },
    "tags": []
   },
   "source": [
    "# Feature Engineering"
   ]
  },
  {
   "cell_type": "code",
   "execution_count": 39,
   "metadata": {
    "_cell_guid": "d668f7d6-2ca3-415c-931b-53640b102cd6",
    "_uuid": "7aadec61-51bf-4f98-a07f-70fc03393f26",
    "execution": {
     "iopub.execute_input": "2020-10-09T16:31:34.415168Z",
     "iopub.status.busy": "2020-10-09T16:31:34.414382Z",
     "iopub.status.idle": "2020-10-09T16:31:34.535731Z",
     "shell.execute_reply": "2020-10-09T16:31:34.535026Z"
    },
    "papermill": {
     "duration": 0.265238,
     "end_time": "2020-10-09T16:31:34.535889",
     "exception": false,
     "start_time": "2020-10-09T16:31:34.270651",
     "status": "completed"
    },
    "scrolled": false,
    "tags": []
   },
   "outputs": [
    {
     "name": "stdout",
     "output_type": "stream",
     "text": [
      "Class    1.000000\n",
      "V11      0.154876\n",
      "V4       0.133447\n",
      "V2       0.091289\n",
      "V21      0.040413\n",
      "V19      0.034783\n",
      "V20      0.020090\n",
      "V8       0.019875\n",
      "V27      0.017580\n",
      "V28      0.009536\n",
      "dtype: float64\n"
     ]
    }
   ],
   "source": [
    "corr = data.corrwith(data['Class']).sort_values(ascending = False)\n",
    "print(corr.head(10))"
   ]
  },
  {
   "cell_type": "code",
   "execution_count": 40,
   "metadata": {
    "_cell_guid": "259cc241-a1f8-4523-ba2a-4b64abed30bd",
    "_uuid": "af4fe8dd-d145-4485-bbe4-c309edfedc7f",
    "execution": {
     "iopub.execute_input": "2020-10-09T16:31:34.835037Z",
     "iopub.status.busy": "2020-10-09T16:31:34.833700Z",
     "iopub.status.idle": "2020-10-09T16:31:34.944420Z",
     "shell.execute_reply": "2020-10-09T16:31:34.943764Z"
    },
    "papermill": {
     "duration": 0.269199,
     "end_time": "2020-10-09T16:31:34.944560",
     "exception": false,
     "start_time": "2020-10-09T16:31:34.675361",
     "status": "completed"
    },
    "scrolled": false,
    "tags": []
   },
   "outputs": [
    {
     "name": "stdout",
     "output_type": "stream",
     "text": [
      "V17   -0.326481\n",
      "V14   -0.302544\n",
      "V12   -0.260593\n",
      "V10   -0.216883\n",
      "V16   -0.196539\n",
      "V3    -0.192961\n",
      "V7    -0.187257\n",
      "V18   -0.111485\n",
      "V1    -0.101347\n",
      "V9    -0.097733\n",
      "V5    -0.094974\n",
      "V6    -0.043643\n",
      "dtype: float64\n"
     ]
    }
   ],
   "source": [
    "corr = data.corrwith(data['Class']).sort_values(ascending = True)\n",
    "print(corr.head(12))"
   ]
  },
  {
   "cell_type": "markdown",
   "metadata": {
    "_cell_guid": "81b64247-ab41-491c-bd59-cd2eb3836822",
    "_uuid": "5eafe414-d7cc-4239-a58b-8cf5dff5f8b2",
    "papermill": {
     "duration": 0.139202,
     "end_time": "2020-10-09T16:31:35.225525",
     "exception": false,
     "start_time": "2020-10-09T16:31:35.086323",
     "status": "completed"
    },
    "tags": []
   },
   "source": [
    "seems positive coorelations drop off significantly after the first 6 and negative correlations after the first 12"
   ]
  },
  {
   "cell_type": "code",
   "execution_count": 41,
   "metadata": {
    "_cell_guid": "50f64dc2-505c-48f7-8798-851541f6d4ed",
    "_uuid": "6862d208-f91b-482c-a9df-c71c5806bd5b",
    "execution": {
     "iopub.execute_input": "2020-10-09T16:31:35.520955Z",
     "iopub.status.busy": "2020-10-09T16:31:35.519787Z",
     "iopub.status.idle": "2020-10-09T16:31:35.531540Z",
     "shell.execute_reply": "2020-10-09T16:31:35.530674Z"
    },
    "papermill": {
     "duration": 0.166647,
     "end_time": "2020-10-09T16:31:35.531704",
     "exception": false,
     "start_time": "2020-10-09T16:31:35.365057",
     "status": "completed"
    },
    "scrolled": false,
    "tags": []
   },
   "outputs": [
    {
     "name": "stdout",
     "output_type": "stream",
     "text": [
      "   Column name  Feature Importance\n",
      "14         V14            0.160356\n",
      "12         V12            0.106784\n",
      "4           V4            0.098410\n",
      "17         V17            0.076882\n",
      "3           V3            0.068787\n",
      "11         V11            0.067514\n",
      "2           V2            0.052810\n",
      "16         V16            0.051059\n",
      "10         V10            0.049471\n",
      "7           V7            0.040858\n",
      "9           V9            0.026148\n",
      "21         V21            0.019070\n",
      "18         V18            0.017375\n",
      "19         V19            0.015744\n",
      "28         V28            0.014231\n",
      "27         V27            0.013578\n",
      "20         V20            0.012715\n"
     ]
    }
   ],
   "source": [
    "# Creating a DataFrame with feature importances\n",
    "impt = pd.DataFrame(zip(X_test.columns, rf.feature_importances_), columns=['Column name', 'Feature Importance'])\n",
    "impt.sort_values(by='Feature Importance', ascending=False)\n",
    "print(impt.sort_values(by='Feature Importance', ascending=False).head(17))"
   ]
  },
  {
   "cell_type": "markdown",
   "metadata": {
    "_cell_guid": "7a5cece2-a4e7-49eb-80b3-d733071748a8",
    "_uuid": "c8639565-3703-4144-b3ae-7c76ad51a752",
    "papermill": {
     "duration": 0.141296,
     "end_time": "2020-10-09T16:31:35.812894",
     "exception": false,
     "start_time": "2020-10-09T16:31:35.671598",
     "status": "completed"
    },
    "tags": []
   },
   "source": [
    "when looking at a features performance overall the first 7 seem to compose most of the data. I don't feel like removing 23 features because I will limit the data I am analayzing too severly. I would prefer to keep around 90% data."
   ]
  },
  {
   "cell_type": "code",
   "execution_count": 42,
   "metadata": {
    "_cell_guid": "d8485489-4313-4432-95f5-0b962b7839f9",
    "_uuid": "39d77aa1-951e-4234-ab32-f07e61c8e5bd",
    "execution": {
     "iopub.execute_input": "2020-10-09T16:31:36.110395Z",
     "iopub.status.busy": "2020-10-09T16:31:36.109391Z",
     "iopub.status.idle": "2020-10-09T16:31:36.114107Z",
     "shell.execute_reply": "2020-10-09T16:31:36.113176Z"
    },
    "papermill": {
     "duration": 0.163287,
     "end_time": "2020-10-09T16:31:36.114282",
     "exception": false,
     "start_time": "2020-10-09T16:31:35.950995",
     "status": "completed"
    },
    "scrolled": false,
    "tags": []
   },
   "outputs": [
    {
     "name": "stdout",
     "output_type": "stream",
     "text": [
      "Column name           V14V12V4V17V3V11V2V16V10V7V9V21V18V19V28V27V20\n",
      "Feature Importance                                          0.891792\n",
      "dtype: object\n"
     ]
    }
   ],
   "source": [
    "print(impt.sort_values(by='Feature Importance', ascending=False).head(17).sum())"
   ]
  },
  {
   "cell_type": "markdown",
   "metadata": {
    "_cell_guid": "11de90ec-b81c-4f48-80dc-09185d9ea897",
    "_uuid": "67cf8aed-0eac-478e-830b-20ce3c05b68b",
    "papermill": {
     "duration": 0.141721,
     "end_time": "2020-10-09T16:31:36.399141",
     "exception": false,
     "start_time": "2020-10-09T16:31:36.257420",
     "status": "completed"
    },
    "tags": []
   },
   "source": [
    "For this attempt I will try focusing on the 17 most important features which will still compose 90% of the original dataset."
   ]
  },
  {
   "cell_type": "code",
   "execution_count": 43,
   "metadata": {
    "_cell_guid": "bca43ba7-5f87-4fb1-bee1-848c59f1eae5",
    "_uuid": "75e814fc-571e-483f-ae2b-c2ab2f39323c",
    "execution": {
     "iopub.execute_input": "2020-10-09T16:31:36.698270Z",
     "iopub.status.busy": "2020-10-09T16:31:36.697215Z",
     "iopub.status.idle": "2020-10-09T16:31:36.701098Z",
     "shell.execute_reply": "2020-10-09T16:31:36.700350Z"
    },
    "papermill": {
     "duration": 0.161631,
     "end_time": "2020-10-09T16:31:36.701233",
     "exception": false,
     "start_time": "2020-10-09T16:31:36.539602",
     "status": "completed"
    },
    "scrolled": false,
    "tags": []
   },
   "outputs": [],
   "source": [
    "#create new dataset containing only the 17 features of interest.\n",
    "\n",
    "new_data = data[['Class','V14', 'V4', 'V10', 'V12', 'V17',\n",
    "                'V11', 'V3', 'V16', 'V2', 'V9', 'V21',\n",
    "                'V19', 'V7', 'Amount', 'V6', 'V18', 'V26']]"
   ]
  },
  {
   "cell_type": "code",
   "execution_count": 44,
   "metadata": {
    "_cell_guid": "e628290c-2eca-40f0-b85e-75e7556b6dc2",
    "_uuid": "8eab94ff-3ec0-4fe2-a5a4-00b76bc11d86",
    "execution": {
     "iopub.execute_input": "2020-10-09T16:31:36.995881Z",
     "iopub.status.busy": "2020-10-09T16:31:36.994536Z",
     "iopub.status.idle": "2020-10-09T16:31:37.025435Z",
     "shell.execute_reply": "2020-10-09T16:31:37.024418Z"
    },
    "papermill": {
     "duration": 0.177232,
     "end_time": "2020-10-09T16:31:37.025637",
     "exception": false,
     "start_time": "2020-10-09T16:31:36.848405",
     "status": "completed"
    },
    "scrolled": false,
    "tags": []
   },
   "outputs": [
    {
     "name": "stdout",
     "output_type": "stream",
     "text": [
      "<class 'pandas.core.frame.DataFrame'>\n",
      "RangeIndex: 284807 entries, 0 to 284806\n",
      "Data columns (total 18 columns):\n",
      " #   Column  Non-Null Count   Dtype  \n",
      "---  ------  --------------   -----  \n",
      " 0   Class   284807 non-null  int64  \n",
      " 1   V14     284807 non-null  float64\n",
      " 2   V4      284807 non-null  float64\n",
      " 3   V10     284807 non-null  float64\n",
      " 4   V12     284807 non-null  float64\n",
      " 5   V17     284807 non-null  float64\n",
      " 6   V11     284807 non-null  float64\n",
      " 7   V3      284807 non-null  float64\n",
      " 8   V16     284807 non-null  float64\n",
      " 9   V2      284807 non-null  float64\n",
      " 10  V9      284807 non-null  float64\n",
      " 11  V21     284807 non-null  float64\n",
      " 12  V19     284807 non-null  float64\n",
      " 13  V7      284807 non-null  float64\n",
      " 14  Amount  284807 non-null  float64\n",
      " 15  V6      284807 non-null  float64\n",
      " 16  V18     284807 non-null  float64\n",
      " 17  V26     284807 non-null  float64\n",
      "dtypes: float64(17), int64(1)\n",
      "memory usage: 39.1 MB\n"
     ]
    }
   ],
   "source": [
    "new_data.info()"
   ]
  },
  {
   "cell_type": "code",
   "execution_count": 45,
   "metadata": {
    "_cell_guid": "6bf9ed04-5fb9-4d22-baa0-02b486d17a59",
    "_uuid": "1abf22d6-1f78-43d3-a0d1-7014a49c6c11",
    "execution": {
     "iopub.execute_input": "2020-10-09T16:31:37.369200Z",
     "iopub.status.busy": "2020-10-09T16:31:37.368395Z",
     "iopub.status.idle": "2020-10-09T16:31:37.469696Z",
     "shell.execute_reply": "2020-10-09T16:31:37.469053Z"
    },
    "papermill": {
     "duration": 0.301621,
     "end_time": "2020-10-09T16:31:37.469846",
     "exception": false,
     "start_time": "2020-10-09T16:31:37.168225",
     "status": "completed"
    },
    "scrolled": false,
    "tags": []
   },
   "outputs": [],
   "source": [
    "#create new TT split so that enitre dataset and undersampled one are equal in shape with the 17 features of interest\n",
    "# Remove 'id' and 'target' columns\n",
    "labels = data.drop(['Class'], axis=1)\n",
    "\n",
    "X = labels\n",
    "y = data['Class']\n",
    "\n",
    "\n",
    "X_train, X_test, y_train, y_test = train_test_split(data.drop(columns = ['Class']),data['Class'],test_size = 0.2, random_state = 42)"
   ]
  },
  {
   "cell_type": "markdown",
   "metadata": {
    "papermill": {
     "duration": 0.146532,
     "end_time": "2020-10-09T16:31:37.760609",
     "exception": false,
     "start_time": "2020-10-09T16:31:37.614077",
     "status": "completed"
    },
    "tags": []
   },
   "source": [
    "Checking for codoing errors from the split."
   ]
  },
  {
   "cell_type": "code",
   "execution_count": 46,
   "metadata": {
    "execution": {
     "iopub.execute_input": "2020-10-09T16:31:38.078483Z",
     "iopub.status.busy": "2020-10-09T16:31:38.077691Z",
     "iopub.status.idle": "2020-10-09T16:31:38.095487Z",
     "shell.execute_reply": "2020-10-09T16:31:38.094507Z"
    },
    "papermill": {
     "duration": 0.166094,
     "end_time": "2020-10-09T16:31:38.095674",
     "exception": false,
     "start_time": "2020-10-09T16:31:37.929580",
     "status": "completed"
    },
    "tags": []
   },
   "outputs": [
    {
     "name": "stdout",
     "output_type": "stream",
     "text": [
      "<class 'pandas.core.frame.DataFrame'>\n",
      "Int64Index: 56962 entries, 43428 to 59490\n",
      "Data columns (total 30 columns):\n",
      " #   Column  Non-Null Count  Dtype  \n",
      "---  ------  --------------  -----  \n",
      " 0   Time    56962 non-null  float64\n",
      " 1   V1      56962 non-null  float64\n",
      " 2   V2      56962 non-null  float64\n",
      " 3   V3      56962 non-null  float64\n",
      " 4   V4      56962 non-null  float64\n",
      " 5   V5      56962 non-null  float64\n",
      " 6   V6      56962 non-null  float64\n",
      " 7   V7      56962 non-null  float64\n",
      " 8   V8      56962 non-null  float64\n",
      " 9   V9      56962 non-null  float64\n",
      " 10  V10     56962 non-null  float64\n",
      " 11  V11     56962 non-null  float64\n",
      " 12  V12     56962 non-null  float64\n",
      " 13  V13     56962 non-null  float64\n",
      " 14  V14     56962 non-null  float64\n",
      " 15  V15     56962 non-null  float64\n",
      " 16  V16     56962 non-null  float64\n",
      " 17  V17     56962 non-null  float64\n",
      " 18  V18     56962 non-null  float64\n",
      " 19  V19     56962 non-null  float64\n",
      " 20  V20     56962 non-null  float64\n",
      " 21  V21     56962 non-null  float64\n",
      " 22  V22     56962 non-null  float64\n",
      " 23  V23     56962 non-null  float64\n",
      " 24  V24     56962 non-null  float64\n",
      " 25  V25     56962 non-null  float64\n",
      " 26  V26     56962 non-null  float64\n",
      " 27  V27     56962 non-null  float64\n",
      " 28  V28     56962 non-null  float64\n",
      " 29  Amount  56962 non-null  float64\n",
      "dtypes: float64(30)\n",
      "memory usage: 13.5 MB\n"
     ]
    }
   ],
   "source": [
    "X_test.info()"
   ]
  },
  {
   "cell_type": "code",
   "execution_count": 47,
   "metadata": {
    "_cell_guid": "d9404501-a466-4f00-bf6f-ebaa13ca9cc6",
    "_uuid": "3286ea83-b599-458d-a605-5360f8caeab2",
    "execution": {
     "iopub.execute_input": "2020-10-09T16:31:38.408333Z",
     "iopub.status.busy": "2020-10-09T16:31:38.407145Z",
     "iopub.status.idle": "2020-10-09T16:31:38.570015Z",
     "shell.execute_reply": "2020-10-09T16:31:38.570576Z"
    },
    "papermill": {
     "duration": 0.313601,
     "end_time": "2020-10-09T16:31:38.570747",
     "exception": false,
     "start_time": "2020-10-09T16:31:38.257146",
     "status": "completed"
    },
    "scrolled": false,
    "tags": []
   },
   "outputs": [
    {
     "name": "stdout",
     "output_type": "stream",
     "text": [
      "1    492\n",
      "0    492\n",
      "Name: Class, dtype: int64\n"
     ]
    },
    {
     "data": {
      "image/png": "[encoded data removed]",
      "text/plain": [
       "<Figure size 432x288 with 1 Axes>"
      ]
     },
     "metadata": {
      "needs_background": "light"
     },
     "output_type": "display_data"
    }
   ],
   "source": [
    "#create new dataset only containg 17 features of interest\n",
    "\n",
    "# number of fraud cases\n",
    "fraud = len(new_data[new_data['Class'] == 1])\n",
    "\n",
    "#get indices of non fraud samples\n",
    "non_fraud_indices = new_data[new_data.Class == 0].index\n",
    "\n",
    "#Random sample non fraud indices\n",
    "random_indices = np.random.choice(non_fraud_indices,fraud, replace=False)\n",
    "\n",
    "#find fraud samples\n",
    "fraud_indices = new_data[new_data.Class == 1].index\n",
    "\n",
    "#concat fraud indices with sample non-fraud ones\n",
    "under_sample_indices = np.concatenate([fraud_indices,random_indices])\n",
    "\n",
    "#balance the DF\n",
    "under_sample = new_data.loc[under_sample_indices]\n",
    "\n",
    "\n",
    "# histograms of new data\n",
    "print(under_sample.Class.value_counts())\n",
    "under_sample.Class.value_counts().plot(kind='bar', title='Count (Class)');"
   ]
  },
  {
   "cell_type": "code",
   "execution_count": 48,
   "metadata": {
    "_cell_guid": "e853e244-9f58-40fd-8c16-4ee75f139005",
    "_uuid": "cde79b7e-91c1-4799-aaa8-3fc4e7397550",
    "execution": {
     "iopub.execute_input": "2020-10-09T16:31:38.873329Z",
     "iopub.status.busy": "2020-10-09T16:31:38.872379Z",
     "iopub.status.idle": "2020-10-09T16:31:38.878716Z",
     "shell.execute_reply": "2020-10-09T16:31:38.877952Z"
    },
    "papermill": {
     "duration": 0.162938,
     "end_time": "2020-10-09T16:31:38.878838",
     "exception": false,
     "start_time": "2020-10-09T16:31:38.715900",
     "status": "completed"
    },
    "scrolled": false,
    "tags": []
   },
   "outputs": [],
   "source": [
    "#setup train and test sets with the 17 features of interest for the undersampling training set and test to check\n",
    "\n",
    "X2_under = under_sample.loc[:,under_sample.columns != 'Class']\n",
    "y2_under = under_sample.loc[:,under_sample.columns == 'Class']\n",
    "X2_under_train, X2_under_test, y2_under_train, y2_under_test = train_test_split(X_under,y_under,test_size = 0.2, random_state = 2)"
   ]
  },
  {
   "cell_type": "markdown",
   "metadata": {
    "papermill": {
     "duration": 0.145633,
     "end_time": "2020-10-09T16:31:39.167745",
     "exception": false,
     "start_time": "2020-10-09T16:31:39.022112",
     "status": "completed"
    },
    "tags": []
   },
   "source": [
    "Checking to make sure there are no coding errors in the split."
   ]
  },
  {
   "cell_type": "code",
   "execution_count": 49,
   "metadata": {
    "_cell_guid": "bd3d73ba-a5f5-48f9-8c16-419884551eb6",
    "_uuid": "b850440b-5011-4bc8-a65d-eabe968a02ed",
    "execution": {
     "iopub.execute_input": "2020-10-09T16:31:39.471167Z",
     "iopub.status.busy": "2020-10-09T16:31:39.470361Z",
     "iopub.status.idle": "2020-10-09T16:31:39.474966Z",
     "shell.execute_reply": "2020-10-09T16:31:39.474080Z"
    },
    "papermill": {
     "duration": 0.161018,
     "end_time": "2020-10-09T16:31:39.475151",
     "exception": false,
     "start_time": "2020-10-09T16:31:39.314133",
     "status": "completed"
    },
    "scrolled": false,
    "tags": []
   },
   "outputs": [
    {
     "name": "stdout",
     "output_type": "stream",
     "text": [
      "<class 'pandas.core.frame.DataFrame'>\n",
      "Int64Index: 984 entries, 541 to 216800\n",
      "Data columns (total 17 columns):\n",
      " #   Column  Non-Null Count  Dtype  \n",
      "---  ------  --------------  -----  \n",
      " 0   V14     984 non-null    float64\n",
      " 1   V4      984 non-null    float64\n",
      " 2   V10     984 non-null    float64\n",
      " 3   V12     984 non-null    float64\n",
      " 4   V17     984 non-null    float64\n",
      " 5   V11     984 non-null    float64\n",
      " 6   V3      984 non-null    float64\n",
      " 7   V16     984 non-null    float64\n",
      " 8   V2      984 non-null    float64\n",
      " 9   V9      984 non-null    float64\n",
      " 10  V21     984 non-null    float64\n",
      " 11  V19     984 non-null    float64\n",
      " 12  V7      984 non-null    float64\n",
      " 13  Amount  984 non-null    float64\n",
      " 14  V6      984 non-null    float64\n",
      " 15  V18     984 non-null    float64\n",
      " 16  V26     984 non-null    float64\n",
      "dtypes: float64(17)\n",
      "memory usage: 138.4 KB\n"
     ]
    }
   ],
   "source": [
    "X2_under.info()"
   ]
  },
  {
   "cell_type": "code",
   "execution_count": 50,
   "metadata": {
    "execution": {
     "iopub.execute_input": "2020-10-09T16:31:39.786135Z",
     "iopub.status.busy": "2020-10-09T16:31:39.784840Z",
     "iopub.status.idle": "2020-10-09T16:31:39.821775Z",
     "shell.execute_reply": "2020-10-09T16:31:39.821127Z"
    },
    "papermill": {
     "duration": 0.191859,
     "end_time": "2020-10-09T16:31:39.821912",
     "exception": false,
     "start_time": "2020-10-09T16:31:39.630053",
     "status": "completed"
    },
    "tags": []
   },
   "outputs": [
    {
     "name": "stdout",
     "output_type": "stream",
     "text": [
      "<class 'pandas.core.frame.DataFrame'>\n",
      "RangeIndex: 284807 entries, 0 to 284806\n",
      "Data columns (total 30 columns):\n",
      " #   Column  Non-Null Count   Dtype  \n",
      "---  ------  --------------   -----  \n",
      " 0   Time    284807 non-null  float64\n",
      " 1   V1      284807 non-null  float64\n",
      " 2   V2      284807 non-null  float64\n",
      " 3   V3      284807 non-null  float64\n",
      " 4   V4      284807 non-null  float64\n",
      " 5   V5      284807 non-null  float64\n",
      " 6   V6      284807 non-null  float64\n",
      " 7   V7      284807 non-null  float64\n",
      " 8   V8      284807 non-null  float64\n",
      " 9   V9      284807 non-null  float64\n",
      " 10  V10     284807 non-null  float64\n",
      " 11  V11     284807 non-null  float64\n",
      " 12  V12     284807 non-null  float64\n",
      " 13  V13     284807 non-null  float64\n",
      " 14  V14     284807 non-null  float64\n",
      " 15  V15     284807 non-null  float64\n",
      " 16  V16     284807 non-null  float64\n",
      " 17  V17     284807 non-null  float64\n",
      " 18  V18     284807 non-null  float64\n",
      " 19  V19     284807 non-null  float64\n",
      " 20  V20     284807 non-null  float64\n",
      " 21  V21     284807 non-null  float64\n",
      " 22  V22     284807 non-null  float64\n",
      " 23  V23     284807 non-null  float64\n",
      " 24  V24     284807 non-null  float64\n",
      " 25  V25     284807 non-null  float64\n",
      " 26  V26     284807 non-null  float64\n",
      " 27  V27     284807 non-null  float64\n",
      " 28  V28     284807 non-null  float64\n",
      " 29  Amount  284807 non-null  float64\n",
      "dtypes: float64(30)\n",
      "memory usage: 65.2 MB\n"
     ]
    }
   ],
   "source": [
    "X.info()"
   ]
  },
  {
   "cell_type": "markdown",
   "metadata": {
    "_cell_guid": "1de00d87-464e-42c3-836b-03519db5b612",
    "_uuid": "f9dc2154-4f70-40f0-bddf-276bb100ec2e",
    "papermill": {
     "duration": 0.145078,
     "end_time": "2020-10-09T16:31:40.113866",
     "exception": false,
     "start_time": "2020-10-09T16:31:39.968788",
     "status": "completed"
    },
    "tags": []
   },
   "source": [
    "# Logistic Regression check"
   ]
  },
  {
   "cell_type": "markdown",
   "metadata": {
    "papermill": {
     "duration": 0.144539,
     "end_time": "2020-10-09T16:31:40.404306",
     "exception": false,
     "start_time": "2020-10-09T16:31:40.259767",
     "status": "completed"
    },
    "tags": []
   },
   "source": [
    "Tune parameters for best fit"
   ]
  },
  {
   "cell_type": "code",
   "execution_count": 51,
   "metadata": {
    "execution": {
     "iopub.execute_input": "2020-10-09T16:31:40.705907Z",
     "iopub.status.busy": "2020-10-09T16:31:40.704816Z",
     "iopub.status.idle": "2020-10-09T16:32:13.769374Z",
     "shell.execute_reply": "2020-10-09T16:32:13.768304Z"
    },
    "papermill": {
     "duration": 33.222247,
     "end_time": "2020-10-09T16:32:13.769579",
     "exception": false,
     "start_time": "2020-10-09T16:31:40.547332",
     "status": "completed"
    },
    "tags": []
   },
   "outputs": [
    {
     "name": "stdout",
     "output_type": "stream",
     "text": [
      "Best: 0.937715 using {'C': 10, 'penalty': 'l2', 'solver': 'lbfgs'}\n",
      "0.927578 (0.025884) with: {'C': 100, 'penalty': 'l2', 'solver': 'newton-cg'}\n",
      "0.933918 (0.024628) with: {'C': 100, 'penalty': 'l2', 'solver': 'lbfgs'}\n",
      "0.933057 (0.023030) with: {'C': 100, 'penalty': 'l2', 'solver': 'liblinear'}\n",
      "0.504890 (0.012253) with: {'C': 100, 'penalty': 'l2', 'solver': 'sag'}\n",
      "0.498534 (0.007648) with: {'C': 100, 'penalty': 'l2', 'solver': 'saga'}\n",
      "0.000000 (0.000000) with: {'C': 100, 'penalty': 'l1', 'solver': 'newton-cg'}\n",
      "0.000000 (0.000000) with: {'C': 100, 'penalty': 'l1', 'solver': 'lbfgs'}\n",
      "0.929271 (0.026612) with: {'C': 100, 'penalty': 'l1', 'solver': 'liblinear'}\n",
      "0.000000 (0.000000) with: {'C': 100, 'penalty': 'l1', 'solver': 'sag'}\n",
      "0.498107 (0.007182) with: {'C': 100, 'penalty': 'l1', 'solver': 'saga'}\n",
      "0.929693 (0.025182) with: {'C': 10, 'penalty': 'l2', 'solver': 'newton-cg'}\n",
      "0.937715 (0.021904) with: {'C': 10, 'penalty': 'l2', 'solver': 'lbfgs'}\n",
      "0.933057 (0.023030) with: {'C': 10, 'penalty': 'l2', 'solver': 'liblinear'}\n",
      "0.504890 (0.012253) with: {'C': 10, 'penalty': 'l2', 'solver': 'sag'}\n",
      "0.498107 (0.007182) with: {'C': 10, 'penalty': 'l2', 'solver': 'saga'}\n",
      "0.000000 (0.000000) with: {'C': 10, 'penalty': 'l1', 'solver': 'newton-cg'}\n",
      "0.000000 (0.000000) with: {'C': 10, 'penalty': 'l1', 'solver': 'lbfgs'}\n",
      "0.929271 (0.025379) with: {'C': 10, 'penalty': 'l1', 'solver': 'liblinear'}\n",
      "0.000000 (0.000000) with: {'C': 10, 'penalty': 'l1', 'solver': 'sag'}\n",
      "0.498534 (0.007648) with: {'C': 10, 'penalty': 'l1', 'solver': 'saga'}\n",
      "0.930531 (0.026654) with: {'C': 1.0, 'penalty': 'l2', 'solver': 'newton-cg'}\n",
      "0.933896 (0.022921) with: {'C': 1.0, 'penalty': 'l2', 'solver': 'lbfgs'}\n",
      "0.933057 (0.023030) with: {'C': 1.0, 'penalty': 'l2', 'solver': 'liblinear'}\n",
      "0.504890 (0.012253) with: {'C': 1.0, 'penalty': 'l2', 'solver': 'sag'}\n",
      "0.498107 (0.007182) with: {'C': 1.0, 'penalty': 'l2', 'solver': 'saga'}\n",
      "0.000000 (0.000000) with: {'C': 1.0, 'penalty': 'l1', 'solver': 'newton-cg'}\n",
      "0.000000 (0.000000) with: {'C': 1.0, 'penalty': 'l1', 'solver': 'lbfgs'}\n",
      "0.930948 (0.024082) with: {'C': 1.0, 'penalty': 'l1', 'solver': 'liblinear'}\n",
      "0.000000 (0.000000) with: {'C': 1.0, 'penalty': 'l1', 'solver': 'sag'}\n",
      "0.498107 (0.007182) with: {'C': 1.0, 'penalty': 'l1', 'solver': 'saga'}\n",
      "0.930520 (0.020493) with: {'C': 0.1, 'penalty': 'l2', 'solver': 'newton-cg'}\n",
      "0.935600 (0.018632) with: {'C': 0.1, 'penalty': 'l2', 'solver': 'lbfgs'}\n",
      "0.933057 (0.023489) with: {'C': 0.1, 'penalty': 'l2', 'solver': 'liblinear'}\n",
      "0.504890 (0.012253) with: {'C': 0.1, 'penalty': 'l2', 'solver': 'sag'}\n",
      "0.498107 (0.007182) with: {'C': 0.1, 'penalty': 'l2', 'solver': 'saga'}\n",
      "0.000000 (0.000000) with: {'C': 0.1, 'penalty': 'l1', 'solver': 'newton-cg'}\n",
      "0.000000 (0.000000) with: {'C': 0.1, 'penalty': 'l1', 'solver': 'lbfgs'}\n",
      "0.933907 (0.020143) with: {'C': 0.1, 'penalty': 'l1', 'solver': 'liblinear'}\n",
      "0.000000 (0.000000) with: {'C': 0.1, 'penalty': 'l1', 'solver': 'sag'}\n",
      "0.498107 (0.007182) with: {'C': 0.1, 'penalty': 'l1', 'solver': 'saga'}\n",
      "0.931391 (0.023798) with: {'C': 0.01, 'penalty': 'l2', 'solver': 'newton-cg'}\n",
      "0.926707 (0.021518) with: {'C': 0.01, 'penalty': 'l2', 'solver': 'lbfgs'}\n",
      "0.931359 (0.023432) with: {'C': 0.01, 'penalty': 'l2', 'solver': 'liblinear'}\n",
      "0.505312 (0.012930) with: {'C': 0.01, 'penalty': 'l2', 'solver': 'sag'}\n",
      "0.498107 (0.007182) with: {'C': 0.01, 'penalty': 'l2', 'solver': 'saga'}\n",
      "0.000000 (0.000000) with: {'C': 0.01, 'penalty': 'l1', 'solver': 'newton-cg'}\n",
      "0.000000 (0.000000) with: {'C': 0.01, 'penalty': 'l1', 'solver': 'lbfgs'}\n",
      "0.924602 (0.025441) with: {'C': 0.01, 'penalty': 'l1', 'solver': 'liblinear'}\n",
      "0.000000 (0.000000) with: {'C': 0.01, 'penalty': 'l1', 'solver': 'sag'}\n",
      "0.498534 (0.007648) with: {'C': 0.01, 'penalty': 'l1', 'solver': 'saga'}\n"
     ]
    },
    {
     "name": "stderr",
     "output_type": "stream",
     "text": [
      "/opt/conda/lib/python3.7/site-packages/sklearn/utils/validation.py:72: DataConversionWarning: A column-vector y was passed when a 1d array was expected. Please change the shape of y to (n_samples, ), for example using ravel().\n",
      "  return f(**kwargs)\n",
      "/opt/conda/lib/python3.7/site-packages/sklearn/linear_model/_logistic.py:764: ConvergenceWarning: lbfgs failed to converge (status=1):\n",
      "STOP: TOTAL NO. of ITERATIONS REACHED LIMIT.\n",
      "\n",
      "Increase the number of iterations (max_iter) or scale the data as shown in:\n",
      "    https://scikit-learn.org/stable/modules/preprocessing.html\n",
      "Please also refer to the documentation for alternative solver options:\n",
      "    https://scikit-learn.org/stable/modules/linear_model.html#logistic-regression\n",
      "  extra_warning_msg=_LOGISTIC_SOLVER_CONVERGENCE_MSG)\n"
     ]
    }
   ],
   "source": [
    "# define dataset\n",
    "X = X2_under_train\n",
    "y = y2_under_train\n",
    "# define models and parameters\n",
    "model = LogisticRegression()\n",
    "solvers = ['newton-cg', 'lbfgs', 'liblinear', 'sag', 'saga']\n",
    "penalty = ['l2', 'l1']\n",
    "c_values = [100, 10, 1.0, 0.1, 0.01]\n",
    "# define grid search\n",
    "grid = dict(solver=solvers,penalty=penalty,C=c_values)\n",
    "cv = RepeatedStratifiedKFold(n_splits=10, n_repeats=3, random_state=1)\n",
    "grid_search = GridSearchCV(estimator=model, param_grid=grid, n_jobs=-1, cv=cv, scoring='accuracy',error_score=0)\n",
    "grid_result = grid_search.fit(X, y)\n",
    "# summarize results\n",
    "print(\"Best: %f using %s\" % (grid_result.best_score_, grid_result.best_params_))\n",
    "means = grid_result.cv_results_['mean_test_score']\n",
    "stds = grid_result.cv_results_['std_test_score']\n",
    "params = grid_result.cv_results_['params']\n",
    "for mean, stdev, param in zip(means, stds, params):\n",
    "    print(\"%f (%f) with: %r\" % (mean, stdev, param))"
   ]
  },
  {
   "cell_type": "code",
   "execution_count": 52,
   "metadata": {
    "_cell_guid": "e6a32883-e295-4de0-8c8b-c2517f6083c5",
    "_uuid": "7b352a55-3fa7-4677-8011-7ad00b2ff577",
    "execution": {
     "iopub.execute_input": "2020-10-09T16:32:14.092770Z",
     "iopub.status.busy": "2020-10-09T16:32:14.091887Z",
     "iopub.status.idle": "2020-10-09T16:32:14.400399Z",
     "shell.execute_reply": "2020-10-09T16:32:14.399678Z"
    },
    "papermill": {
     "duration": 0.474003,
     "end_time": "2020-10-09T16:32:14.400558",
     "exception": false,
     "start_time": "2020-10-09T16:32:13.926555",
     "status": "completed"
    },
    "scrolled": false,
    "tags": []
   },
   "outputs": [
    {
     "name": "stderr",
     "output_type": "stream",
     "text": [
      "/opt/conda/lib/python3.7/site-packages/sklearn/utils/validation.py:72: DataConversionWarning: A column-vector y was passed when a 1d array was expected. Please change the shape of y to (n_samples, ), for example using ravel().\n",
      "  return f(**kwargs)\n",
      "/opt/conda/lib/python3.7/site-packages/sklearn/utils/validation.py:72: DataConversionWarning: A column-vector y was passed when a 1d array was expected. Please change the shape of y to (n_samples, ), for example using ravel().\n",
      "  return f(**kwargs)\n",
      "/opt/conda/lib/python3.7/site-packages/sklearn/utils/validation.py:72: DataConversionWarning: A column-vector y was passed when a 1d array was expected. Please change the shape of y to (n_samples, ), for example using ravel().\n",
      "  return f(**kwargs)\n",
      "/opt/conda/lib/python3.7/site-packages/sklearn/utils/validation.py:72: DataConversionWarning: A column-vector y was passed when a 1d array was expected. Please change the shape of y to (n_samples, ), for example using ravel().\n",
      "  return f(**kwargs)\n",
      "/opt/conda/lib/python3.7/site-packages/sklearn/utils/validation.py:72: DataConversionWarning: A column-vector y was passed when a 1d array was expected. Please change the shape of y to (n_samples, ), for example using ravel().\n",
      "  return f(**kwargs)\n",
      "/opt/conda/lib/python3.7/site-packages/sklearn/utils/validation.py:72: DataConversionWarning: A column-vector y was passed when a 1d array was expected. Please change the shape of y to (n_samples, ), for example using ravel().\n",
      "  return f(**kwargs)\n",
      "/opt/conda/lib/python3.7/site-packages/sklearn/utils/validation.py:72: DataConversionWarning: A column-vector y was passed when a 1d array was expected. Please change the shape of y to (n_samples, ), for example using ravel().\n",
      "  return f(**kwargs)\n"
     ]
    },
    {
     "name": "stdout",
     "output_type": "stream",
     "text": [
      "Logistic Regression Score:  0.939 +/-  0.0497\n",
      "Recall metric in the testing dataset:  0.8947368421052632\n"
     ]
    },
    {
     "data": {
      "image/png": "[encoded data removed]",
      "text/plain": [
       "<Figure size 432x288 with 2 Axes>"
      ]
     },
     "metadata": {
      "needs_background": "light"
     },
     "output_type": "display_data"
    }
   ],
   "source": [
    "# Use this C_parameter to build the final model with the whole training dataset and predict the classes in the test\n",
    "# dataset\n",
    "lr = LogisticRegression(C = .1, penalty = 'l2', solver = 'liblinear')\n",
    "lr.fit(X2_under_train,y2_under_train.values.ravel())\n",
    "y_pred_undersample = lr.predict(X2_under_test.values)\n",
    "\n",
    "# Score the model on it's accuracy using cross validation\n",
    "lr_score = cross_val_score(lr, X2_under_test, y2_under_test, cv=7)\n",
    "print(f'Logistic Regression Score: {lr_score.mean(): .3f} +/- {2*lr_score.std(): .4f}')\n",
    "\n",
    "# Compute confusion matrix\n",
    "cnf_matrix = confusion_matrix(y2_under_test,y_pred_undersample)\n",
    "np.set_printoptions(precision=2)\n",
    "\n",
    "print(\"Recall metric in the testing dataset: \", cnf_matrix[1,1]/(cnf_matrix[1,0]+cnf_matrix[1,1]))\n",
    "\n",
    "# Plot non-normalized confusion matrix\n",
    "class_names = [0,1]\n",
    "plt.figure()\n",
    "plot_confusion_matrix(cnf_matrix\n",
    "                      , classes=class_names\n",
    "                      , title='Confusion matrix')\n",
    "plt.show()"
   ]
  },
  {
   "cell_type": "markdown",
   "metadata": {
    "_cell_guid": "390b4d6e-8bbb-4a59-bf5d-e6a2c9b0b3d2",
    "_uuid": "45e5586c-f97e-4bae-9106-75bcd1f87e64",
    "papermill": {
     "duration": 0.147024,
     "end_time": "2020-10-09T16:32:14.696521",
     "exception": false,
     "start_time": "2020-10-09T16:32:14.549497",
     "status": "completed"
    },
    "tags": []
   },
   "source": [
    "94.9 cvs and 92.6 recall with lr. Not bad slight improvement from earlier"
   ]
  },
  {
   "cell_type": "markdown",
   "metadata": {
    "_cell_guid": "597c4e0d-9460-4dc3-8c10-2f96e9e9d2f3",
    "_uuid": "b85a2f7f-7764-4934-9aed-884471bbcc12",
    "papermill": {
     "duration": 0.146222,
     "end_time": "2020-10-09T16:32:14.996064",
     "exception": false,
     "start_time": "2020-10-09T16:32:14.849842",
     "status": "completed"
    },
    "tags": []
   },
   "source": [
    "# Decision Tree Check"
   ]
  },
  {
   "cell_type": "markdown",
   "metadata": {
    "papermill": {
     "duration": 0.15194,
     "end_time": "2020-10-09T16:32:15.298342",
     "exception": false,
     "start_time": "2020-10-09T16:32:15.146402",
     "status": "completed"
    },
    "tags": []
   },
   "source": [
    "Tune parameters for best fit."
   ]
  },
  {
   "cell_type": "code",
   "execution_count": 53,
   "metadata": {
    "execution": {
     "iopub.execute_input": "2020-10-09T16:32:15.614521Z",
     "iopub.status.busy": "2020-10-09T16:32:15.613592Z",
     "iopub.status.idle": "2020-10-09T16:32:58.759784Z",
     "shell.execute_reply": "2020-10-09T16:32:58.760684Z"
    },
    "papermill": {
     "duration": 43.313204,
     "end_time": "2020-10-09T16:32:58.760867",
     "exception": false,
     "start_time": "2020-10-09T16:32:15.447663",
     "status": "completed"
    },
    "tags": []
   },
   "outputs": [
    {
     "name": "stdout",
     "output_type": "stream",
     "text": [
      "**Optimizing hyper-parameters of a Decision Tree model using Grid Search in Python**\n",
      "\n",
      "Best Criterion: gini\n",
      "Best max_depth: 6\n",
      "Best Number Of Components: 14\n",
      "\n",
      "DecisionTreeClassifier(max_depth=6)\n"
     ]
    }
   ],
   "source": [
    "# How to optimize hyper-parameters of a DecisionTree model using Grid Search in Python ?\n",
    "def Snippet_146_Ex_2():\n",
    "    print('**Optimizing hyper-parameters of a Decision Tree model using Grid Search in Python**\\n')\n",
    "\n",
    "    # importing libraries\n",
    "    from sklearn import decomposition, datasets\n",
    "    from sklearn import tree\n",
    "    from sklearn.pipeline import Pipeline\n",
    "    from sklearn.model_selection import GridSearchCV\n",
    "    from sklearn.preprocessing import StandardScaler\n",
    "    \n",
    "    # Loading wine dataset\n",
    "    data = pd.read_csv(\"/kaggle/input/creditcardfraud/creditcard.csv\")\n",
    "    X = X2_under_train\n",
    "    y = y2_under_train\n",
    "\n",
    "    # Creating an standardscaler object\n",
    "    std_slc = StandardScaler()\n",
    "\n",
    "    # Creating a pca object\n",
    "    pca = decomposition.PCA()\n",
    "\n",
    "    # Creating a DecisionTreeClassifier\n",
    "    dec_tree = tree.DecisionTreeClassifier()\n",
    "\n",
    "    # Creating a pipeline of three steps. First, standardizing the data.\n",
    "    # Second, tranforming the data with PCA.\n",
    "    # Third, training a Decision Tree Classifier on the data.\n",
    "    pipe = Pipeline(steps=[('std_slc', std_slc),\n",
    "                           ('pca', pca),\n",
    "                           ('dec_tree', dec_tree)])\n",
    "\n",
    "    # Creating Parameter Space\n",
    "    # Creating a list of a sequence of integers from 1 to 30 (the number of features in X + 1)\n",
    "    n_components = list(range(1,X.shape[1]+1,1))\n",
    "\n",
    "    # Creating lists of parameter for Decision Tree Classifier\n",
    "    criterion = ['gini', 'entropy']\n",
    "    max_depth = [2,4,6,8,10,12]\n",
    "\n",
    "    # Creating a dictionary of all the parameter options \n",
    "    # Note that we can access the parameters of steps of a pipeline by using '__’\n",
    "    parameters = dict(pca__n_components=n_components,\n",
    "                      dec_tree__criterion=criterion,\n",
    "                      dec_tree__max_depth=max_depth)\n",
    "\n",
    "    # Conducting Parameter Optmization With Pipeline\n",
    "    # Creating a grid search object\n",
    "    clf_GS = GridSearchCV(pipe, parameters)\n",
    "\n",
    "    # Fitting the grid search\n",
    "    clf_GS.fit(X, y)\n",
    "\n",
    "    # Viewing The Best Parameters\n",
    "    print('Best Criterion:', clf_GS.best_estimator_.get_params()['dec_tree__criterion'])\n",
    "    print('Best max_depth:', clf_GS.best_estimator_.get_params()['dec_tree__max_depth'])\n",
    "    print('Best Number Of Components:', clf_GS.best_estimator_.get_params()['pca__n_components'])\n",
    "    print(); print(clf_GS.best_estimator_.get_params()['dec_tree'])\n",
    "\n",
    "   \n",
    "Snippet_146_Ex_2()"
   ]
  },
  {
   "cell_type": "code",
   "execution_count": 54,
   "metadata": {
    "_cell_guid": "6007e3d1-73a7-412a-a654-528e4a4adf1d",
    "_uuid": "3800c5c4-35eb-4ee2-b488-907dbf084f71",
    "execution": {
     "iopub.execute_input": "2020-10-09T16:32:59.072234Z",
     "iopub.status.busy": "2020-10-09T16:32:59.071146Z",
     "iopub.status.idle": "2020-10-09T16:32:59.426642Z",
     "shell.execute_reply": "2020-10-09T16:32:59.427272Z"
    },
    "papermill": {
     "duration": 0.517351,
     "end_time": "2020-10-09T16:32:59.427441",
     "exception": false,
     "start_time": "2020-10-09T16:32:58.910090",
     "status": "completed"
    },
    "scrolled": false,
    "tags": []
   },
   "outputs": [
    {
     "name": "stdout",
     "output_type": "stream",
     "text": [
      "Decision Tree Score:  0.897 +/-  0.2511\n"
     ]
    }
   ],
   "source": [
    "# Instantiate (start up) model\n",
    "dt = DecisionTreeClassifier( criterion = 'entropy', max_depth = 6, random_state=42)\n",
    "# Fit model on the training data\n",
    "dt.fit(X2_under_train, y2_under_train)\n",
    "\n",
    "# Score the model on it's accuracy using cross validation\n",
    "dt_score = cross_val_score(dt, X2_under_test, y2_under_test, cv=29)\n",
    "print(f'Decision Tree Score: {dt_score.mean(): .3f} +/- {2*dt_score.std(): .4f}')"
   ]
  },
  {
   "cell_type": "code",
   "execution_count": 55,
   "metadata": {
    "_cell_guid": "834fd4cb-9e12-40c5-beaf-dc0bc60a0f68",
    "_uuid": "b532e244-ec17-4f81-bdb0-2e3cbc9313fd",
    "execution": {
     "iopub.execute_input": "2020-10-09T16:32:59.737423Z",
     "iopub.status.busy": "2020-10-09T16:32:59.736296Z",
     "iopub.status.idle": "2020-10-09T16:32:59.920852Z",
     "shell.execute_reply": "2020-10-09T16:32:59.920248Z"
    },
    "papermill": {
     "duration": 0.34293,
     "end_time": "2020-10-09T16:32:59.921002",
     "exception": false,
     "start_time": "2020-10-09T16:32:59.578072",
     "status": "completed"
    },
    "scrolled": false,
    "tags": []
   },
   "outputs": [
    {
     "name": "stdout",
     "output_type": "stream",
     "text": [
      "Recall metric in the testing dataset:  0.9157894736842105\n"
     ]
    },
    {
     "data": {
      "image/png": "[encoded data removed]",
      "text/plain": [
       "<Figure size 432x288 with 2 Axes>"
      ]
     },
     "metadata": {
      "needs_background": "light"
     },
     "output_type": "display_data"
    }
   ],
   "source": [
    "import seaborn as sns\n",
    "# Predicting the classes from the test set\n",
    "y_pred_dt = dt.predict(X2_under_test)\n",
    "\n",
    "# Creating a confusion matrix\n",
    "cm_dt = confusion_matrix(y2_under_test, y_pred_dt)\n",
    "# Visualizing the confusion matrix as a heatmap\n",
    "sns.heatmap(cm_dt/np.sum(cm_dt), annot=True, cmap='Blues', \n",
    "            fmt='.2%')\n",
    "plt.ylabel('True label')\n",
    "plt.xlabel('Predicted label');\n",
    "print (\"Recall metric in the testing dataset: \", recall_score(y2_under_test, y_pred_dt))"
   ]
  },
  {
   "cell_type": "markdown",
   "metadata": {
    "_cell_guid": "8b6487bb-5dfa-413a-8ba4-ed4aa50cca4a",
    "_uuid": "e08a8461-8c70-4177-9076-68991f6e79e0",
    "papermill": {
     "duration": 0.153301,
     "end_time": "2020-10-09T16:33:00.229249",
     "exception": false,
     "start_time": "2020-10-09T16:33:00.075948",
     "status": "completed"
    },
    "tags": []
   },
   "source": [
    "# Random Forest Check"
   ]
  },
  {
   "cell_type": "markdown",
   "metadata": {
    "papermill": {
     "duration": 0.148675,
     "end_time": "2020-10-09T16:33:00.528054",
     "exception": false,
     "start_time": "2020-10-09T16:33:00.379379",
     "status": "completed"
    },
    "tags": []
   },
   "source": [
    "Tune parameters for best fit."
   ]
  },
  {
   "cell_type": "code",
   "execution_count": 56,
   "metadata": {
    "execution": {
     "iopub.execute_input": "2020-10-09T16:33:00.842104Z",
     "iopub.status.busy": "2020-10-09T16:33:00.840994Z",
     "iopub.status.idle": "2020-10-09T16:35:26.146296Z",
     "shell.execute_reply": "2020-10-09T16:35:26.147186Z"
    },
    "papermill": {
     "duration": 145.469763,
     "end_time": "2020-10-09T16:35:26.147414",
     "exception": false,
     "start_time": "2020-10-09T16:33:00.677651",
     "status": "completed"
    },
    "tags": []
   },
   "outputs": [
    {
     "name": "stderr",
     "output_type": "stream",
     "text": [
      "/opt/conda/lib/python3.7/site-packages/sklearn/model_selection/_search.py:765: DataConversionWarning: A column-vector y was passed when a 1d array was expected. Please change the shape of y to (n_samples,), for example using ravel().\n",
      "  self.best_estimator_.fit(X, y, **fit_params)\n"
     ]
    },
    {
     "name": "stdout",
     "output_type": "stream",
     "text": [
      "Best: 0.931359 using {'max_features': 'auto', 'n_estimators': 1000}\n",
      "0.925019 (0.024429) with: {'max_features': 'sqrt', 'n_estimators': 10}\n",
      "0.930093 (0.024763) with: {'max_features': 'sqrt', 'n_estimators': 100}\n",
      "0.929233 (0.026093) with: {'max_features': 'sqrt', 'n_estimators': 1000}\n",
      "0.922482 (0.026582) with: {'max_features': 'log2', 'n_estimators': 10}\n",
      "0.930082 (0.025678) with: {'max_features': 'log2', 'n_estimators': 100}\n",
      "0.926269 (0.024964) with: {'max_features': 'log2', 'n_estimators': 1000}\n",
      "0.921633 (0.024205) with: {'max_features': 'auto', 'n_estimators': 10}\n",
      "0.928394 (0.025555) with: {'max_features': 'auto', 'n_estimators': 100}\n",
      "0.931359 (0.024327) with: {'max_features': 'auto', 'n_estimators': 1000}\n"
     ]
    }
   ],
   "source": [
    "# define dataset\n",
    "X = X2_under_train\n",
    "y = y2_under_train\n",
    "# define models and parameters\n",
    "model = RandomForestClassifier()\n",
    "n_estimators = [10, 100, 1000]\n",
    "max_features = ['sqrt', 'log2', 'auto']\n",
    "# define grid search\n",
    "grid = dict(n_estimators=n_estimators,max_features=max_features)\n",
    "cv = RepeatedStratifiedKFold(n_splits=10, n_repeats=3, random_state=1)\n",
    "grid_search = GridSearchCV(estimator=model, param_grid=grid, n_jobs=-1, cv=cv, scoring='accuracy',error_score=0)\n",
    "grid_result = grid_search.fit(X, y)\n",
    "# summarize results\n",
    "print(\"Best: %f using %s\" % (grid_result.best_score_, grid_result.best_params_))\n",
    "means = grid_result.cv_results_['mean_test_score']\n",
    "stds = grid_result.cv_results_['std_test_score']\n",
    "params = grid_result.cv_results_['params']\n",
    "for mean, stdev, param in zip(means, stds, params):\n",
    "    print(\"%f (%f) with: %r\" % (mean, stdev, param))"
   ]
  },
  {
   "cell_type": "code",
   "execution_count": 57,
   "metadata": {
    "_cell_guid": "d9c31915-5c8b-450c-840b-24bb51b85bb3",
    "_uuid": "0ab5d3ce-8e53-45cd-9d39-7bf73791ae1e",
    "execution": {
     "iopub.execute_input": "2020-10-09T16:35:26.466529Z",
     "iopub.status.busy": "2020-10-09T16:35:26.465705Z",
     "iopub.status.idle": "2020-10-09T16:35:27.613469Z",
     "shell.execute_reply": "2020-10-09T16:35:27.612369Z"
    },
    "papermill": {
     "duration": 1.311105,
     "end_time": "2020-10-09T16:35:27.613657",
     "exception": false,
     "start_time": "2020-10-09T16:35:26.302552",
     "status": "completed"
    },
    "scrolled": false,
    "tags": []
   },
   "outputs": [
    {
     "name": "stderr",
     "output_type": "stream",
     "text": [
      "/opt/conda/lib/python3.7/site-packages/ipykernel_launcher.py:4: DataConversionWarning: A column-vector y was passed when a 1d array was expected. Please change the shape of y to (n_samples,), for example using ravel().\n",
      "  after removing the cwd from sys.path.\n",
      "/opt/conda/lib/python3.7/site-packages/sklearn/model_selection/_validation.py:531: DataConversionWarning: A column-vector y was passed when a 1d array was expected. Please change the shape of y to (n_samples,), for example using ravel().\n",
      "  estimator.fit(X_train, y_train, **fit_params)\n",
      "/opt/conda/lib/python3.7/site-packages/sklearn/model_selection/_validation.py:531: DataConversionWarning: A column-vector y was passed when a 1d array was expected. Please change the shape of y to (n_samples,), for example using ravel().\n",
      "  estimator.fit(X_train, y_train, **fit_params)\n",
      "/opt/conda/lib/python3.7/site-packages/sklearn/model_selection/_validation.py:531: DataConversionWarning: A column-vector y was passed when a 1d array was expected. Please change the shape of y to (n_samples,), for example using ravel().\n",
      "  estimator.fit(X_train, y_train, **fit_params)\n"
     ]
    },
    {
     "name": "stdout",
     "output_type": "stream",
     "text": [
      "Random Forest Score:  0.93901 +/-  0.025700\n"
     ]
    }
   ],
   "source": [
    "# Instantiate (start up) model\n",
    "rf = RandomForestClassifier(max_features = 'auto', n_estimators = 100, random_state=42)\n",
    "# Fit model on the training data\n",
    "rf.fit(X2_under_train, y2_under_train)\n",
    "\n",
    "# Score the model on it's accuracy using cross validation\n",
    "rf_score = cross_val_score(rf, X2_under_test, y2_under_test, cv=3)\n",
    "print(f'Random Forest Score: {rf_score.mean(): .5f} +/- {2*rf_score.std(): .6f}')"
   ]
  },
  {
   "cell_type": "code",
   "execution_count": 58,
   "metadata": {
    "_cell_guid": "2901775e-6a1e-4d45-a1e1-7ba0a9be344f",
    "_uuid": "10c15751-ef23-45b2-ae4f-888dec9081e2",
    "execution": {
     "iopub.execute_input": "2020-10-09T16:35:27.939261Z",
     "iopub.status.busy": "2020-10-09T16:35:27.938419Z",
     "iopub.status.idle": "2020-10-09T16:35:28.159723Z",
     "shell.execute_reply": "2020-10-09T16:35:28.158499Z"
    },
    "papermill": {
     "duration": 0.389205,
     "end_time": "2020-10-09T16:35:28.159877",
     "exception": false,
     "start_time": "2020-10-09T16:35:27.770672",
     "status": "completed"
    },
    "scrolled": false,
    "tags": []
   },
   "outputs": [
    {
     "name": "stdout",
     "output_type": "stream",
     "text": [
      "Recall metric in the testing dataset:  0.9263157894736842\n"
     ]
    },
    {
     "data": {
      "image/png": "[encoded data removed]",
      "text/plain": [
       "<Figure size 432x288 with 2 Axes>"
      ]
     },
     "metadata": {
      "needs_background": "light"
     },
     "output_type": "display_data"
    }
   ],
   "source": [
    "# Predicting the classes from the test set\n",
    "y_under_pred_rf = rf.predict(X2_under_test)\n",
    "\n",
    "# Creating a confusion matrix\n",
    "cm_rf = confusion_matrix(y2_under_test, y_under_pred_rf)\n",
    "# Visualizing the confusion matrix as a heatmap\n",
    "sns.heatmap(cm_rf/np.sum(cm_rf), annot=True, cmap='Blues',\n",
    "            fmt='.2%')\n",
    "plt.ylabel('True label')\n",
    "plt.xlabel('Predicted label');\n",
    "print (\"Recall metric in the testing dataset: \", recall_score(y2_under_test, y_under_pred_rf))"
   ]
  },
  {
   "cell_type": "markdown",
   "metadata": {
    "_cell_guid": "515bf664-e160-489b-8a00-6cada93e7b91",
    "_uuid": "fc33aa40-e735-4271-b2b5-5c0c904177aa",
    "papermill": {
     "duration": 0.155901,
     "end_time": "2020-10-09T16:35:28.500747",
     "exception": false,
     "start_time": "2020-10-09T16:35:28.344846",
     "status": "completed"
    },
    "tags": []
   },
   "source": [
    "# Support Vector Machine Check"
   ]
  },
  {
   "cell_type": "markdown",
   "metadata": {
    "papermill": {
     "duration": 0.156798,
     "end_time": "2020-10-09T16:35:28.814580",
     "exception": false,
     "start_time": "2020-10-09T16:35:28.657782",
     "status": "completed"
    },
    "tags": []
   },
   "source": [
    "Tune parameters for best fit."
   ]
  },
  {
   "cell_type": "code",
   "execution_count": 59,
   "metadata": {
    "execution": {
     "iopub.execute_input": "2020-10-09T16:35:29.152436Z",
     "iopub.status.busy": "2020-10-09T16:35:29.151247Z",
     "iopub.status.idle": "2020-10-09T16:35:38.061820Z",
     "shell.execute_reply": "2020-10-09T16:35:38.062828Z"
    },
    "papermill": {
     "duration": 9.088874,
     "end_time": "2020-10-09T16:35:38.063091",
     "exception": false,
     "start_time": "2020-10-09T16:35:28.974217",
     "status": "completed"
    },
    "tags": []
   },
   "outputs": [
    {
     "name": "stdout",
     "output_type": "stream",
     "text": [
      "Best: 0.557811 using {'C': 0.1, 'gamma': 'scale', 'kernel': 'sigmoid'}\n",
      "0.543433 (0.052047) with: {'C': 50, 'gamma': 'scale', 'kernel': 'poly'}\n",
      "0.545153 (0.056640) with: {'C': 50, 'gamma': 'scale', 'kernel': 'rbf'}\n",
      "0.485811 (0.059202) with: {'C': 50, 'gamma': 'scale', 'kernel': 'sigmoid'}\n",
      "0.543427 (0.051977) with: {'C': 10, 'gamma': 'scale', 'kernel': 'poly'}\n",
      "0.539608 (0.057324) with: {'C': 10, 'gamma': 'scale', 'kernel': 'rbf'}\n",
      "0.485384 (0.060687) with: {'C': 10, 'gamma': 'scale', 'kernel': 'sigmoid'}\n",
      "0.543433 (0.052654) with: {'C': 1.0, 'gamma': 'scale', 'kernel': 'poly'}\n",
      "0.524370 (0.061591) with: {'C': 1.0, 'gamma': 'scale', 'kernel': 'rbf'}\n",
      "0.486644 (0.058130) with: {'C': 1.0, 'gamma': 'scale', 'kernel': 'sigmoid'}\n",
      "0.544704 (0.053181) with: {'C': 0.1, 'gamma': 'scale', 'kernel': 'poly'}\n",
      "0.521411 (0.060547) with: {'C': 0.1, 'gamma': 'scale', 'kernel': 'rbf'}\n",
      "0.557811 (0.039727) with: {'C': 0.1, 'gamma': 'scale', 'kernel': 'sigmoid'}\n",
      "0.546825 (0.048819) with: {'C': 0.01, 'gamma': 'scale', 'kernel': 'poly'}\n",
      "0.504430 (0.002900) with: {'C': 0.01, 'gamma': 'scale', 'kernel': 'rbf'}\n",
      "0.504430 (0.002900) with: {'C': 0.01, 'gamma': 'scale', 'kernel': 'sigmoid'}\n"
     ]
    },
    {
     "name": "stderr",
     "output_type": "stream",
     "text": [
      "/opt/conda/lib/python3.7/site-packages/sklearn/utils/validation.py:72: DataConversionWarning: A column-vector y was passed when a 1d array was expected. Please change the shape of y to (n_samples, ), for example using ravel().\n",
      "  return f(**kwargs)\n"
     ]
    }
   ],
   "source": [
    "# define dataset\n",
    "X = X2_under_train\n",
    "y = y2_under_train\n",
    "# define model and parameters\n",
    "model = SVC()\n",
    "kernel = ['poly', 'rbf', 'sigmoid']\n",
    "C = [50, 10, 1.0, 0.1, 0.01]\n",
    "gamma = ['scale']\n",
    "# define grid search\n",
    "grid = dict(kernel=kernel,C=C,gamma=gamma)\n",
    "cv = RepeatedStratifiedKFold(n_splits=10, n_repeats=3, random_state=1)\n",
    "grid_search = GridSearchCV(estimator=model, param_grid=grid, n_jobs=-1, cv=cv, scoring='accuracy',error_score=0)\n",
    "grid_result = grid_search.fit(X, y)\n",
    "# summarize results\n",
    "print(\"Best: %f using %s\" % (grid_result.best_score_, grid_result.best_params_))\n",
    "means = grid_result.cv_results_['mean_test_score']\n",
    "stds = grid_result.cv_results_['std_test_score']\n",
    "params = grid_result.cv_results_['params']\n",
    "for mean, stdev, param in zip(means, stds, params):\n",
    "    print(\"%f (%f) with: %r\" % (mean, stdev, param))"
   ]
  },
  {
   "cell_type": "code",
   "execution_count": 60,
   "metadata": {
    "_cell_guid": "35d5a3a0-9da5-4732-be68-77de52dda47d",
    "_uuid": "268eca4f-d92a-4c85-8da3-9808070c1f41",
    "execution": {
     "iopub.execute_input": "2020-10-09T16:35:38.428179Z",
     "iopub.status.busy": "2020-10-09T16:35:38.427298Z",
     "iopub.status.idle": "2020-10-09T16:35:38.644806Z",
     "shell.execute_reply": "2020-10-09T16:35:38.644021Z"
    },
    "papermill": {
     "duration": 0.402625,
     "end_time": "2020-10-09T16:35:38.644960",
     "exception": false,
     "start_time": "2020-10-09T16:35:38.242335",
     "status": "completed"
    },
    "scrolled": false,
    "tags": []
   },
   "outputs": [
    {
     "name": "stderr",
     "output_type": "stream",
     "text": [
      "/opt/conda/lib/python3.7/site-packages/sklearn/utils/validation.py:72: DataConversionWarning: A column-vector y was passed when a 1d array was expected. Please change the shape of y to (n_samples, ), for example using ravel().\n",
      "  return f(**kwargs)\n"
     ]
    },
    {
     "ename": "NameError",
     "evalue": "name 'X2_test' is not defined",
     "output_type": "error",
     "traceback": [
      "\u001b[0;31m---------------------------------------------------------------------------\u001b[0m",
      "\u001b[0;31mNameError\u001b[0m                                 Traceback (most recent call last)",
      "\u001b[0;32m<ipython-input-60-3bb1eec16eb6>\u001b[0m in \u001b[0;36m<module>\u001b[0;34m\u001b[0m\n\u001b[1;32m      5\u001b[0m \u001b[0;34m\u001b[0m\u001b[0m\n\u001b[1;32m      6\u001b[0m \u001b[0;31m# Score the model on it's accuracy using cross validation\u001b[0m\u001b[0;34m\u001b[0m\u001b[0;34m\u001b[0m\u001b[0;34m\u001b[0m\u001b[0m\n\u001b[0;32m----> 7\u001b[0;31m \u001b[0msvc_score\u001b[0m \u001b[0;34m=\u001b[0m \u001b[0mcross_val_score\u001b[0m\u001b[0;34m(\u001b[0m\u001b[0msvc\u001b[0m\u001b[0;34m,\u001b[0m \u001b[0mX2_test\u001b[0m\u001b[0;34m,\u001b[0m \u001b[0my2_test\u001b[0m\u001b[0;34m,\u001b[0m \u001b[0mcv\u001b[0m\u001b[0;34m=\u001b[0m\u001b[0;36m3\u001b[0m\u001b[0;34m)\u001b[0m\u001b[0;34m\u001b[0m\u001b[0;34m\u001b[0m\u001b[0m\n\u001b[0m\u001b[1;32m      8\u001b[0m \u001b[0mprint\u001b[0m\u001b[0;34m(\u001b[0m\u001b[0;34mf'Support Vector Machine Classifier Score: {svc_score.mean(): .3f} +/- {2*svc_score.std(): .4f}'\u001b[0m\u001b[0;34m)\u001b[0m\u001b[0;34m\u001b[0m\u001b[0;34m\u001b[0m\u001b[0m\n",
      "\u001b[0;31mNameError\u001b[0m: name 'X2_test' is not defined"
     ]
    }
   ],
   "source": [
    "# Instantiate (start up) model\n",
    "svc = SVC(C = .1, gamma ='scale', kernel = 'sigmoid', random_state=42)\n",
    "# Fit model on the training data\n",
    "svc.fit(X2_under_train, y2_under_train)\n",
    "\n",
    "# Score the model on it's accuracy using cross validation\n",
    "svc_score = cross_val_score(svc, X2_test, y2_test, cv=3)\n",
    "print(f'Support Vector Machine Classifier Score: {svc_score.mean(): .3f} +/- {2*svc_score.std(): .4f}')"
   ]
  },
  {
   "cell_type": "code",
   "execution_count": 61,
   "metadata": {
    "_cell_guid": "73098909-fbcc-4ef6-a52a-deb6f001905d",
    "_uuid": "fc175696-29f8-40b1-9600-0f218b7d54f8",
    "execution": {
     "iopub.execute_input": "2020-10-09T16:35:38.979998Z",
     "iopub.status.busy": "2020-10-09T16:35:38.979073Z",
     "iopub.status.idle": "2020-10-09T16:35:39.208040Z",
     "shell.execute_reply": "2020-10-09T16:35:39.207055Z"
    },
    "papermill": {
     "duration": 0.400458,
     "end_time": "2020-10-09T16:35:39.208197",
     "exception": false,
     "start_time": "2020-10-09T16:35:38.807739",
     "status": "completed"
    },
    "scrolled": false,
    "tags": []
   },
   "outputs": [
    {
     "name": "stdout",
     "output_type": "stream",
     "text": [
      "Recall metric in the testing dataset:  0.1368421052631579\n"
     ]
    },
    {
     "data": {
      "image/png": "[encoded data removed]",
      "text/plain": [
       "<Figure size 432x288 with 2 Axes>"
      ]
     },
     "metadata": {
      "needs_background": "light"
     },
     "output_type": "display_data"
    }
   ],
   "source": [
    "# Predicting the classes from the test set\n",
    "y_pred_svc = svc.predict(X2_under_test)\n",
    "\n",
    "# Creating a confusion matrix\n",
    "cm_svc = confusion_matrix(y2_under_test, y_pred_svc)\n",
    "# Visualizing the confusion matrix as a heatmap\n",
    "sns.heatmap(cm_svc/np.sum(cm_svc), annot=True, cmap='Blues',\n",
    "            fmt='.2%')\n",
    "plt.ylabel('True label')\n",
    "plt.xlabel('Predicted label');\n",
    "print (\"Recall metric in the testing dataset: \", recall_score(y2_under_test, y_pred_svc))"
   ]
  },
  {
   "cell_type": "markdown",
   "metadata": {
    "_cell_guid": "bc91e6d1-19a5-4635-a0f0-64ca9c639386",
    "_uuid": "c83e4273-4975-4001-a465-4652e3412efc",
    "papermill": {
     "duration": 0.164233,
     "end_time": "2020-10-09T16:35:39.563091",
     "exception": false,
     "start_time": "2020-10-09T16:35:39.398858",
     "status": "completed"
    },
    "tags": []
   },
   "source": [
    " **Results**\n",
    "    \n",
    "    New Models\n",
    "    1. Logistic Regression             cvs = 93.6 recall = 93.4\n",
    "    2. Decision Trees                  cvs = 89.7 recall = 93.6\n",
    "    3. Random Forest                   cvs = 95.4 recall = 92.6\n",
    "    4. Support Vector Classifier       cvs = 99.8 recall = 13.7"
   ]
  },
  {
   "cell_type": "markdown",
   "metadata": {
    "_cell_guid": "4159ab7c-ad95-4eff-bb3d-c39647a54547",
    "_uuid": "d2d36f33-3559-4390-a87f-33c5d10f1ca7",
    "papermill": {
     "duration": 0.160608,
     "end_time": "2020-10-09T16:35:39.884108",
     "exception": false,
     "start_time": "2020-10-09T16:35:39.723500",
     "status": "completed"
    },
    "tags": []
   },
   "source": [
    "    Previous Models    \n",
    "    1. Logistic Regression             cvs = 93.4 recall = 93.7\n",
    "    2. Decision Trees                  cvs = 89.7 recall = 93.7\n",
    "    3. Random Forest                   cvs = 94.4 recall = 91.6\n",
    "    4. Support Vector Classifier       cvs = 99.8 recall = 13.7"
   ]
  },
  {
   "cell_type": "markdown",
   "metadata": {
    "_cell_guid": "df9df52a-bda7-40d8-8665-d60fa21e658a",
    "_uuid": "17f8065d-a66d-497c-b769-e3bce69d907d",
    "papermill": {
     "duration": 0.173481,
     "end_time": "2020-10-09T16:35:40.226151",
     "exception": false,
     "start_time": "2020-10-09T16:35:40.052670",
     "status": "completed"
    },
    "tags": []
   },
   "source": [
    "When reducing the amount of features there was not a significant change. Logistic regression and random forest are still the two best and they will be used on the entire dataset."
   ]
  },
  {
   "cell_type": "markdown",
   "metadata": {
    "_cell_guid": "aa2dc78e-6847-426d-9c18-383fb997807e",
    "_uuid": "4c396326-8796-477d-85f4-0a330206cf9c",
    "papermill": {
     "duration": 0.160758,
     "end_time": "2020-10-09T16:35:40.551804",
     "exception": false,
     "start_time": "2020-10-09T16:35:40.391046",
     "status": "completed"
    },
    "tags": []
   },
   "source": [
    "# ****Apply Feature Engineered Undersample Training Models to Entire Dataset****"
   ]
  },
  {
   "cell_type": "markdown",
   "metadata": {
    "papermill": {
     "duration": 0.159572,
     "end_time": "2020-10-09T16:35:40.876011",
     "exception": false,
     "start_time": "2020-10-09T16:35:40.716439",
     "status": "completed"
    },
    "tags": []
   },
   "source": [
    "# Logistic Regression"
   ]
  },
  {
   "cell_type": "code",
   "execution_count": 62,
   "metadata": {
    "_cell_guid": "d0723bf3-cc19-473b-a9a3-2dcad96a8439",
    "_uuid": "198eeda1-f4b8-4d58-8283-eda0770453c9",
    "execution": {
     "iopub.execute_input": "2020-10-09T16:35:41.215174Z",
     "iopub.status.busy": "2020-10-09T16:35:41.214008Z",
     "iopub.status.idle": "2020-10-09T16:35:41.252301Z",
     "shell.execute_reply": "2020-10-09T16:35:41.251469Z"
    },
    "papermill": {
     "duration": 0.214164,
     "end_time": "2020-10-09T16:35:41.252538",
     "exception": false,
     "start_time": "2020-10-09T16:35:41.038374",
     "status": "completed"
    },
    "scrolled": false,
    "tags": []
   },
   "outputs": [
    {
     "ename": "NameError",
     "evalue": "name 'y2_test' is not defined",
     "output_type": "error",
     "traceback": [
      "\u001b[0;31m---------------------------------------------------------------------------\u001b[0m",
      "\u001b[0;31mNameError\u001b[0m                                 Traceback (most recent call last)",
      "\u001b[0;32m<ipython-input-62-b7f8fdc9b546>\u001b[0m in \u001b[0;36m<module>\u001b[0;34m\u001b[0m\n\u001b[1;32m      8\u001b[0m \u001b[0;34m\u001b[0m\u001b[0m\n\u001b[1;32m      9\u001b[0m \u001b[0;31m# Compute confusion matrix\u001b[0m\u001b[0;34m\u001b[0m\u001b[0;34m\u001b[0m\u001b[0;34m\u001b[0m\u001b[0m\n\u001b[0;32m---> 10\u001b[0;31m \u001b[0mcnf_matrix\u001b[0m \u001b[0;34m=\u001b[0m \u001b[0mconfusion_matrix\u001b[0m\u001b[0;34m(\u001b[0m\u001b[0my2_test\u001b[0m\u001b[0;34m,\u001b[0m\u001b[0my_pred\u001b[0m\u001b[0;34m)\u001b[0m\u001b[0;34m\u001b[0m\u001b[0;34m\u001b[0m\u001b[0m\n\u001b[0m\u001b[1;32m     11\u001b[0m \u001b[0mnp\u001b[0m\u001b[0;34m.\u001b[0m\u001b[0mset_printoptions\u001b[0m\u001b[0;34m(\u001b[0m\u001b[0mprecision\u001b[0m\u001b[0;34m=\u001b[0m\u001b[0;36m2\u001b[0m\u001b[0;34m)\u001b[0m\u001b[0;34m\u001b[0m\u001b[0;34m\u001b[0m\u001b[0m\n\u001b[1;32m     12\u001b[0m \u001b[0;34m\u001b[0m\u001b[0m\n",
      "\u001b[0;31mNameError\u001b[0m: name 'y2_test' is not defined"
     ]
    }
   ],
   "source": [
    "from sklearn.metrics import confusion_matrix\n",
    "from matplotlib import pyplot as plt\n",
    "# Use this C_parameter to build the final model with the whole training dataset and predict the classes in the test\n",
    "# dataset\n",
    "lr = LogisticRegression(C = .1, penalty = 'l2', solver = 'liblinear')\n",
    "lr.fit(X2_under_train,y2_under_train.values.ravel())\n",
    "y_pred = lr.predict(X_test.values)\n",
    "\n",
    "# Compute confusion matrix\n",
    "cnf_matrix = confusion_matrix(y2_test,y_pred)\n",
    "np.set_printoptions(precision=2)\n",
    "\n",
    "# Score the model on it's accuracy using cross validation\n",
    "lr_score = cross_val_score(lr, X_test, y_test, cv=7)\n",
    "print(f'Logistic Regression Score: {lr_score.mean(): .3f} +/- {2*lr_score.std(): .4f}')\n",
    "print(\"Recall metric in the testing dataset: \", cnf_matrix[1,1]/(cnf_matrix[1,0]+cnf_matrix[1,1]))\n",
    "\n",
    "# Plot non-normalized confusion matrix\n",
    "class_names = [0,1]\n",
    "plt.figure()\n",
    "plot_confusion_matrix(cnf_matrix\n",
    "                      , classes=class_names\n",
    "                      , title='Confusion matrix')\n",
    "plt.show()"
   ]
  },
  {
   "cell_type": "markdown",
   "metadata": {
    "papermill": {
     "duration": 0.163084,
     "end_time": "2020-10-09T16:35:41.580087",
     "exception": false,
     "start_time": "2020-10-09T16:35:41.417003",
     "status": "completed"
    },
    "tags": []
   },
   "source": [
    "# Random Forest"
   ]
  },
  {
   "cell_type": "code",
   "execution_count": 63,
   "metadata": {
    "_cell_guid": "9b176da5-c058-4903-aa22-f6713e9766c3",
    "_uuid": "2506af1f-8d93-4c7d-ad69-02b426a0132f",
    "execution": {
     "iopub.execute_input": "2020-10-09T16:35:41.915189Z",
     "iopub.status.busy": "2020-10-09T16:35:41.914350Z",
     "iopub.status.idle": "2020-10-09T16:36:32.960749Z",
     "shell.execute_reply": "2020-10-09T16:36:32.961410Z"
    },
    "papermill": {
     "duration": 51.222693,
     "end_time": "2020-10-09T16:36:32.961585",
     "exception": false,
     "start_time": "2020-10-09T16:35:41.738892",
     "status": "completed"
    },
    "scrolled": false,
    "tags": []
   },
   "outputs": [
    {
     "name": "stderr",
     "output_type": "stream",
     "text": [
      "/opt/conda/lib/python3.7/site-packages/ipykernel_launcher.py:4: DataConversionWarning: A column-vector y was passed when a 1d array was expected. Please change the shape of y to (n_samples,), for example using ravel().\n",
      "  after removing the cwd from sys.path.\n"
     ]
    },
    {
     "name": "stdout",
     "output_type": "stream",
     "text": [
      "Random Forest score:  0.99947 +/-  0.000172\n",
      "Recall metric in the testing dataset:  0.9795918367346939\n"
     ]
    },
    {
     "data": {
      "image/png": "[encoded data removed]",
      "text/plain": [
       "<Figure size 432x288 with 2 Axes>"
      ]
     },
     "metadata": {
      "needs_background": "light"
     },
     "output_type": "display_data"
    }
   ],
   "source": [
    "# Instantiate (start up) model\n",
    "rf = RandomForestClassifier(max_features = 'auto', n_estimators = 100, random_state=42)\n",
    "# Fit model on the training data\n",
    "rf.fit(X2_under_train, y2_under_train)\n",
    "\n",
    "# Score the model on it's accuracy using cross validation\n",
    "rf_score = cross_val_score(rf, X_test, y_test, cv=3)\n",
    "print(f'Random Forest score: {rf_score.mean(): .5f} +/- {2*rf_score.std(): .6f}')\n",
    "\n",
    "# Predicting the classes from the test set\n",
    "y_pred_rf = rf.predict(X_test.values)\n",
    "\n",
    "# Creating a confusion matrix\n",
    "cm_rf = confusion_matrix(y_test, y_pred_rf)\n",
    "# Visualizing the confusion matrix as a heatmap\n",
    "sns.heatmap(cm_rf/np.sum(cm_rf), annot=True, cmap='Blues',\n",
    "            fmt='.2%')\n",
    "plt.ylabel('True label')\n",
    "plt.xlabel('Predicted label');\n",
    "print (\"Recall metric in the testing dataset: \", recall_score(y_test, y_pred_rf))"
   ]
  },
  {
   "cell_type": "markdown",
   "metadata": {
    "_cell_guid": "6dbc7ab0-2040-4cbb-ac7f-731f0045b957",
    "_uuid": "61bd2989-1279-4058-a361-a9e77c32e204",
    "papermill": {
     "duration": 0.176018,
     "end_time": "2020-10-09T16:36:33.300451",
     "exception": false,
     "start_time": "2020-10-09T16:36:33.124433",
     "status": "completed"
    },
    "tags": []
   },
   "source": [
    "Previous Results\n",
    "         \n",
    "         CVS       Recall\n",
    "    LR   99.9       91.8\n",
    "    RF   99.94      96.94\n",
    "\n",
    "New Models\n",
    "         \n",
    "         CVS       Recall\n",
    "    LR   99.9       90.8\n",
    "    RF   99.947     98.0"
   ]
  },
  {
   "cell_type": "markdown",
   "metadata": {
    "_cell_guid": "7bc144a4-256c-4cc6-82a4-eaae32d399f4",
    "_uuid": "488d7362-91a9-4be5-a954-00b3d883db64",
    "papermill": {
     "duration": 0.164755,
     "end_time": "2020-10-09T16:36:33.628597",
     "exception": false,
     "start_time": "2020-10-09T16:36:33.463842",
     "status": "completed"
    },
    "tags": []
   },
   "source": [
    "Overall, there was not much improvement from previous results. I could potentially remove more features to test this but for now since the models still preformed pretty well I will conclude my work."
   ]
  },
  {
   "cell_type": "markdown",
   "metadata": {
    "_cell_guid": "a8b331c8-38d3-4662-b7ef-a2ff220fefe4",
    "_uuid": "17328e7e-bdbb-4bb2-b24b-7ea4494f7489",
    "papermill": {
     "duration": 0.163304,
     "end_time": "2020-10-09T16:36:33.956535",
     "exception": false,
     "start_time": "2020-10-09T16:36:33.793231",
     "status": "completed"
    },
    "tags": []
   },
   "source": [
    "# **Future Work**"
   ]
  },
  {
   "cell_type": "markdown",
   "metadata": {
    "_cell_guid": "149896ba-5365-4643-9cf8-735c7e20a309",
    "_uuid": "b9484709-46e8-44de-9382-adb167b225d1",
    "papermill": {
     "duration": 0.197983,
     "end_time": "2020-10-09T16:36:34.318666",
     "exception": false,
     "start_time": "2020-10-09T16:36:34.120683",
     "status": "completed"
    },
    "tags": []
   },
   "source": [
    "One area I did not address was outliers. I avoided this due to not losing data from the original DF and I didn't have a clear idea of what features I was working with due to privacy of confidential information. Therefore, to understand their impact I would need to do a boxplot on at least the features that were impactful (V14, V10, V17, V12)."
   ]
  },
  {
   "cell_type": "code",
   "execution_count": 64,
   "metadata": {
    "_cell_guid": "c181b134-fa9c-4239-8b9b-670233882d79",
    "_uuid": "e3b5204d-8ea8-4b16-bfcc-cd9b18ba5dc8",
    "execution": {
     "iopub.execute_input": "2020-10-09T16:36:34.679271Z",
     "iopub.status.busy": "2020-10-09T16:36:34.678151Z",
     "iopub.status.idle": "2020-10-09T16:36:35.432032Z",
     "shell.execute_reply": "2020-10-09T16:36:35.431004Z"
    },
    "papermill": {
     "duration": 0.946883,
     "end_time": "2020-10-09T16:36:35.432199",
     "exception": false,
     "start_time": "2020-10-09T16:36:34.485316",
     "status": "completed"
    },
    "scrolled": false,
    "tags": []
   },
   "outputs": [
    {
     "data": {
      "image/png": "[encoded data removed]",
      "text/plain": [
       "<Figure size 1440x288 with 4 Axes>"
      ]
     },
     "metadata": {
      "needs_background": "light"
     },
     "output_type": "display_data"
    }
   ],
   "source": [
    "f, axes = plt.subplots(ncols=4, figsize=(20,4))\n",
    "\n",
    "# Positive correlations (The higher the feature the probability increases that it will be a fraud transaction)\n",
    "sns.boxplot(x=\"Class\", y=\"V14\", data=new_data, palette=colors, ax=axes[0])\n",
    "axes[0].set_title('V14 vs Class Positive Correlation')\n",
    "\n",
    "sns.boxplot(x=\"Class\", y=\"V10\", data=new_data, palette=colors, ax=axes[1])\n",
    "axes[1].set_title('V10 vs Class Positive Correlation')\n",
    "\n",
    "\n",
    "sns.boxplot(x=\"Class\", y=\"V17\", data=new_data, palette=colors, ax=axes[2])\n",
    "axes[2].set_title('V17 vs Class Positive Correlation')\n",
    "\n",
    "\n",
    "sns.boxplot(x=\"Class\", y=\"V12\", data=new_data, palette=colors, ax=axes[3])\n",
    "axes[3].set_title('V12 vs Class Positive Correlation')\n",
    "\n",
    "plt.show()"
   ]
  },
  {
   "cell_type": "markdown",
   "metadata": {
    "_cell_guid": "eb680f83-562d-41e8-a335-d5bb4d04c618",
    "_uuid": "423cacf6-f904-4531-b507-510b4c9e024b",
    "papermill": {
     "duration": 0.178581,
     "end_time": "2020-10-09T16:36:35.800312",
     "exception": false,
     "start_time": "2020-10-09T16:36:35.621731",
     "status": "completed"
    },
    "tags": []
   },
   "source": [
    "As shown the data has many outliers present that could influence the results. Therefore, taking the log or square root of the data could improve model performance as some values are negative and Boxcox is not viable. Another option done by another kaggle users for this dataset is to manipulate the IQR by changing the threshold."
   ]
  },
  {
   "cell_type": "markdown",
   "metadata": {
    "_cell_guid": "cf48ab1f-9155-46da-abbe-ed78ddf3711c",
    "_uuid": "53ed0241-b684-42f2-8d62-912282a06510",
    "papermill": {
     "duration": 0.177219,
     "end_time": "2020-10-09T16:36:36.147052",
     "exception": false,
     "start_time": "2020-10-09T16:36:35.969833",
     "status": "completed"
    },
    "tags": []
   },
   "source": [
    "Another thing I did not explore due to the models performaning fairly well with undersampling is performing oversampling or SMOTE (Synthetic Minority Over-sampling Technique). Both could be applied and yield different results from what I have done."
   ]
  },
  {
   "cell_type": "markdown",
   "metadata": {
    "_cell_guid": "6c6960f8-0d7b-4aad-946f-4196a51c4973",
    "_uuid": "a0f2662a-f6f0-4311-9c22-eaa4d3311f3d",
    "papermill": {
     "duration": 0.170697,
     "end_time": "2020-10-09T16:36:36.493281",
     "exception": false,
     "start_time": "2020-10-09T16:36:36.322584",
     "status": "completed"
    },
    "tags": []
   },
   "source": [
    "Other Ideas:\n",
    "\n",
    "1. Run some statistical hypothesis tests on our features to determine if there is statistical significance in their difference between risk buckets.\n",
    "2. Use different metrics to evaluate your baseline classification models and determine the best model more objectively.\n",
    "3. Tune the hyperparameters on your best model to improve model performance."
   ]
  }
 ],
 "metadata": {
  "kernelspec": {
   "display_name": "Python 3",
   "language": "python",
   "name": "python3"
  },
  "language_info": {
   "codemirror_mode": {
    "name": "ipython",
    "version": 3
   },
   "file_extension": ".py",
   "mimetype": "text/x-python",
   "name": "python",
   "nbconvert_exporter": "python",
   "pygments_lexer": "ipython3",
   "version": "3.7.6"
  },
  "papermill": {
   "duration": 749.098474,
   "end_time": "2020-10-09T16:36:36.771834",
   "environment_variables": {},
   "exception": null,
   "input_path": "__notebook__.ipynb",
   "output_path": "__notebook__.ipynb",
   "parameters": {},
   "start_time": "2020-10-09T16:24:07.673360",
   "version": "2.1.0"
  }
 },
 "nbformat": 4,
 "nbformat_minor": 4
}
